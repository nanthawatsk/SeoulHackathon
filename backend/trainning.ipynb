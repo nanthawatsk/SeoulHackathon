{
  "cells": [
    {
      "cell_type": "markdown",
      "metadata": {
        "id": "C6sVdrs59W9f"
      },
      "source": [
        "# Initial Library\n"
      ]
    },
    {
      "cell_type": "code",
      "execution_count": null,
      "metadata": {
        "colab": {
          "base_uri": "https://localhost:8080/"
        },
        "id": "bK76gN1xA6VS",
        "outputId": "05c409bf-83c4-4f40-be75-7806527eb196"
      },
      "outputs": [
        {
          "name": "stdout",
          "output_type": "stream",
          "text": [
            "Thu Sep  5 12:57:14 2024       \n",
            "+---------------------------------------------------------------------------------------+\n",
            "| NVIDIA-SMI 535.104.05             Driver Version: 535.104.05   CUDA Version: 12.2     |\n",
            "|-----------------------------------------+----------------------+----------------------+\n",
            "| GPU  Name                 Persistence-M | Bus-Id        Disp.A | Volatile Uncorr. ECC |\n",
            "| Fan  Temp   Perf          Pwr:Usage/Cap |         Memory-Usage | GPU-Util  Compute M. |\n",
            "|                                         |                      |               MIG M. |\n",
            "|=========================================+======================+======================|\n",
            "|   0  Tesla T4                       Off | 00000000:00:04.0 Off |                    0 |\n",
            "| N/A   38C    P8              10W /  70W |      0MiB / 15360MiB |      0%      Default |\n",
            "|                                         |                      |                  N/A |\n",
            "+-----------------------------------------+----------------------+----------------------+\n",
            "                                                                                         \n",
            "+---------------------------------------------------------------------------------------+\n",
            "| Processes:                                                                            |\n",
            "|  GPU   GI   CI        PID   Type   Process name                            GPU Memory |\n",
            "|        ID   ID                                                             Usage      |\n",
            "|=======================================================================================|\n",
            "|  No running processes found                                                           |\n",
            "+---------------------------------------------------------------------------------------+\n"
          ]
        }
      ],
      "source": [
        "!nvidia-smi"
      ]
    },
    {
      "cell_type": "code",
      "execution_count": null,
      "metadata": {
        "colab": {
          "base_uri": "https://localhost:8080/"
        },
        "id": "K3tSJmO-CFx9",
        "outputId": "a73dd376-0114-42e8-ad56-64b458a5584c"
      },
      "outputs": [
        {
          "name": "stdout",
          "output_type": "stream",
          "text": [
            "/content\n"
          ]
        }
      ],
      "source": [
        "import os\n",
        "HOME = os.getcwd()\n",
        "print(HOME)\n"
      ]
    },
    {
      "cell_type": "code",
      "execution_count": null,
      "metadata": {
        "colab": {
          "base_uri": "https://localhost:8080/"
        },
        "id": "bojtmY42CGlh",
        "outputId": "a21f60df-bfc5-456d-f430-2d55ea502746"
      },
      "outputs": [
        {
          "name": "stdout",
          "output_type": "stream",
          "text": [
            "Ultralytics YOLOv8.2.87 🚀 Python-3.10.12 torch-2.4.0+cu121 CUDA:0 (Tesla T4, 15102MiB)\n",
            "Setup complete ✅ (8 CPUs, 51.0 GB RAM, 33.0/201.2 GB disk)\n"
          ]
        }
      ],
      "source": [
        "!pip install ultralytics\n",
        "!pip install -r requirements.txt\n",
        "from IPython import display\n",
        "display.clear_output()\n",
        "\n",
        "import ultralytics\n",
        "ultralytics.checks()"
      ]
    },
    {
      "cell_type": "code",
      "execution_count": null,
      "metadata": {
        "id": "N6DmYx3OCOee"
      },
      "outputs": [],
      "source": [
        "from ultralytics import YOLO\n",
        "\n",
        "from IPython.display import display, Image"
      ]
    },
    {
      "cell_type": "code",
      "execution_count": null,
      "metadata": {
        "colab": {
          "base_uri": "https://localhost:8080/"
        },
        "id": "IC3ucK43D2jP",
        "outputId": "f3187b04-22ba-4213-a007-a6c0cb4c94f5"
      },
      "outputs": [
        {
          "name": "stdout",
          "output_type": "stream",
          "text": [
            "Drive already mounted at /content/drive; to attempt to forcibly remount, call drive.mount(\"/content/drive\", force_remount=True).\n"
          ]
        }
      ],
      "source": [
        "from google.colab import drive\n",
        "drive.mount('/content/drive')"
      ]
    },
    {
      "cell_type": "markdown",
      "metadata": {
        "id": "vwkgrapnP7Cc"
      },
      "source": [
        "# Download Dataset\n"
      ]
    },
    {
      "cell_type": "code",
      "execution_count": null,
      "metadata": {
        "id": "nUACwDURQBHj"
      },
      "outputs": [],
      "source": [
        "cp -r /content/drive/MyDrive/seoul-impact/data ."
      ]
    },
    {
      "cell_type": "code",
      "execution_count": null,
      "metadata": {
        "colab": {
          "base_uri": "https://localhost:8080/"
        },
        "id": "8S4mbn-0S389",
        "outputId": "ae9aae2f-cf41-4a7f-ab44-3e9f984d3684"
      },
      "outputs": [
        {
          "name": "stdout",
          "output_type": "stream",
          "text": [
            "  adding: content/data/ (stored 0%)\n",
            "  adding: content/data/val/ (stored 0%)\n",
            "  adding: content/data/val/Non Accident/ (stored 0%)\n",
            "  adding: content/data/val/Non Accident/test29_22.jpg (deflated 0%)\n",
            "  adding: content/data/val/Non Accident/test25_10.jpg (deflated 0%)\n",
            "  adding: content/data/val/Non Accident/test28_14.jpg (deflated 1%)\n",
            "  adding: content/data/val/Non Accident/test15_18.jpg (deflated 1%)\n",
            "  adding: content/data/val/Non Accident/5_16.jpg (deflated 1%)\n",
            "  adding: content/data/val/Non Accident/test26_11.jpg (deflated 0%)\n",
            "  adding: content/data/val/Non Accident/test25_17.jpg (deflated 0%)\n",
            "  adding: content/data/val/Non Accident/test9_15.jpg (deflated 0%)\n",
            "  adding: content/data/val/Non Accident/test24_8.jpg (deflated 0%)\n",
            "  adding: content/data/val/Non Accident/test3_25.jpg (deflated 1%)\n",
            "  adding: content/data/val/Non Accident/test25_22.jpg (deflated 0%)\n",
            "  adding: content/data/val/Non Accident/test8_24.jpg (deflated 0%)\n",
            "  adding: content/data/val/Non Accident/test14_3.jpg (deflated 0%)\n",
            "  adding: content/data/val/Non Accident/test4_2.jpg (deflated 0%)\n",
            "  adding: content/data/val/Non Accident/test_17.jpg (deflated 0%)\n",
            "  adding: content/data/val/Non Accident/test24_13.jpg (deflated 0%)\n",
            "  adding: content/data/val/Non Accident/test24_1.jpg (deflated 0%)\n",
            "  adding: content/data/val/Non Accident/5_26.jpg (deflated 0%)\n",
            "  adding: content/data/val/Non Accident/test15_27.jpg (deflated 1%)\n",
            "  adding: content/data/val/Non Accident/test26_8.jpg (deflated 0%)\n",
            "  adding: content/data/val/Non Accident/test11_49.jpg (deflated 1%)\n",
            "  adding: content/data/val/Non Accident/test7_43.jpg (deflated 1%)\n",
            "  adding: content/data/val/Non Accident/test9_12.jpg (deflated 0%)\n",
            "  adding: content/data/val/Non Accident/test10_3.jpg (deflated 0%)\n",
            "  adding: content/data/val/Non Accident/test17_29.jpg (deflated 0%)\n",
            "  adding: content/data/val/Non Accident/test22_17.jpg (deflated 0%)\n",
            "  adding: content/data/val/Non Accident/test16_12.jpg (deflated 2%)\n",
            "  adding: content/data/val/Non Accident/test22_19.jpg (deflated 0%)\n",
            "  adding: content/data/val/Non Accident/test8_9.jpg (deflated 0%)\n",
            "  adding: content/data/val/Non Accident/test4_57.jpg (deflated 0%)\n",
            "  adding: content/data/val/Non Accident/test4_5.jpg (deflated 0%)\n",
            "  adding: content/data/val/Non Accident/test30_5.jpg (deflated 0%)\n",
            "  adding: content/data/val/Non Accident/test7_37.jpg (deflated 1%)\n",
            "  adding: content/data/val/Non Accident/test10_1.jpg (deflated 1%)\n",
            "  adding: content/data/val/Non Accident/test9_6.jpg (deflated 0%)\n",
            "  adding: content/data/val/Non Accident/test25_5.jpg (deflated 0%)\n",
            "  adding: content/data/val/Non Accident/test4_19.jpg (deflated 0%)\n",
            "  adding: content/data/val/Non Accident/test_22.jpg (deflated 0%)\n",
            "  adding: content/data/val/Non Accident/test20_7.jpg (deflated 0%)\n",
            "  adding: content/data/val/Non Accident/test7_1.jpg (deflated 0%)\n",
            "  adding: content/data/val/Non Accident/test14_5.jpg (deflated 0%)\n",
            "  adding: content/data/val/Non Accident/test4_21.jpg (deflated 0%)\n",
            "  adding: content/data/val/Non Accident/test28_13.jpg (deflated 1%)\n",
            "  adding: content/data/val/Non Accident/5_22.jpg (deflated 1%)\n",
            "  adding: content/data/val/Non Accident/test3_5.jpg (deflated 1%)\n",
            "  adding: content/data/val/Non Accident/test26_2.jpg (deflated 0%)\n",
            "  adding: content/data/val/Non Accident/test8_23.jpg (deflated 0%)\n",
            "  adding: content/data/val/Non Accident/test18_6.jpg (deflated 0%)\n",
            "  adding: content/data/val/Non Accident/test18_12.jpg (deflated 0%)\n",
            "  adding: content/data/val/Non Accident/test4_14.jpg (deflated 0%)\n",
            "  adding: content/data/val/Non Accident/test29_18.jpg (deflated 0%)\n",
            "  adding: content/data/val/Non Accident/test9_8.jpg (deflated 0%)\n",
            "  adding: content/data/val/Accident/ (stored 0%)\n",
            "  adding: content/data/val/Accident/acc1 (6).jpg (deflated 0%)\n",
            "  adding: content/data/val/Accident/test22_27.jpg (deflated 0%)\n",
            "  adding: content/data/val/Accident/test27_18.jpg (deflated 0%)\n",
            "  adding: content/data/val/Accident/test26_22.jpg (deflated 0%)\n",
            "  adding: content/data/val/Accident/test26_26.jpg (deflated 0%)\n",
            "  adding: content/data/val/Accident/test27_9.jpg (deflated 0%)\n",
            "  adding: content/data/val/Accident/test_45.jpg (deflated 0%)\n",
            "  adding: content/data/val/Accident/test15_9.jpg (deflated 1%)\n",
            "  adding: content/data/val/Accident/test4_47.jpg (deflated 0%)\n",
            "  adding: content/data/val/Accident/test10_27.jpg (deflated 1%)\n",
            "  adding: content/data/val/Accident/test13_20.jpg (deflated 1%)\n",
            "  adding: content/data/val/Accident/acc1 (4).jpg (deflated 0%)\n",
            "  adding: content/data/val/Accident/test27_35.jpg (deflated 0%)\n",
            "  adding: content/data/val/Accident/test_30.jpg (deflated 0%)\n",
            "  adding: content/data/val/Accident/test2_23.jpg (deflated 0%)\n",
            "  adding: content/data/val/Accident/test_37.jpg (deflated 0%)\n",
            "  adding: content/data/val/Accident/test24_41.jpg (deflated 0%)\n",
            "  adding: content/data/val/Accident/test10_23.jpg (deflated 1%)\n",
            "  adding: content/data/val/Accident/test3_26.jpg (deflated 1%)\n",
            "  adding: content/data/val/Accident/test13_18.jpg (deflated 1%)\n",
            "  adding: content/data/val/Accident/test21_22.jpg (deflated 0%)\n",
            "  adding: content/data/val/Accident/test14_19.jpg (deflated 0%)\n",
            "  adding: content/data/val/Accident/test7_32.jpg (deflated 1%)\n",
            "  adding: content/data/val/Accident/test_26.jpg (deflated 0%)\n",
            "  adding: content/data/val/Accident/test28_18.jpg (deflated 0%)\n",
            "  adding: content/data/val/Accident/test30_13.jpg (deflated 0%)\n",
            "  adding: content/data/val/Accident/test16_28.jpg (deflated 1%)\n",
            "  adding: content/data/val/Accident/test_41.jpg (deflated 0%)\n",
            "  adding: content/data/val/Accident/test28_31.jpg (deflated 0%)\n",
            "  adding: content/data/val/Accident/test18_25.jpg (deflated 0%)\n",
            "  adding: content/data/val/Accident/test14_11.jpg (deflated 0%)\n",
            "  adding: content/data/val/Accident/test27_21.jpg (deflated 0%)\n",
            "  adding: content/data/val/Accident/test10_54.jpg (deflated 0%)\n",
            "  adding: content/data/val/Accident/test29_15.jpg (deflated 0%)\n",
            "  adding: content/data/val/Accident/test10_22.jpg (deflated 1%)\n",
            "  adding: content/data/val/Accident/test25_31.jpg (deflated 0%)\n",
            "  adding: content/data/val/Accident/test26_15.jpg (deflated 0%)\n",
            "  adding: content/data/val/Accident/test27_26.jpg (deflated 0%)\n",
            "  adding: content/data/val/Accident/test_35.jpg (deflated 0%)\n",
            "  adding: content/data/val/Accident/test23_15.jpg (deflated 1%)\n",
            "  adding: content/data/val/Accident/test27_17.jpg (deflated 0%)\n",
            "  adding: content/data/val/Accident/test28_29.jpg (deflated 1%)\n",
            "  adding: content/data/val/Accident/test10_36.jpg (deflated 0%)\n",
            "  adding: content/data/val/Accident/test10_34.jpg (deflated 0%)\n",
            "  adding: content/data/val/Accident/test26_12.jpg (deflated 0%)\n",
            "  adding: content/data/val/Accident/test23_18.jpg (deflated 1%)\n",
            "  adding: content/data/train/ (stored 0%)\n",
            "  adding: content/data/train/Non Accident/ (stored 0%)\n",
            "  adding: content/data/train/Non Accident/test7_21.jpg (deflated 1%)\n",
            "  adding: content/data/train/Non Accident/5_13.jpg (deflated 4%)\n",
            "  adding: content/data/train/Non Accident/test30_6.jpg (deflated 0%)\n",
            "  adding: content/data/train/Non Accident/test25_8.jpg (deflated 0%)\n",
            "  adding: content/data/train/Non Accident/test22_9.jpg (deflated 0%)\n",
            "  adding: content/data/train/Non Accident/test4_55.jpg (deflated 0%)\n",
            "  adding: content/data/train/Non Accident/test11_5.jpg (deflated 1%)\n",
            "  adding: content/data/train/Non Accident/test3_34.jpg (deflated 1%)\n",
            "  adding: content/data/train/Non Accident/test16_13.jpg (deflated 2%)\n",
            "  adding: content/data/train/Non Accident/test3_13.jpg (deflated 1%)\n",
            "  adding: content/data/train/Non Accident/test17_7.jpg (deflated 0%)\n",
            "  adding: content/data/train/Non Accident/test7_6.jpg (deflated 0%)\n",
            "  adding: content/data/train/Non Accident/test19_6.jpg (deflated 0%)\n",
            "  adding: content/data/train/Non Accident/test19_18.jpg (deflated 0%)\n",
            "  adding: content/data/train/Non Accident/test24_19.jpg (deflated 0%)\n",
            "  adding: content/data/train/Non Accident/test7_46.jpg (deflated 1%)\n",
            "  adding: content/data/train/Non Accident/test25_6.jpg (deflated 0%)\n",
            "  adding: content/data/train/Non Accident/test15_21.jpg (deflated 1%)\n",
            "  adding: content/data/train/Non Accident/5_5.jpg (deflated 11%)\n",
            "  adding: content/data/train/Non Accident/test14_23.jpg (deflated 0%)\n",
            "  adding: content/data/train/Non Accident/test27_6.jpg (deflated 0%)\n",
            "  adding: content/data/train/Non Accident/test13_8.jpg (deflated 1%)\n",
            "  adding: content/data/train/Non Accident/test3_37.jpg (deflated 1%)\n",
            "  adding: content/data/train/Non Accident/test7_13.jpg (deflated 1%)\n",
            "  adding: content/data/train/Non Accident/test15_19.jpg (deflated 1%)\n",
            "  adding: content/data/train/Non Accident/test16_10.jpg (deflated 3%)\n",
            "  adding: content/data/train/Non Accident/test30_4.jpg (deflated 0%)\n",
            "  adding: content/data/train/Non Accident/test_7.jpg (deflated 0%)\n",
            "  adding: content/data/train/Non Accident/test7_40.jpg (deflated 1%)\n",
            "  adding: content/data/train/Non Accident/test15_30.jpg (deflated 1%)\n",
            "  adding: content/data/train/Non Accident/test_24.jpg (deflated 0%)\n",
            "  adding: content/data/train/Non Accident/test1_15.jpg (deflated 1%)\n",
            "  adding: content/data/train/Non Accident/5_28.jpg (deflated 0%)\n",
            "  adding: content/data/train/Non Accident/test17_5.jpg (deflated 0%)\n",
            "  adding: content/data/train/Non Accident/test11_46.jpg (deflated 1%)\n",
            "  adding: content/data/train/Non Accident/test4_59.jpg (deflated 0%)\n",
            "  adding: content/data/train/Non Accident/test7_45.jpg (deflated 1%)\n",
            "  adding: content/data/train/Non Accident/test_3.jpg (deflated 1%)\n",
            "  adding: content/data/train/Non Accident/test_4.jpg (deflated 0%)\n",
            "  adding: content/data/train/Non Accident/test_14.jpg (deflated 0%)\n",
            "  adding: content/data/train/Non Accident/test1_1.jpg (deflated 1%)\n",
            "  adding: content/data/train/Non Accident/test10_6.jpg (deflated 0%)\n",
            "  adding: content/data/train/Non Accident/test9_11.jpg (deflated 0%)\n",
            "  adding: content/data/train/Non Accident/test8_5.jpg (deflated 0%)\n",
            "  adding: content/data/train/Non Accident/test27_60.jpg (deflated 0%)\n",
            "  adding: content/data/train/Non Accident/test_20.jpg (deflated 0%)\n",
            "  adding: content/data/train/Non Accident/test28_7.jpg (deflated 1%)\n",
            "  adding: content/data/train/Non Accident/test7_4.jpg (deflated 0%)\n",
            "  adding: content/data/train/Non Accident/test3_20.jpg (deflated 1%)\n",
            "  adding: content/data/train/Non Accident/test11_61.jpg (deflated 1%)\n",
            "  adding: content/data/train/Non Accident/test20_13.jpg (deflated 0%)\n",
            "  adding: content/data/train/Non Accident/test9_4.jpg (deflated 0%)\n",
            "  adding: content/data/train/Non Accident/test11_57.jpg (deflated 1%)\n",
            "  adding: content/data/train/Non Accident/test7_41.jpg (deflated 1%)\n",
            "  adding: content/data/train/Non Accident/test4_15.jpg (deflated 0%)\n",
            "  adding: content/data/train/Non Accident/test16_18.jpg (deflated 1%)\n",
            "  adding: content/data/train/Non Accident/5_25.jpg (deflated 1%)\n",
            "  adding: content/data/train/Non Accident/test18_11.jpg (deflated 0%)\n",
            "  adding: content/data/train/Non Accident/test23_4.jpg (deflated 1%)\n",
            "  adding: content/data/train/Non Accident/test15_25.jpg (deflated 1%)\n",
            "  adding: content/data/train/Non Accident/test7_5.jpg (deflated 0%)\n",
            "  adding: content/data/train/Non Accident/test7_34.jpg (deflated 1%)\n",
            "  adding: content/data/train/Non Accident/test22_8.jpg (deflated 0%)\n",
            "  adding: content/data/train/Non Accident/test29_30.jpg (deflated 0%)\n",
            "  adding: content/data/train/Non Accident/test26_10.jpg (deflated 0%)\n",
            "  adding: content/data/train/Non Accident/test19_7.jpg (deflated 0%)\n",
            "  adding: content/data/train/Non Accident/test11_3.jpg (deflated 1%)\n",
            "  adding: content/data/train/Non Accident/test7_48.jpg (deflated 1%)\n",
            "  adding: content/data/train/Non Accident/test4_26.jpg (deflated 0%)\n",
            "  adding: content/data/train/Non Accident/test29_5.jpg (deflated 0%)\n",
            "  adding: content/data/train/Non Accident/5_30.jpg (deflated 0%)\n",
            "  adding: content/data/train/Non Accident/test28_12.jpg (deflated 1%)\n",
            "  adding: content/data/train/Non Accident/test27_59.jpg (deflated 0%)\n",
            "  adding: content/data/train/Non Accident/test11_47.jpg (deflated 1%)\n",
            "  adding: content/data/train/Non Accident/test20_9.jpg (deflated 0%)\n",
            "  adding: content/data/train/Non Accident/test16_3.jpg (deflated 1%)\n",
            "  adding: content/data/train/Non Accident/test30_3.jpg (deflated 0%)\n",
            "  adding: content/data/train/Non Accident/test18_2.jpg (deflated 0%)\n",
            "  adding: content/data/train/Non Accident/test9_23.jpg (deflated 0%)\n",
            "  adding: content/data/train/Non Accident/test22_5.jpg (deflated 0%)\n",
            "  adding: content/data/train/Non Accident/test12_2.jpg (deflated 0%)\n",
            "  adding: content/data/train/Non Accident/test9_19.jpg (deflated 0%)\n",
            "  adding: content/data/train/Non Accident/test26_4.jpg (deflated 0%)\n",
            "  adding: content/data/train/Non Accident/test7_15.jpg (deflated 1%)\n",
            "  adding: content/data/train/Non Accident/test_46.jpg (deflated 0%)\n",
            "  adding: content/data/train/Non Accident/test20_5.jpg (deflated 0%)\n",
            "  adding: content/data/train/Non Accident/test22_7.jpg (deflated 0%)\n",
            "  adding: content/data/train/Non Accident/test9_17.jpg (deflated 0%)\n",
            "  adding: content/data/train/Non Accident/test17_9.jpg (deflated 0%)\n",
            "  adding: content/data/train/Non Accident/test3_38.jpg (deflated 1%)\n",
            "  adding: content/data/train/Non Accident/test14_25.jpg (deflated 0%)\n",
            "  adding: content/data/train/Non Accident/test3_36.jpg (deflated 1%)\n",
            "  adding: content/data/train/Non Accident/test11_59.jpg (deflated 1%)\n",
            "  adding: content/data/train/Non Accident/test19_2.jpg (deflated 0%)\n",
            "  adding: content/data/train/Non Accident/test7_16.jpg (deflated 1%)\n",
            "  adding: content/data/train/Non Accident/test12_9.jpg (deflated 0%)\n",
            "  adding: content/data/train/Non Accident/test_16.jpg (deflated 0%)\n",
            "  adding: content/data/train/Non Accident/test23_3.jpg (deflated 1%)\n",
            "  adding: content/data/train/Non Accident/test10_4.jpg (deflated 0%)\n",
            "  adding: content/data/train/Non Accident/test15_31.jpg (deflated 1%)\n",
            "  adding: content/data/train/Non Accident/test22_10.jpg (deflated 0%)\n",
            "  adding: content/data/train/Non Accident/test13_31.jpg (deflated 1%)\n",
            "  adding: content/data/train/Non Accident/test9_5.jpg (deflated 0%)\n",
            "  adding: content/data/train/Non Accident/test24_17.jpg (deflated 0%)\n",
            "  adding: content/data/train/Non Accident/test8_20.jpg (deflated 0%)\n",
            "  adding: content/data/train/Non Accident/test7_60.jpg (deflated 1%)\n",
            "  adding: content/data/train/Non Accident/test7_20.jpg (deflated 1%)\n",
            "  adding: content/data/train/Non Accident/test25_7.jpg (deflated 0%)\n",
            "  adding: content/data/train/Non Accident/test11_11.jpg (deflated 1%)\n",
            "  adding: content/data/train/Non Accident/test27_4.jpg (deflated 0%)\n",
            "  adding: content/data/train/Non Accident/test25_11.jpg (deflated 0%)\n",
            "  adding: content/data/train/Non Accident/test_10.jpg (deflated 0%)\n",
            "  adding: content/data/train/Non Accident/test28_8.jpg (deflated 1%)\n",
            "  adding: content/data/train/Non Accident/test10_8.jpg (deflated 0%)\n",
            "  adding: content/data/train/Non Accident/test20_8.jpg (deflated 0%)\n",
            "  adding: content/data/train/Non Accident/test19_5.jpg (deflated 0%)\n",
            "  adding: content/data/train/Non Accident/test23_7.jpg (deflated 1%)\n",
            "  adding: content/data/train/Non Accident/test15_22.jpg (deflated 1%)\n",
            "  adding: content/data/train/Non Accident/test4_1.jpg (deflated 0%)\n",
            "  adding: content/data/train/Non Accident/test17_13.jpg (deflated 0%)\n",
            "  adding: content/data/train/Non Accident/test1_13.jpg (deflated 1%)\n",
            "  adding: content/data/train/Non Accident/test24_7.jpg (deflated 0%)\n",
            "  adding: content/data/train/Non Accident/test11_48.jpg (deflated 1%)\n",
            "  adding: content/data/train/Non Accident/test3_22.jpg (deflated 1%)\n",
            "  adding: content/data/train/Non Accident/test17_4.jpg (deflated 0%)\n",
            "  adding: content/data/train/Non Accident/test24_3.jpg (deflated 0%)\n",
            "  adding: content/data/train/Non Accident/test1_5.jpg (deflated 1%)\n",
            "  adding: content/data/train/Non Accident/5_12.jpg (deflated 1%)\n",
            "  adding: content/data/train/Non Accident/test16_6.jpg (deflated 4%)\n",
            "  adding: content/data/train/Non Accident/test9_14.jpg (deflated 0%)\n",
            "  adding: content/data/train/Non Accident/test4_52.jpg (deflated 0%)\n",
            "  adding: content/data/train/Non Accident/test9_2.jpg (deflated 0%)\n",
            "  adding: content/data/train/Non Accident/test15_17.jpg (deflated 1%)\n",
            "  adding: content/data/train/Non Accident/test11_43.jpg (deflated 1%)\n",
            "  adding: content/data/train/Non Accident/test11_39.jpg (deflated 1%)\n",
            "  adding: content/data/train/Non Accident/5_10.jpg (deflated 1%)\n",
            "  adding: content/data/train/Non Accident/test20_11.jpg (deflated 0%)\n",
            "  adding: content/data/train/Non Accident/test17_3.jpg (deflated 0%)\n",
            "  adding: content/data/train/Non Accident/test8_8.jpg (deflated 0%)\n",
            "  adding: content/data/train/Non Accident/test7_8.jpg (deflated 1%)\n",
            "  adding: content/data/train/Non Accident/test7_11.jpg (deflated 0%)\n",
            "  adding: content/data/train/Non Accident/test17_28.jpg (deflated 0%)\n",
            "  adding: content/data/train/Non Accident/test4_58.jpg (deflated 0%)\n",
            "  adding: content/data/train/Non Accident/test19_10.jpg (deflated 0%)\n",
            "  adding: content/data/train/Non Accident/test18_3.jpg (deflated 0%)\n",
            "  adding: content/data/train/Non Accident/test28_2.jpg (deflated 1%)\n",
            "  adding: content/data/train/Non Accident/test19_14.jpg (deflated 0%)\n",
            "  adding: content/data/train/Non Accident/test1_6.jpg (deflated 0%)\n",
            "  adding: content/data/train/Non Accident/test15_26.jpg (deflated 1%)\n",
            "  adding: content/data/train/Non Accident/test3_17.jpg (deflated 1%)\n",
            "  adding: content/data/train/Non Accident/test3_42.jpg (deflated 1%)\n",
            "  adding: content/data/train/Non Accident/test20_4.jpg (deflated 0%)\n",
            "  adding: content/data/train/Non Accident/test13_2.jpg (deflated 1%)\n",
            "  adding: content/data/train/Non Accident/test20_1.jpg (deflated 0%)\n",
            "  adding: content/data/train/Non Accident/test19_8.jpg (deflated 0%)\n",
            "  adding: content/data/train/Non Accident/test_21.jpg (deflated 0%)\n",
            "  adding: content/data/train/Non Accident/test11_15.jpg (deflated 1%)\n",
            "  adding: content/data/train/Non Accident/test7_17.jpg (deflated 0%)\n",
            "  adding: content/data/train/Non Accident/test4_7.jpg (deflated 0%)\n",
            "  adding: content/data/train/Non Accident/test14_4.jpg (deflated 0%)\n",
            "  adding: content/data/train/Non Accident/test1_14.jpg (deflated 1%)\n",
            "  adding: content/data/train/Non Accident/test29_21.jpg (deflated 0%)\n",
            "  adding: content/data/train/Non Accident/test10_7.jpg (deflated 0%)\n",
            "  adding: content/data/train/Non Accident/test13_9.jpg (deflated 1%)\n",
            "  adding: content/data/train/Non Accident/test19_21.jpg (deflated 0%)\n",
            "  adding: content/data/train/Non Accident/test8_10.jpg (deflated 0%)\n",
            "  adding: content/data/train/Non Accident/test29_29.jpg (deflated 0%)\n",
            "  adding: content/data/train/Non Accident/test9_22.jpg (deflated 0%)\n",
            "  adding: content/data/train/Non Accident/test17_25.jpg (deflated 0%)\n",
            "  adding: content/data/train/Non Accident/test1_4.jpg (deflated 1%)\n",
            "  adding: content/data/train/Non Accident/test27_1.jpg (deflated 0%)\n",
            "  adding: content/data/train/Non Accident/test4_51.jpg (deflated 0%)\n",
            "  adding: content/data/train/Non Accident/test11_40.jpg (deflated 1%)\n",
            "  adding: content/data/train/Non Accident/test4_24.jpg (deflated 0%)\n",
            "  adding: content/data/train/Non Accident/test11_2.jpg (deflated 1%)\n",
            "  adding: content/data/train/Non Accident/test22_11.jpg (deflated 0%)\n",
            "  adding: content/data/train/Non Accident/test19_3.jpg (deflated 0%)\n",
            "  adding: content/data/train/Non Accident/test_9.jpg (deflated 0%)\n",
            "  adding: content/data/train/Non Accident/test8_1.jpg (deflated 0%)\n",
            "  adding: content/data/train/Non Accident/test29_23.jpg (deflated 0%)\n",
            "  adding: content/data/train/Non Accident/test24_2.jpg (deflated 0%)\n",
            "  adding: content/data/train/Non Accident/test23_5.jpg (deflated 1%)\n",
            "  adding: content/data/train/Non Accident/test12_11.jpg (deflated 0%)\n",
            "  adding: content/data/train/Non Accident/test20_6.jpg (deflated 0%)\n",
            "  adding: content/data/train/Non Accident/test7_18.jpg (deflated 1%)\n",
            "  adding: content/data/train/Non Accident/test22_12.jpg (deflated 0%)\n",
            "  adding: content/data/train/Non Accident/test16_1.jpg (deflated 1%)\n",
            "  adding: content/data/train/Non Accident/test7_51.jpg (deflated 1%)\n",
            "  adding: content/data/train/Non Accident/test22_6.jpg (deflated 0%)\n",
            "  adding: content/data/train/Non Accident/test18_7.jpg (deflated 0%)\n",
            "  adding: content/data/train/Non Accident/test25_14.jpg (deflated 0%)\n",
            "  adding: content/data/train/Non Accident/test7_59.jpg (deflated 1%)\n",
            "  adding: content/data/train/Non Accident/test_11.jpg (deflated 0%)\n",
            "  adding: content/data/train/Non Accident/test22_15.jpg (deflated 0%)\n",
            "  adding: content/data/train/Non Accident/test9_16.jpg (deflated 0%)\n",
            "  adding: content/data/train/Non Accident/test19_16.jpg (deflated 0%)\n",
            "  adding: content/data/train/Non Accident/test3_35.jpg (deflated 1%)\n",
            "  adding: content/data/train/Non Accident/test20_2.jpg (deflated 0%)\n",
            "  adding: content/data/train/Non Accident/test16_14.jpg (deflated 2%)\n",
            "  adding: content/data/train/Non Accident/test9_10.jpg (deflated 0%)\n",
            "  adding: content/data/train/Non Accident/test11_16.jpg (deflated 1%)\n",
            "  adding: content/data/train/Non Accident/test13_5.jpg (deflated 1%)\n",
            "  adding: content/data/train/Non Accident/test12_10.jpg (deflated 0%)\n",
            "  adding: content/data/train/Non Accident/test7_36.jpg (deflated 1%)\n",
            "  adding: content/data/train/Non Accident/test20_12.jpg (deflated 0%)\n",
            "  adding: content/data/train/Non Accident/test17_10.jpg (deflated 0%)\n",
            "  adding: content/data/train/Non Accident/test16_15.jpg (deflated 1%)\n",
            "  adding: content/data/train/Non Accident/test17_2.jpg (deflated 0%)\n",
            "  adding: content/data/train/Non Accident/test9_9.jpg (deflated 0%)\n",
            "  adding: content/data/train/Non Accident/test11_13.jpg (deflated 1%)\n",
            "  adding: content/data/train/Non Accident/test20_3.jpg (deflated 0%)\n",
            "  adding: content/data/train/Non Accident/test7_33.jpg (deflated 1%)\n",
            "  adding: content/data/train/Non Accident/test7_23.jpg (deflated 1%)\n",
            "  adding: content/data/train/Non Accident/test7_19.jpg (deflated 0%)\n",
            "  adding: content/data/train/Non Accident/test26_9.jpg (deflated 0%)\n",
            "  adding: content/data/train/Non Accident/test3_15.jpg (deflated 1%)\n",
            "  adding: content/data/train/Non Accident/test25_9.jpg (deflated 0%)\n",
            "  adding: content/data/train/Non Accident/test26_6.jpg (deflated 0%)\n",
            "  adding: content/data/train/Non Accident/test7_7.jpg (deflated 0%)\n",
            "  adding: content/data/train/Non Accident/5_8.jpg (deflated 2%)\n",
            "  adding: content/data/train/Non Accident/test27_3.jpg (deflated 0%)\n",
            "  adding: content/data/train/Non Accident/test4_13.jpg (deflated 0%)\n",
            "  adding: content/data/train/Non Accident/test19_9.jpg (deflated 0%)\n",
            "  adding: content/data/train/Non Accident/test17_11.jpg (deflated 0%)\n",
            "  adding: content/data/train/Non Accident/test26_7.jpg (deflated 0%)\n",
            "  adding: content/data/train/Non Accident/test_18.jpg (deflated 0%)\n",
            "  adding: content/data/train/Non Accident/test8_4.jpg (deflated 0%)\n",
            "  adding: content/data/train/Non Accident/test11_8.jpg (deflated 1%)\n",
            "  adding: content/data/train/Non Accident/test24_4.jpg (deflated 0%)\n",
            "  adding: content/data/train/Non Accident/test14_24.jpg (deflated 0%)\n",
            "  adding: content/data/train/Non Accident/test29_20.jpg (deflated 0%)\n",
            "  adding: content/data/train/Non Accident/test4_18.jpg (deflated 0%)\n",
            "  adding: content/data/train/Non Accident/test8_7.jpg (deflated 0%)\n",
            "  adding: content/data/train/Non Accident/test1_11.jpg (deflated 1%)\n",
            "  adding: content/data/train/Non Accident/test11_58.jpg (deflated 1%)\n",
            "  adding: content/data/train/Non Accident/test22_13.jpg (deflated 0%)\n",
            "  adding: content/data/train/Non Accident/test14_8.jpg (deflated 0%)\n",
            "  adding: content/data/train/Non Accident/test9_13.jpg (deflated 0%)\n",
            "  adding: content/data/train/Non Accident/test4_30.jpg (deflated 0%)\n",
            "  adding: content/data/train/Non Accident/test3_39.jpg (deflated 1%)\n",
            "  adding: content/data/train/Non Accident/test9_24.jpg (deflated 0%)\n",
            "  adding: content/data/train/Non Accident/test25_15.jpg (deflated 0%)\n",
            "  adding: content/data/train/Non Accident/test25_18.jpg (deflated 0%)\n",
            "  adding: content/data/train/Non Accident/test11_1.jpg (deflated 1%)\n",
            "  adding: content/data/train/Non Accident/test19_1.jpg (deflated 0%)\n",
            "  adding: content/data/train/Non Accident/5_29.jpg (deflated 3%)\n",
            "  adding: content/data/train/Non Accident/test7_12.jpg (deflated 0%)\n",
            "  adding: content/data/train/Non Accident/test15_28.jpg (deflated 1%)\n",
            "  adding: content/data/train/Non Accident/test25_16.jpg (deflated 0%)\n",
            "  adding: content/data/train/Non Accident/test18_14.jpg (deflated 0%)\n",
            "  adding: content/data/train/Non Accident/test3_16.jpg (deflated 1%)\n",
            "  adding: content/data/train/Non Accident/test7_52.jpg (deflated 1%)\n",
            "  adding: content/data/train/Non Accident/test11_50.jpg (deflated 1%)\n",
            "  adding: content/data/train/Non Accident/test9_18.jpg (deflated 0%)\n",
            "  adding: content/data/train/Non Accident/test7_58.jpg (deflated 1%)\n",
            "  adding: content/data/train/Non Accident/test3_24.jpg (deflated 1%)\n",
            "  adding: content/data/train/Non Accident/5_6.jpg (deflated 3%)\n",
            "  adding: content/data/train/Non Accident/test11_41.jpg (deflated 1%)\n",
            "  adding: content/data/train/Non Accident/test12_8.jpg (deflated 0%)\n",
            "  adding: content/data/train/Non Accident/test8_17.jpg (deflated 0%)\n",
            "  adding: content/data/train/Non Accident/test13_29.jpg (deflated 1%)\n",
            "  adding: content/data/train/Non Accident/test18_17.jpg (deflated 0%)\n",
            "  adding: content/data/train/Non Accident/test8_2.jpg (deflated 0%)\n",
            "  adding: content/data/train/Non Accident/test9_1.jpg (deflated 0%)\n",
            "  adding: content/data/train/Non Accident/5_14.jpg (deflated 2%)\n",
            "  adding: content/data/train/Non Accident/test17_14.jpg (deflated 0%)\n",
            "  adding: content/data/train/Non Accident/test4_3.jpg (deflated 0%)\n",
            "  adding: content/data/train/Non Accident/test16_5.jpg (deflated 5%)\n",
            "  adding: content/data/train/Non Accident/test4_23.jpg (deflated 0%)\n",
            "  adding: content/data/train/Non Accident/test1_12.jpg (deflated 1%)\n",
            "  adding: content/data/train/Non Accident/test8_18.jpg (deflated 0%)\n",
            "  adding: content/data/train/Non Accident/test_15.jpg (deflated 0%)\n",
            "  adding: content/data/train/Non Accident/test17_30.jpg (deflated 0%)\n",
            "  adding: content/data/train/Non Accident/test17_26.jpg (deflated 0%)\n",
            "  adding: content/data/train/Non Accident/test25_4.jpg (deflated 0%)\n",
            "  adding: content/data/train/Non Accident/test30_1.jpg (deflated 0%)\n",
            "  adding: content/data/train/Non Accident/test22_18.jpg (deflated 0%)\n",
            "  adding: content/data/train/Non Accident/test4_20.jpg (deflated 0%)\n",
            "  adding: content/data/train/Non Accident/test29_4.jpg (deflated 0%)\n",
            "  adding: content/data/train/Non Accident/test7_9.jpg (deflated 0%)\n",
            "  adding: content/data/train/Non Accident/test25_12.jpg (deflated 0%)\n",
            "  adding: content/data/train/Non Accident/test_8.jpg (deflated 0%)\n",
            "  adding: content/data/train/Non Accident/test24_14.jpg (deflated 0%)\n",
            "  adding: content/data/train/Non Accident/test19_20.jpg (deflated 0%)\n",
            "  adding: content/data/train/Non Accident/test19_11.jpg (deflated 0%)\n",
            "  adding: content/data/train/Non Accident/test8_6.jpg (deflated 0%)\n",
            "  adding: content/data/train/Non Accident/test16_7.jpg (deflated 3%)\n",
            "  adding: content/data/train/Non Accident/test16_16.jpg (deflated 1%)\n",
            "  adding: content/data/train/Non Accident/test11_9.jpg (deflated 1%)\n",
            "  adding: content/data/train/Non Accident/test9_21.jpg (deflated 0%)\n",
            "  adding: content/data/train/Non Accident/test24_18.jpg (deflated 0%)\n",
            "  adding: content/data/train/Non Accident/test29_1.jpg (deflated 0%)\n",
            "  adding: content/data/train/Non Accident/test4_17.jpg (deflated 0%)\n",
            "  adding: content/data/train/Non Accident/test16_2.jpg (deflated 1%)\n",
            "  adding: content/data/train/Non Accident/test4_29.jpg (deflated 0%)\n",
            "  adding: content/data/train/Non Accident/test16_9.jpg (deflated 3%)\n",
            "  adding: content/data/train/Non Accident/test29_17.jpg (deflated 0%)\n",
            "  adding: content/data/train/Non Accident/5_24.jpg (deflated 0%)\n",
            "  adding: content/data/train/Non Accident/test_13.jpg (deflated 0%)\n",
            "  adding: content/data/train/Non Accident/test18_8.jpg (deflated 0%)\n",
            "  adding: content/data/train/Non Accident/test24_6.jpg (deflated 0%)\n",
            "  adding: content/data/train/Non Accident/test7_50.jpg (deflated 1%)\n",
            "  adding: content/data/train/Non Accident/test25_3.jpg (deflated 0%)\n",
            "  adding: content/data/train/Non Accident/test3_4.jpg (deflated 1%)\n",
            "  adding: content/data/train/Non Accident/test8_21.jpg (deflated 0%)\n",
            "  adding: content/data/train/Non Accident/test1_10.jpg (deflated 0%)\n",
            "  adding: content/data/train/Non Accident/test7_49.jpg (deflated 1%)\n",
            "  adding: content/data/train/Non Accident/test15_24.jpg (deflated 1%)\n",
            "  adding: content/data/train/Non Accident/test29_24.jpg (deflated 0%)\n",
            "  adding: content/data/train/Non Accident/test_6.jpg (deflated 0%)\n",
            "  adding: content/data/train/Non Accident/test_1.jpg (deflated 7%)\n",
            "  adding: content/data/train/Non Accident/test22_16.jpg (deflated 0%)\n",
            "  adding: content/data/train/Non Accident/test4_27.jpg (deflated 0%)\n",
            "  adding: content/data/train/Non Accident/test15_23.jpg (deflated 1%)\n",
            "  adding: content/data/train/Non Accident/test18_13.jpg (deflated 0%)\n",
            "  adding: content/data/train/Non Accident/test17_1.jpg (deflated 0%)\n",
            "  adding: content/data/train/Non Accident/test_23.jpg (deflated 0%)\n",
            "  adding: content/data/train/Non Accident/test19_17.jpg (deflated 0%)\n",
            "  adding: content/data/train/Non Accident/test11_10.jpg (deflated 1%)\n",
            "  adding: content/data/train/Non Accident/test9_7.jpg (deflated 0%)\n",
            "  adding: content/data/train/Non Accident/test24_15.jpg (deflated 0%)\n",
            "  adding: content/data/train/Non Accident/test26_3.jpg (deflated 0%)\n",
            "  adding: content/data/train/Non Accident/test11_45.jpg (deflated 1%)\n",
            "  adding: content/data/train/Non Accident/5_15.jpg (deflated 1%)\n",
            "  adding: content/data/train/Non Accident/test11_56.jpg (deflated 1%)\n",
            "  adding: content/data/train/Non Accident/test20_10.jpg (deflated 0%)\n",
            "  adding: content/data/train/Non Accident/test3_41.jpg (deflated 1%)\n",
            "  adding: content/data/train/Non Accident/test20_14.jpg (deflated 0%)\n",
            "  adding: content/data/train/Non Accident/test4_12.jpg (deflated 0%)\n",
            "  adding: content/data/train/Non Accident/test24_9.jpg (deflated 0%)\n",
            "  adding: content/data/train/Non Accident/test11_60.jpg (deflated 1%)\n",
            "  adding: content/data/train/Non Accident/test17_8.jpg (deflated 0%)\n",
            "  adding: content/data/train/Non Accident/test26_1.jpg (deflated 0%)\n",
            "  adding: content/data/train/Non Accident/test13_28.jpg (deflated 1%)\n",
            "  adding: content/data/train/Non Accident/test24_20.jpg (deflated 0%)\n",
            "  adding: content/data/train/Non Accident/test14_7.jpg (deflated 0%)\n",
            "  adding: content/data/train/Non Accident/test1_3.jpg (deflated 1%)\n",
            "  adding: content/data/train/Non Accident/test24_10.jpg (deflated 0%)\n",
            "  adding: content/data/train/Non Accident/test18_10.jpg (deflated 0%)\n",
            "  adding: content/data/train/Non Accident/test11_38.jpg (deflated 1%)\n",
            "  adding: content/data/train/Non Accident/test23_2.jpg (deflated 1%)\n",
            "  adding: content/data/train/Non Accident/test16_8.jpg (deflated 3%)\n",
            "  adding: content/data/train/Non Accident/test_19.jpg (deflated 0%)\n",
            "  adding: content/data/train/Non Accident/test18_4.jpg (deflated 0%)\n",
            "  adding: content/data/train/Non Accident/test17_23.jpg (deflated 0%)\n",
            "  adding: content/data/train/Non Accident/test27_2.jpg (deflated 0%)\n",
            "  adding: content/data/train/Non Accident/test29_16.jpg (deflated 0%)\n",
            "  adding: content/data/train/Non Accident/test7_3.jpg (deflated 0%)\n",
            "  adding: content/data/train/Non Accident/test16_17.jpg (deflated 1%)\n",
            "  adding: content/data/train/Non Accident/test24_11.jpg (deflated 0%)\n",
            "  adding: content/data/train/Non Accident/test13_27.jpg (deflated 1%)\n",
            "  adding: content/data/train/Non Accident/test_12.jpg (deflated 0%)\n",
            "  adding: content/data/train/Non Accident/test18_9.jpg (deflated 0%)\n",
            "  adding: content/data/train/Non Accident/test4_54.jpg (deflated 0%)\n",
            "  adding: content/data/train/Non Accident/test18_18.jpg (deflated 0%)\n",
            "  adding: content/data/train/Non Accident/test4_25.jpg (deflated 0%)\n",
            "  adding: content/data/train/Non Accident/test15_1.jpg (deflated 1%)\n",
            "  adding: content/data/train/Non Accident/test7_47.jpg (deflated 1%)\n",
            "  adding: content/data/train/Non Accident/test30_2.jpg (deflated 0%)\n",
            "  adding: content/data/train/Non Accident/test9_3.jpg (deflated 0%)\n",
            "  adding: content/data/train/Non Accident/test4_56.jpg (deflated 0%)\n",
            "  adding: content/data/train/Non Accident/5_27.jpg (deflated 1%)\n",
            "  adding: content/data/train/Non Accident/test18_16.jpg (deflated 0%)\n",
            "  adding: content/data/train/Non Accident/test19_19.jpg (deflated 0%)\n",
            "  adding: content/data/train/Non Accident/test24_16.jpg (deflated 0%)\n",
            "  adding: content/data/train/Non Accident/test1_7.jpg (deflated 0%)\n",
            "  adding: content/data/train/Non Accident/test7_42.jpg (deflated 1%)\n",
            "  adding: content/data/train/Non Accident/test4_8.jpg (deflated 0%)\n",
            "  adding: content/data/train/Non Accident/test17_27.jpg (deflated 0%)\n",
            "  adding: content/data/train/Non Accident/test13_26.jpg (deflated 1%)\n",
            "  adding: content/data/train/Non Accident/test13_7.jpg (deflated 1%)\n",
            "  adding: content/data/train/Non Accident/test3_19.jpg (deflated 1%)\n",
            "  adding: content/data/train/Non Accident/test8_19.jpg (deflated 0%)\n",
            "  adding: content/data/train/Non Accident/test18_19.jpg (deflated 0%)\n",
            "  adding: content/data/train/Non Accident/test4_22.jpg (deflated 0%)\n",
            "  adding: content/data/train/Non Accident/test24_5.jpg (deflated 0%)\n",
            "  adding: content/data/train/Non Accident/test18_1.jpg (deflated 0%)\n",
            "  adding: content/data/train/Non Accident/test10_2.jpg (deflated 0%)\n",
            "  adding: content/data/train/Non Accident/5_7.jpg (deflated 2%)\n",
            "  adding: content/data/train/Non Accident/test18_20.jpg (deflated 0%)\n",
            "  adding: content/data/train/Non Accident/5_11.jpg (deflated 1%)\n",
            "  adding: content/data/train/Non Accident/test29_2.jpg (deflated 0%)\n",
            "  adding: content/data/train/Non Accident/test11_44.jpg (deflated 1%)\n",
            "  adding: content/data/train/Non Accident/test7_44.jpg (deflated 1%)\n",
            "  adding: content/data/train/Non Accident/test29_31.jpg (deflated 0%)\n",
            "  adding: content/data/train/Non Accident/5_9.jpg (deflated 4%)\n",
            "  adding: content/data/train/Non Accident/test3_14.jpg (deflated 1%)\n",
            "  adding: content/data/train/Non Accident/test25_2.jpg (deflated 0%)\n",
            "  adding: content/data/train/Non Accident/test28_9.jpg (deflated 1%)\n",
            "  adding: content/data/train/Non Accident/test13_3.jpg (deflated 1%)\n",
            "  adding: content/data/train/Non Accident/test11_4.jpg (deflated 1%)\n",
            "  adding: content/data/train/Non Accident/test7_14.jpg (deflated 1%)\n",
            "  adding: content/data/train/Non Accident/test7_35.jpg (deflated 1%)\n",
            "  adding: content/data/train/Non Accident/5_17.jpg (deflated 2%)\n",
            "  adding: content/data/train/Non Accident/test14_22.jpg (deflated 0%)\n",
            "  adding: content/data/train/Non Accident/test13_6.jpg (deflated 1%)\n",
            "  adding: content/data/train/Non Accident/test7_24.jpg (deflated 1%)\n",
            "  adding: content/data/train/Non Accident/test16_11.jpg (deflated 2%)\n",
            "  adding: content/data/train/Non Accident/test14_6.jpg (deflated 0%)\n",
            "  adding: content/data/train/Non Accident/test17_6.jpg (deflated 0%)\n",
            "  adding: content/data/train/Non Accident/test19_13.jpg (deflated 0%)\n",
            "  adding: content/data/train/Non Accident/test13_4.jpg (deflated 1%)\n",
            "  adding: content/data/train/Non Accident/test7_2.jpg (deflated 0%)\n",
            "  adding: content/data/train/Non Accident/test22_14.jpg (deflated 0%)\n",
            "  adding: content/data/train/Non Accident/test23_8.jpg (deflated 1%)\n",
            "  adding: content/data/train/Non Accident/test28_11.jpg (deflated 1%)\n",
            "  adding: content/data/train/Non Accident/test11_7.jpg (deflated 1%)\n",
            "  adding: content/data/train/Non Accident/test25_13.jpg (deflated 0%)\n",
            "  adding: content/data/train/Non Accident/test23_1.jpg (deflated 1%)\n",
            "  adding: content/data/train/Non Accident/test23_6.jpg (deflated 1%)\n",
            "  adding: content/data/train/Non Accident/test1_2.jpg (deflated 1%)\n",
            "  adding: content/data/train/Non Accident/test14_1.jpg (deflated 0%)\n",
            "  adding: content/data/train/Non Accident/test11_42.jpg (deflated 1%)\n",
            "  adding: content/data/train/Non Accident/test13_30.jpg (deflated 1%)\n",
            "  adding: content/data/train/Non Accident/test19_4.jpg (deflated 0%)\n",
            "  adding: content/data/train/Non Accident/test_5.jpg (deflated 0%)\n",
            "  adding: content/data/train/Non Accident/test_25.jpg (deflated 0%)\n",
            "  adding: content/data/train/Non Accident/test19_12.jpg (deflated 0%)\n",
            "  adding: content/data/train/Non Accident/test4_16.jpg (deflated 0%)\n",
            "  adding: content/data/train/Non Accident/test3_23.jpg (deflated 1%)\n",
            "  adding: content/data/train/Non Accident/test24_12.jpg (deflated 0%)\n",
            "  adding: content/data/train/Non Accident/test17_24.jpg (deflated 0%)\n",
            "  adding: content/data/train/Accident/ (stored 0%)\n",
            "  adding: content/data/train/Accident/test16_19.jpg (deflated 1%)\n",
            "  adding: content/data/train/Accident/test14_20.jpg (deflated 0%)\n",
            "  adding: content/data/train/Accident/test10_16.jpg (deflated 0%)\n",
            "  adding: content/data/train/Accident/test27_32.jpg (deflated 0%)\n",
            "  adding: content/data/train/Accident/test17_15.jpg (deflated 0%)\n",
            "  adding: content/data/train/Accident/test22_25.jpg (deflated 0%)\n",
            "  adding: content/data/train/Accident/test10_43.jpg (deflated 0%)\n",
            "  adding: content/data/train/Accident/test30_18.jpg (deflated 0%)\n",
            "  adding: content/data/train/Accident/test27_10.jpg (deflated 0%)\n",
            "  adding: content/data/train/Accident/test30_11.jpg (deflated 0%)\n",
            "  adding: content/data/train/Accident/test16_25.jpg (deflated 1%)\n",
            "  adding: content/data/train/Accident/test27_11.jpg (deflated 0%)\n",
            "  adding: content/data/train/Accident/test20_15.jpg (deflated 0%)\n",
            "  adding: content/data/train/Accident/test12_17.jpg (deflated 0%)\n",
            "  adding: content/data/train/Accident/test24_35.jpg (deflated 0%)\n",
            "  adding: content/data/train/Accident/test14_13.jpg (deflated 0%)\n",
            "  adding: content/data/train/Accident/test15_14.jpg (deflated 1%)\n",
            "  adding: content/data/train/Accident/test1_30.jpg (deflated 0%)\n",
            "  adding: content/data/train/Accident/test19_22.jpg (deflated 0%)\n",
            "  adding: content/data/train/Accident/test10_40.jpg (deflated 0%)\n",
            "  adding: content/data/train/Accident/test24_23.jpg (deflated 0%)\n",
            "  adding: content/data/train/Accident/test30_10.jpg (deflated 0%)\n",
            "  adding: content/data/train/Accident/test15_5.jpg (deflated 1%)\n",
            "  adding: content/data/train/Accident/test10_44.jpg (deflated 0%)\n",
            "  adding: content/data/train/Accident/test22_20.jpg (deflated 0%)\n",
            "  adding: content/data/train/Accident/test22_31.jpg (deflated 0%)\n",
            "  adding: content/data/train/Accident/test24_33.jpg (deflated 0%)\n",
            "  adding: content/data/train/Accident/test27_14.jpg (deflated 0%)\n",
            "  adding: content/data/train/Accident/test2_13.jpg (deflated 0%)\n",
            "  adding: content/data/train/Accident/test4_45.jpg (deflated 0%)\n",
            "  adding: content/data/train/Accident/test26_25.jpg (deflated 0%)\n",
            "  adding: content/data/train/Accident/test7_26.jpg (deflated 1%)\n",
            "  adding: content/data/train/Accident/test20_16.jpg (deflated 0%)\n",
            "  adding: content/data/train/Accident/test8_12.jpg (deflated 0%)\n",
            "  adding: content/data/train/Accident/test19_24.jpg (deflated 0%)\n",
            "  adding: content/data/train/Accident/test26_28.jpg (deflated 0%)\n",
            "  adding: content/data/train/Accident/test13_10.jpg (deflated 1%)\n",
            "  adding: content/data/train/Accident/test13_11.jpg (deflated 1%)\n",
            "  adding: content/data/train/Accident/test21_16.jpg (deflated 0%)\n",
            "  adding: content/data/train/Accident/test22_30.jpg (deflated 0%)\n",
            "  adding: content/data/train/Accident/test11_21.jpg (deflated 1%)\n",
            "  adding: content/data/train/Accident/test10_59.jpg (deflated 0%)\n",
            "  adding: content/data/train/Accident/test4_39.jpg (deflated 0%)\n",
            "  adding: content/data/train/Accident/test23_13.jpg (deflated 1%)\n",
            "  adding: content/data/train/Accident/test25_25.jpg (deflated 0%)\n",
            "  adding: content/data/train/Accident/test23_31.jpg (deflated 1%)\n",
            "  adding: content/data/train/Accident/test10_18.jpg (deflated 0%)\n",
            "  adding: content/data/train/Accident/test2_22.jpg (deflated 0%)\n",
            "  adding: content/data/train/Accident/test_39.jpg (deflated 0%)\n",
            "  adding: content/data/train/Accident/test23_23.jpg (deflated 1%)\n",
            "  adding: content/data/train/Accident/test23_28.jpg (deflated 1%)\n",
            "  adding: content/data/train/Accident/test13_14.jpg (deflated 1%)\n",
            "  adding: content/data/train/Accident/test3_28.jpg (deflated 1%)\n",
            "  adding: content/data/train/Accident/test24_31.jpg (deflated 0%)\n",
            "  adding: content/data/train/Accident/test21_26.jpg (deflated 1%)\n",
            "  adding: content/data/train/Accident/test_29.jpg (deflated 0%)\n",
            "  adding: content/data/train/Accident/test26_31.jpg (deflated 0%)\n",
            "  adding: content/data/train/Accident/test5_13.jpg (deflated 0%)\n",
            "  adding: content/data/train/Accident/test25_27.jpg (deflated 0%)\n",
            "  adding: content/data/train/Accident/test10_17.jpg (deflated 0%)\n",
            "  adding: content/data/train/Accident/test2_25.jpg (deflated 0%)\n",
            "  adding: content/data/train/Accident/test24_21.jpg (deflated 0%)\n",
            "  adding: content/data/train/Accident/test26_13.jpg (deflated 0%)\n",
            "  adding: content/data/train/Accident/test27_36.jpg (deflated 0%)\n",
            "  adding: content/data/train/Accident/test30_17.jpg (deflated 0%)\n",
            "  adding: content/data/train/Accident/test28_21.jpg (deflated 0%)\n",
            "  adding: content/data/train/Accident/test8_15.jpg (deflated 0%)\n",
            "  adding: content/data/train/Accident/test15_13.jpg (deflated 1%)\n",
            "  adding: content/data/train/Accident/test10_39.jpg (deflated 0%)\n",
            "  adding: content/data/train/Accident/test5_17.jpg (deflated 0%)\n",
            "  adding: content/data/train/Accident/test21_13.jpg (deflated 0%)\n",
            "  adding: content/data/train/Accident/test10_47.jpg (deflated 0%)\n",
            "  adding: content/data/train/Accident/test_43.jpg (deflated 0%)\n",
            "  adding: content/data/train/Accident/test4_35.jpg (deflated 0%)\n",
            "  adding: content/data/train/Accident/test20_18.jpg (deflated 0%)\n",
            "  adding: content/data/train/Accident/test11_32.jpg (deflated 1%)\n",
            "  adding: content/data/train/Accident/test2_5.jpg (deflated 0%)\n",
            "  adding: content/data/train/Accident/test11_22.jpg (deflated 1%)\n",
            "  adding: content/data/train/Accident/test10_60.jpg (deflated 1%)\n",
            "  adding: content/data/train/Accident/test2_18.jpg (deflated 0%)\n",
            "  adding: content/data/train/Accident/test2_17.jpg (deflated 0%)\n",
            "  adding: content/data/train/Accident/test10_50.jpg (deflated 0%)\n",
            "  adding: content/data/train/Accident/test24_29.jpg (deflated 0%)\n",
            "  adding: content/data/train/Accident/test16_22.jpg (deflated 1%)\n",
            "  adding: content/data/train/Accident/test15_12.jpg (deflated 1%)\n",
            "  adding: content/data/train/Accident/test12_12.jpg (deflated 0%)\n",
            "  adding: content/data/train/Accident/test28_25.jpg (deflated 0%)\n",
            "  adding: content/data/train/Accident/test5_20.jpg (deflated 0%)\n",
            "  adding: content/data/train/Accident/test27_31.jpg (deflated 0%)\n",
            "  adding: content/data/train/Accident/test11_37.jpg (deflated 1%)\n",
            "  adding: content/data/train/Accident/test23_22.jpg (deflated 1%)\n",
            "  adding: content/data/train/Accident/test1_22.jpg (deflated 0%)\n",
            "  adding: content/data/train/Accident/test2_24.jpg (deflated 0%)\n",
            "  adding: content/data/train/Accident/test26_17.jpg (deflated 0%)\n",
            "  adding: content/data/train/Accident/test29_10.jpg (deflated 0%)\n",
            "  adding: content/data/train/Accident/test10_11.jpg (deflated 0%)\n",
            "  adding: content/data/train/Accident/test24_22.jpg (deflated 0%)\n",
            "  adding: content/data/train/Accident/test21_11.jpg (deflated 0%)\n",
            "  adding: content/data/train/Accident/test24_40.jpg (deflated 0%)\n",
            "  adding: content/data/train/Accident/test10_26.jpg (deflated 0%)\n",
            "  adding: content/data/train/Accident/test23_9.jpg (deflated 1%)\n",
            "  adding: content/data/train/Accident/test25_29.jpg (deflated 0%)\n",
            "  adding: content/data/train/Accident/test_28.jpg (deflated 0%)\n",
            "  adding: content/data/train/Accident/test10_25.jpg (deflated 1%)\n",
            "  adding: content/data/train/Accident/test19_25.jpg (deflated 0%)\n",
            "  adding: content/data/train/Accident/test28_17.jpg (deflated 0%)\n",
            "  adding: content/data/train/Accident/test2_12.jpg (deflated 0%)\n",
            "  adding: content/data/train/Accident/test27_22.jpg (deflated 0%)\n",
            "  adding: content/data/train/Accident/test26_27.jpg (deflated 0%)\n",
            "  adding: content/data/train/Accident/test23_17.jpg (deflated 1%)\n",
            "  adding: content/data/train/Accident/test10_19.jpg (deflated 0%)\n",
            "  adding: content/data/train/Accident/test24_26.jpg (deflated 0%)\n",
            "  adding: content/data/train/Accident/test11_35.jpg (deflated 1%)\n",
            "  adding: content/data/train/Accident/test11_28.jpg (deflated 1%)\n",
            "  adding: content/data/train/Accident/test27_15.jpg (deflated 0%)\n",
            "  adding: content/data/train/Accident/test10_28.jpg (deflated 0%)\n",
            "  adding: content/data/train/Accident/test27_24.jpg (deflated 0%)\n",
            "  adding: content/data/train/Accident/test5_11.jpg (deflated 0%)\n",
            "  adding: content/data/train/Accident/test25_30.jpg (deflated 0%)\n",
            "  adding: content/data/train/Accident/test7_29.jpg (deflated 1%)\n",
            "  adding: content/data/train/Accident/test13_1.jpg (deflated 1%)\n",
            "  adding: content/data/train/Accident/test10_58.jpg (deflated 0%)\n",
            "  adding: content/data/train/Accident/test13_23.jpg (deflated 1%)\n",
            "  adding: content/data/train/Accident/test10_9.jpg (deflated 0%)\n",
            "  adding: content/data/train/Accident/test15_7.jpg (deflated 1%)\n",
            "  adding: content/data/train/Accident/test22_28.jpg (deflated 0%)\n",
            "  adding: content/data/train/Accident/test23_27.jpg (deflated 1%)\n",
            "  adding: content/data/train/Accident/test1_16.jpg (deflated 0%)\n",
            "  adding: content/data/train/Accident/test17_18.jpg (deflated 0%)\n",
            "  adding: content/data/train/Accident/test19_30.jpg (deflated 0%)\n",
            "  adding: content/data/train/Accident/test10_49.jpg (deflated 0%)\n",
            "  adding: content/data/train/Accident/test10_10.jpg (deflated 0%)\n",
            "  adding: content/data/train/Accident/test10_53.jpg (deflated 0%)\n",
            "  adding: content/data/train/Accident/test14_9.jpg (deflated 0%)\n",
            "  adding: content/data/train/Accident/test15_4.jpg (deflated 1%)\n",
            "  adding: content/data/train/Accident/test18_26.jpg (deflated 0%)\n",
            "  adding: content/data/train/Accident/test27_16.jpg (deflated 0%)\n",
            "  adding: content/data/train/Accident/test2_15.jpg (deflated 0%)\n",
            "  adding: content/data/train/Accident/test13_24.jpg (deflated 1%)\n",
            "  adding: content/data/train/Accident/test10_45.jpg (deflated 0%)\n",
            "  adding: content/data/train/Accident/test4_34.jpg (deflated 0%)\n",
            "  adding: content/data/train/Accident/test16_23.jpg (deflated 1%)\n",
            "  adding: content/data/train/Accident/test26_24.jpg (deflated 0%)\n",
            "  adding: content/data/train/Accident/test30_12.jpg (deflated 0%)\n",
            "  adding: content/data/train/Accident/test29_9.jpg (deflated 0%)\n",
            "  adding: content/data/train/Accident/test10_57.jpg (deflated 0%)\n",
            "  adding: content/data/train/Accident/test14_14.jpg (deflated 0%)\n",
            "  adding: content/data/train/Accident/test14_17.jpg (deflated 0%)\n",
            "  adding: content/data/train/Accident/test4_50.jpg (deflated 0%)\n",
            "  adding: content/data/train/Accident/acc1 (14).jpg (deflated 1%)\n",
            "  adding: content/data/train/Accident/test10_24.jpg (deflated 1%)\n",
            "  adding: content/data/train/Accident/test13_25.jpg (deflated 1%)\n",
            "  adding: content/data/train/Accident/test10_32.jpg (deflated 0%)\n",
            "  adding: content/data/train/Accident/test17_20.jpg (deflated 0%)\n",
            "  adding: content/data/train/Accident/acc1 (5).jpg (deflated 0%)\n",
            "  adding: content/data/train/Accident/test17_22.jpg (deflated 0%)\n",
            "  adding: content/data/train/Accident/test11_20.jpg (deflated 1%)\n",
            "  adding: content/data/train/Accident/test1_21.jpg (deflated 1%)\n",
            "  adding: content/data/train/Accident/test27_20.jpg (deflated 0%)\n",
            "  adding: content/data/train/Accident/test11_18.jpg (deflated 1%)\n",
            "  adding: content/data/train/Accident/test11_25.jpg (deflated 1%)\n",
            "  adding: content/data/train/Accident/test22_24.jpg (deflated 0%)\n",
            "  adding: content/data/train/Accident/acc1 (15).jpg (deflated 1%)\n",
            "  adding: content/data/train/Accident/test28_27.jpg (deflated 0%)\n",
            "  adding: content/data/train/Accident/test23_21.jpg (deflated 1%)\n",
            "  adding: content/data/train/Accident/test21_21.jpg (deflated 0%)\n",
            "  adding: content/data/train/Accident/test22_29.jpg (deflated 0%)\n",
            "  adding: content/data/train/Accident/test24_28.jpg (deflated 0%)\n",
            "  adding: content/data/train/Accident/test15_3.jpg (deflated 1%)\n",
            "  adding: content/data/train/Accident/test2_2.jpg (deflated 1%)\n",
            "  adding: content/data/train/Accident/test15_6.jpg (deflated 1%)\n",
            "  adding: content/data/train/Accident/test10_51.jpg (deflated 0%)\n",
            "  adding: content/data/train/Accident/test23_12.jpg (deflated 1%)\n",
            "  adding: content/data/train/Accident/test3_29.jpg (deflated 1%)\n",
            "  adding: content/data/train/Accident/test27_28.jpg (deflated 0%)\n",
            "  adding: content/data/train/Accident/test10_31.jpg (deflated 1%)\n",
            "  adding: content/data/train/Accident/test24_43.jpg (deflated 0%)\n",
            "  adding: content/data/train/Accident/test3_27.jpg (deflated 1%)\n",
            "  adding: content/data/train/Accident/test4_49.jpg (deflated 0%)\n",
            "  adding: content/data/train/Accident/test2_21.jpg (deflated 0%)\n",
            "  adding: content/data/train/Accident/test5_10.jpg (deflated 0%)\n",
            "  adding: content/data/train/Accident/test4_46.jpg (deflated 0%)\n",
            "  adding: content/data/train/Accident/test1_17.jpg (deflated 0%)\n",
            "  adding: content/data/train/Accident/test29_13.jpg (deflated 0%)\n",
            "  adding: content/data/train/Accident/test4_36.jpg (deflated 0%)\n",
            "  adding: content/data/train/Accident/test2_20.jpg (deflated 0%)\n",
            "  adding: content/data/train/Accident/test13_19.jpg (deflated 1%)\n",
            "  adding: content/data/train/Accident/test24_37.jpg (deflated 0%)\n",
            "  adding: content/data/train/Accident/test5_18.jpg (deflated 0%)\n",
            "  adding: content/data/train/Accident/test28_19.jpg (deflated 0%)\n",
            "  adding: content/data/train/Accident/test27_23.jpg (deflated 0%)\n",
            "  adding: content/data/train/Accident/test1_23.jpg (deflated 0%)\n",
            "  adding: content/data/train/Accident/test27_29.jpg (deflated 0%)\n",
            "  adding: content/data/train/Accident/test21_27.jpg (deflated 1%)\n",
            "  adding: content/data/train/Accident/test1_19.jpg (deflated 0%)\n",
            "  adding: content/data/train/Accident/test23_10.jpg (deflated 1%)\n",
            "  adding: content/data/train/Accident/test24_42.jpg (deflated 0%)\n",
            "  adding: content/data/train/Accident/test28_22.jpg (deflated 1%)\n",
            "  adding: content/data/train/Accident/test4_33.jpg (deflated 0%)\n",
            "  adding: content/data/train/Accident/test16_30.jpg (deflated 1%)\n",
            "  adding: content/data/train/Accident/test3_31.jpg (deflated 1%)\n",
            "  adding: content/data/train/Accident/test11_24.jpg (deflated 1%)\n",
            "  adding: content/data/train/Accident/test20_17.jpg (deflated 0%)\n",
            "  adding: content/data/train/Accident/test11_30.jpg (deflated 1%)\n",
            "  adding: content/data/train/Accident/test29_12.jpg (deflated 0%)\n",
            "  adding: content/data/train/Accident/test8_14.jpg (deflated 0%)\n",
            "  adding: content/data/train/Accident/test_38.jpg (deflated 0%)\n",
            "  adding: content/data/train/Accident/test23_26.jpg (deflated 1%)\n",
            "  adding: content/data/train/Accident/test_42.jpg (deflated 0%)\n",
            "  adding: content/data/train/Accident/test4_31.jpg (deflated 0%)\n",
            "  adding: content/data/train/Accident/test24_27.jpg (deflated 0%)\n",
            "  adding: content/data/train/Accident/test14_10.jpg (deflated 0%)\n",
            "  adding: content/data/train/Accident/test8_13.jpg (deflated 0%)\n",
            "  adding: content/data/train/Accident/test19_28.jpg (deflated 0%)\n",
            "  adding: content/data/train/Accident/test25_23.jpg (deflated 0%)\n",
            "  adding: content/data/train/Accident/test26_29.jpg (deflated 0%)\n",
            "  adding: content/data/train/Accident/test27_8.jpg (deflated 0%)\n",
            "  adding: content/data/train/Accident/test13_12.jpg (deflated 1%)\n",
            "  adding: content/data/train/Accident/test26_21.jpg (deflated 0%)\n",
            "  adding: content/data/train/Accident/test29_11.jpg (deflated 0%)\n",
            "  adding: content/data/train/Accident/test19_29.jpg (deflated 0%)\n",
            "  adding: content/data/train/Accident/test27_33.jpg (deflated 0%)\n",
            "  adding: content/data/train/Accident/test24_36.jpg (deflated 0%)\n",
            "  adding: content/data/train/Accident/test23_16.jpg (deflated 1%)\n",
            "  adding: content/data/train/Accident/test7_31.jpg (deflated 1%)\n",
            "  adding: content/data/train/Accident/test17_19.jpg (deflated 0%)\n",
            "  adding: content/data/train/Accident/test11_23.jpg (deflated 1%)\n",
            "  adding: content/data/train/Accident/test18_27.jpg (deflated 0%)\n",
            "  adding: content/data/train/Accident/test27_19.jpg (deflated 0%)\n",
            "  adding: content/data/train/Accident/test11_33.jpg (deflated 1%)\n",
            "  adding: content/data/train/Accident/acc1 (13).jpg (deflated 3%)\n",
            "  adding: content/data/train/Accident/test28_16.jpg (deflated 1%)\n",
            "  adding: content/data/train/Accident/test2_11.jpg (deflated 0%)\n",
            "  adding: content/data/train/Accident/test17_21.jpg (deflated 0%)\n",
            "  adding: content/data/train/Accident/test30_20.jpg (deflated 0%)\n",
            "  adding: content/data/train/Accident/test26_20.jpg (deflated 0%)\n",
            "  adding: content/data/train/Accident/test16_26.jpg (deflated 1%)\n",
            "  adding: content/data/train/Accident/acc1 (3).jpg (deflated 1%)\n",
            "  adding: content/data/train/Accident/test16_20.jpg (deflated 1%)\n",
            "  adding: content/data/train/Accident/test12_18.jpg (deflated 0%)\n",
            "  adding: content/data/train/Accident/test14_21.jpg (deflated 0%)\n",
            "  adding: content/data/train/Accident/test_36.jpg (deflated 0%)\n",
            "  adding: content/data/train/Accident/test26_19.jpg (deflated 0%)\n",
            "  adding: content/data/train/Accident/test11_29.jpg (deflated 1%)\n",
            "  adding: content/data/train/Accident/test3_30.jpg (deflated 1%)\n",
            "  adding: content/data/train/Accident/test10_38.jpg (deflated 0%)\n",
            "  adding: content/data/train/Accident/test5_15.jpg (deflated 0%)\n",
            "  adding: content/data/train/Accident/test_44.jpg (deflated 0%)\n",
            "  adding: content/data/train/Accident/test2_8.jpg (deflated 0%)\n",
            "  adding: content/data/train/Accident/test2_14.jpg (deflated 0%)\n",
            "  adding: content/data/train/Accident/test27_12.jpg (deflated 0%)\n",
            "  adding: content/data/train/Accident/test17_17.jpg (deflated 0%)\n",
            "  adding: content/data/train/Accident/test24_39.jpg (deflated 0%)\n",
            "  adding: content/data/train/Accident/test25_26.jpg (deflated 0%)\n",
            "  adding: content/data/train/Accident/test4_48.jpg (deflated 0%)\n",
            "  adding: content/data/train/Accident/test20_19.jpg (deflated 0%)\n",
            "  adding: content/data/train/Accident/test4_32.jpg (deflated 0%)\n",
            "  adding: content/data/train/Accident/test11_31.jpg (deflated 1%)\n",
            "  adding: content/data/train/Accident/test13_13.jpg (deflated 1%)\n",
            "  adding: content/data/train/Accident/acc1 (1).jpg (deflated 1%)\n",
            "  adding: content/data/train/Accident/test4_38.jpg (deflated 0%)\n",
            "  adding: content/data/train/Accident/test16_24.jpg (deflated 1%)\n",
            "  adding: content/data/train/Accident/test14_15.jpg (deflated 0%)\n",
            "  adding: content/data/train/Accident/test13_17.jpg (deflated 1%)\n",
            "  adding: content/data/train/Accident/test21_15.jpg (deflated 0%)\n",
            "  adding: content/data/train/Accident/test19_23.jpg (deflated 1%)\n",
            "  adding: content/data/train/Accident/test28_24.jpg (deflated 0%)\n",
            "  adding: content/data/train/Accident/test7_30.jpg (deflated 1%)\n",
            "  adding: content/data/train/Accident/test_32.jpg (deflated 0%)\n",
            "  adding: content/data/train/Accident/test24_24.jpg (deflated 0%)\n",
            "  adding: content/data/train/Accident/test26_16.jpg (deflated 0%)\n",
            "  adding: content/data/train/Accident/test29_8.jpg (deflated 0%)\n",
            "  adding: content/data/train/Accident/test10_37.jpg (deflated 0%)\n",
            "  adding: content/data/train/Accident/test28_15.jpg (deflated 1%)\n",
            "  adding: content/data/train/Accident/test16_21.jpg (deflated 1%)\n",
            "  adding: content/data/train/Accident/test14_18.jpg (deflated 0%)\n",
            "  adding: content/data/train/Accident/test10_13.jpg (deflated 0%)\n",
            "  adding: content/data/train/Accident/test17_16.jpg (deflated 0%)\n",
            "  adding: content/data/train/Accident/test10_48.jpg (deflated 0%)\n",
            "  adding: content/data/train/Accident/test30_19.jpg (deflated 0%)\n",
            "  adding: content/data/train/Accident/test10_41.jpg (deflated 0%)\n",
            "  adding: content/data/train/Accident/test23_11.jpg (deflated 1%)\n",
            "  adding: content/data/train/Accident/test10_35.jpg (deflated 0%)\n",
            "  adding: content/data/train/Accident/test28_28.jpg (deflated 1%)\n",
            "  adding: content/data/train/Accident/test29_14.jpg (deflated 0%)\n",
            "  adding: content/data/train/Accident/test10_52.jpg (deflated 0%)\n",
            "  adding: content/data/train/Accident/test1_28.jpg (deflated 0%)\n",
            "  adding: content/data/train/Accident/test28_30.jpg (deflated 1%)\n",
            "  adding: content/data/train/Accident/test18_28.jpg (deflated 0%)\n",
            "  adding: content/data/train/Accident/test18_23.jpg (deflated 0%)\n",
            "  adding: content/data/train/Accident/test19_27.jpg (deflated 0%)\n",
            "  adding: content/data/train/Accident/test21_24.jpg (deflated 0%)\n",
            "  adding: content/data/train/Accident/test13_16.jpg (deflated 1%)\n",
            "  adding: content/data/train/Accident/test10_29.jpg (deflated 0%)\n",
            "  adding: content/data/train/Accident/test22_22.jpg (deflated 0%)\n",
            "  adding: content/data/train/Accident/test24_25.jpg (deflated 0%)\n",
            "  adding: content/data/train/Accident/test10_14.jpg (deflated 0%)\n",
            "  adding: content/data/train/Accident/test18_29.jpg (deflated 0%)\n",
            "  adding: content/data/train/Accident/test10_15.jpg (deflated 0%)\n",
            "  adding: content/data/train/Accident/test16_27.jpg (deflated 1%)\n",
            "  adding: content/data/train/Accident/test15_2.jpg (deflated 1%)\n",
            "  adding: content/data/train/Accident/test5_19.jpg (deflated 0%)\n",
            "  adding: content/data/train/Accident/test23_24.jpg (deflated 1%)\n",
            "  adding: content/data/train/Accident/test23_30.jpg (deflated 1%)\n",
            "  adding: content/data/train/Accident/test12_15.jpg (deflated 0%)\n",
            "  adding: content/data/train/Accident/test12_19.jpg (deflated 0%)\n",
            "  adding: content/data/train/Accident/test15_11.jpg (deflated 1%)\n",
            "  adding: content/data/train/Accident/test10_12.jpg (deflated 0%)\n",
            "  adding: content/data/train/Accident/test11_27.jpg (deflated 1%)\n",
            "  adding: content/data/train/Accident/test1_29.jpg (deflated 0%)\n",
            "  adding: content/data/train/Accident/test21_12.jpg (deflated 0%)\n",
            "  adding: content/data/train/Accident/test21_19.jpg (deflated 0%)\n",
            "  adding: content/data/train/Accident/test_31.jpg (deflated 0%)\n",
            "  adding: content/data/train/Accident/test22_26.jpg (deflated 0%)\n",
            "  adding: content/data/train/Accident/test5_16.jpg (deflated 0%)\n",
            "  adding: content/data/train/Accident/test21_23.jpg (deflated 0%)\n",
            "  adding: content/data/train/Accident/test7_28.jpg (deflated 1%)\n",
            "  adding: content/data/train/Accident/test22_21.jpg (deflated 0%)\n",
            "  adding: content/data/train/Accident/test11_19.jpg (deflated 1%)\n",
            "  adding: content/data/train/Accident/test23_20.jpg (deflated 1%)\n",
            "  adding: content/data/train/Accident/test10_21.jpg (deflated 0%)\n",
            "  adding: content/data/train/Accident/test14_12.jpg (deflated 0%)\n",
            "  adding: content/data/train/Accident/test16_29.jpg (deflated 1%)\n",
            "  adding: content/data/train/Accident/test2_6.jpg (deflated 0%)\n",
            "  adding: content/data/train/Accident/test2_19.jpg (deflated 0%)\n",
            "  adding: content/data/train/Accident/test25_28.jpg (deflated 0%)\n",
            "  adding: content/data/train/Accident/test11_36.jpg (deflated 1%)\n",
            "  adding: content/data/train/Accident/test_40.jpg (deflated 0%)\n",
            "  adding: content/data/train/Accident/test15_16.jpg (deflated 1%)\n",
            "  adding: content/data/train/Accident/test24_34.jpg (deflated 0%)\n",
            "  adding: content/data/train/Accident/test10_30.jpg (deflated 1%)\n",
            "  adding: content/data/train/Accident/test13_21.jpg (deflated 1%)\n",
            "  adding: content/data/train/Accident/test10_20.jpg (deflated 0%)\n",
            "  adding: content/data/train/Accident/test23_29.jpg (deflated 1%)\n",
            "  adding: content/data/train/Accident/test7_27.jpg (deflated 1%)\n",
            "  adding: content/data/train/Accident/test11_17.jpg (deflated 1%)\n",
            "  adding: content/data/train/Accident/test2_9.jpg (deflated 0%)\n",
            "  adding: content/data/train/Accident/test10_55.jpg (deflated 0%)\n",
            "  adding: content/data/train/Accident/test21_25.jpg (deflated 1%)\n",
            "  adding: content/data/train/Accident/test15_10.jpg (deflated 1%)\n",
            "  adding: content/data/train/Accident/test4_41.jpg (deflated 1%)\n",
            "  adding: content/data/train/Accident/test27_27.jpg (deflated 0%)\n",
            "  adding: content/data/train/Accident/acc1 (2).jpg (deflated 2%)\n",
            "  adding: content/data/train/Accident/test19_31.jpg (deflated 0%)\n",
            "  adding: content/data/train/Accident/test27_30.jpg (deflated 0%)\n",
            "  adding: content/data/train/Accident/test11_34.jpg (deflated 1%)\n",
            "  adding: content/data/train/Accident/test30_16.jpg (deflated 0%)\n",
            "  adding: content/data/train/Accident/test10_42.jpg (deflated 0%)\n",
            "  adding: content/data/train/Accident/test13_15.jpg (deflated 1%)\n",
            "  adding: content/data/train/Accident/test14_16.jpg (deflated 0%)\n",
            "  adding: content/data/train/Accident/test8_16.jpg (deflated 0%)\n",
            "  adding: content/data/train/Accident/test27_7.jpg (deflated 0%)\n",
            "  adding: content/data/train/Accident/test4_44.jpg (deflated 0%)\n",
            "  adding: content/data/train/Accident/test15_8.jpg (deflated 1%)\n",
            "  adding: content/data/train/Accident/test_34.jpg (deflated 0%)\n",
            "  adding: content/data/train/Accident/test1_25.jpg (deflated 0%)\n",
            "  adding: content/data/train/Accident/test_27.jpg (deflated 0%)\n",
            "  adding: content/data/train/Accident/test26_18.jpg (deflated 0%)\n",
            "  adding: content/data/train/Accident/test18_30.jpg (deflated 0%)\n",
            "  adding: content/data/train/Accident/test12_14.jpg (deflated 0%)\n",
            "  adding: content/data/train/Accident/test3_33.jpg (deflated 1%)\n",
            "  adding: content/data/train/Accident/test26_14.jpg (deflated 0%)\n",
            "  adding: content/data/train/Accident/test18_21.jpg (deflated 0%)\n",
            "  adding: content/data/train/Accident/test24_32.jpg (deflated 0%)\n",
            "  adding: content/data/train/Accident/test23_14.jpg (deflated 1%)\n",
            "  adding: content/data/train/Accident/test21_17.jpg (deflated 0%)\n",
            "  adding: content/data/train/Accident/test23_25.jpg (deflated 1%)\n",
            "  adding: content/data/train/Accident/test11_26.jpg (deflated 1%)\n",
            "  adding: content/data/train/Accident/test24_38.jpg (deflated 0%)\n",
            "  adding: content/data/test/ (stored 0%)\n",
            "  adding: content/data/test/Non Accident/ (stored 0%)\n",
            "  adding: content/data/test/Non Accident/test27_5.jpg (deflated 0%)\n",
            "  adding: content/data/test/Non Accident/test26_5.jpg (deflated 0%)\n",
            "  adding: content/data/test/Non Accident/test7_22.jpg (deflated 1%)\n",
            "  adding: content/data/test/Non Accident/test22_4.jpg (deflated 0%)\n",
            "  adding: content/data/test/Non Accident/test15_29.jpg (deflated 1%)\n",
            "  adding: content/data/test/Non Accident/test16_4.jpg (deflated 1%)\n",
            "  adding: content/data/test/Non Accident/test15_20.jpg (deflated 1%)\n",
            "  adding: content/data/test/Non Accident/test4_10.jpg (deflated 1%)\n",
            "  adding: content/data/test/Non Accident/test3_21.jpg (deflated 1%)\n",
            "  adding: content/data/test/Non Accident/test18_15.jpg (deflated 0%)\n",
            "  adding: content/data/test/Non Accident/test4_60.jpg (deflated 0%)\n",
            "  adding: content/data/test/Non Accident/test3_18.jpg (deflated 1%)\n",
            "  adding: content/data/test/Non Accident/test3_40.jpg (deflated 1%)\n",
            "  adding: content/data/test/Non Accident/test4_53.jpg (deflated 0%)\n",
            "  adding: content/data/test/Non Accident/test4_6.jpg (deflated 0%)\n",
            "  adding: content/data/test/Non Accident/test11_6.jpg (deflated 1%)\n",
            "  adding: content/data/test/Non Accident/test8_22.jpg (deflated 0%)\n",
            "  adding: content/data/test/Non Accident/test18_5.jpg (deflated 0%)\n",
            "  adding: content/data/test/Non Accident/test7_39.jpg (deflated 1%)\n",
            "  adding: content/data/test/Non Accident/test4_28.jpg (deflated 0%)\n",
            "  adding: content/data/test/Non Accident/test25_21.jpg (deflated 0%)\n",
            "  adding: content/data/test/Non Accident/test28_5.jpg (deflated 1%)\n",
            "  adding: content/data/test/Non Accident/test19_15.jpg (deflated 0%)\n",
            "  adding: content/data/test/Non Accident/test29_3.jpg (deflated 0%)\n",
            "  adding: content/data/test/Non Accident/test3_12.jpg (deflated 1%)\n",
            "  adding: content/data/test/Non Accident/test28_4.jpg (deflated 1%)\n",
            "  adding: content/data/test/Non Accident/test9_20.jpg (deflated 0%)\n",
            "  adding: content/data/test/Non Accident/test4_9.jpg (deflated 0%)\n",
            "  adding: content/data/test/Non Accident/test29_6.jpg (deflated 0%)\n",
            "  adding: content/data/test/Non Accident/test11_14.jpg (deflated 1%)\n",
            "  adding: content/data/test/Non Accident/test7_10.jpg (deflated 0%)\n",
            "  adding: content/data/test/Non Accident/test1_9.jpg (deflated 0%)\n",
            "  adding: content/data/test/Non Accident/test25_1.jpg (deflated 0%)\n",
            "  adding: content/data/test/Non Accident/test11_12.jpg (deflated 1%)\n",
            "  adding: content/data/test/Non Accident/test4_11.jpg (deflated 0%)\n",
            "  adding: content/data/test/Non Accident/test7_38.jpg (deflated 1%)\n",
            "  adding: content/data/test/Non Accident/test8_3.jpg (deflated 0%)\n",
            "  adding: content/data/test/Non Accident/5_23.jpg (deflated 0%)\n",
            "  adding: content/data/test/Non Accident/test12_1.jpg (deflated 0%)\n",
            "  adding: content/data/test/Non Accident/test8_11.jpg (deflated 0%)\n",
            "  adding: content/data/test/Non Accident/test17_12.jpg (deflated 0%)\n",
            "  adding: content/data/test/Non Accident/test22_3.jpg (deflated 0%)\n",
            "  adding: content/data/test/Non Accident/test1_8.jpg (deflated 0%)\n",
            "  adding: content/data/test/Non Accident/test14_2.jpg (deflated 0%)\n",
            "  adding: content/data/test/Non Accident/test28_3.jpg (deflated 1%)\n",
            "  adding: content/data/test/Non Accident/test_2.jpg (deflated 1%)\n",
            "  adding: content/data/test/Non Accident/test29_7.jpg (deflated 0%)\n",
            "  adding: content/data/test/Non Accident/test4_4.jpg (deflated 1%)\n",
            "  adding: content/data/test/Non Accident/test28_6.jpg (deflated 1%)\n",
            "  adding: content/data/test/Non Accident/test29_19.jpg (deflated 0%)\n",
            "  adding: content/data/test/Non Accident/test28_10.jpg (deflated 1%)\n",
            "  adding: content/data/test/Non Accident/Pictures - Shortcut.lnk (deflated 37%)\n",
            "  adding: content/data/test/Non Accident/test10_5.jpg (deflated 0%)\n",
            "  adding: content/data/test/Non Accident/test28_1.jpg (deflated 1%)\n",
            "  adding: content/data/test/Accident/ (stored 0%)\n",
            "  adding: content/data/test/Accident/test27_13.jpg (deflated 0%)\n",
            "  adding: content/data/test/Accident/test_33.jpg (deflated 0%)\n",
            "  adding: content/data/test/Accident/test26_23.jpg (deflated 0%)\n",
            "  adding: content/data/test/Accident/test19_26.jpg (deflated 0%)\n",
            "  adding: content/data/test/Accident/test7_25.jpg (deflated 1%)\n",
            "  adding: content/data/test/Accident/test1_24.jpg (deflated 0%)\n",
            "  adding: content/data/test/Accident/test23_19.jpg (deflated 1%)\n",
            "  adding: content/data/test/Accident/test2_7.jpg (deflated 0%)\n",
            "  adding: content/data/test/Accident/test5_12.jpg (deflated 0%)\n",
            "  adding: content/data/test/Accident/test10_61.jpg (deflated 0%)\n",
            "  adding: content/data/test/Accident/test2_16.jpg (deflated 0%)\n",
            "  adding: content/data/test/Accident/test10_33.jpg (deflated 1%)\n",
            "  adding: content/data/test/Accident/test2_10.jpg (deflated 0%)\n",
            "  adding: content/data/test/Accident/test12_16.jpg (deflated 0%)\n",
            "  adding: content/data/test/Accident/test21_14.jpg (deflated 0%)\n",
            "  adding: content/data/test/Accident/test18_22.jpg (deflated 0%)\n",
            "  adding: content/data/test/Accident/test13_22.jpg (deflated 1%)\n",
            "  adding: content/data/test/Accident/test18_24.jpg (deflated 0%)\n",
            "  adding: content/data/test/Accident/test10_56.jpg (deflated 0%)\n",
            "  adding: content/data/test/Accident/test4_43.jpg (deflated 0%)\n",
            "  adding: content/data/test/Accident/test27_25.jpg (deflated 0%)\n",
            "  adding: content/data/test/Accident/test3_32.jpg (deflated 1%)\n",
            "  adding: content/data/test/Accident/test1_20.jpg (deflated 1%)\n",
            "  adding: content/data/test/Accident/acc1 (7).jpg (deflated 0%)\n",
            "  adding: content/data/test/Accident/test15_15.jpg (deflated 1%)\n",
            "  adding: content/data/test/Accident/test4_37.jpg (deflated 0%)\n",
            "  adding: content/data/test/Accident/test4_40.jpg (deflated 0%)\n",
            "  adding: content/data/test/Accident/test28_20.jpg (deflated 0%)\n",
            "  adding: content/data/test/Accident/test27_34.jpg (deflated 0%)\n",
            "  adding: content/data/test/Accident/test26_30.jpg (deflated 0%)\n",
            "  adding: content/data/test/Accident/test25_24.jpg (deflated 0%)\n",
            "  adding: content/data/test/Accident/test1_27.jpg (deflated 0%)\n",
            "  adding: content/data/test/Accident/test21_18.jpg (deflated 0%)\n",
            "  adding: content/data/test/Accident/test4_42.jpg (deflated 0%)\n",
            "  adding: content/data/test/Accident/test5_14.jpg (deflated 0%)\n",
            "  adding: content/data/test/Accident/test28_23.jpg (deflated 0%)\n",
            "  adding: content/data/test/Accident/test1_26.jpg (deflated 0%)\n",
            "  adding: content/data/test/Accident/test28_26.jpg (deflated 0%)\n",
            "  adding: content/data/test/Accident/test1_18.jpg (deflated 0%)\n",
            "  adding: content/data/test/Accident/test12_13.jpg (deflated 0%)\n",
            "  adding: content/data/test/Accident/test21_10.jpg (deflated 0%)\n",
            "  adding: content/data/test/Accident/test2_1.jpg (deflated 0%)\n",
            "  adding: content/data/test/Accident/test22_23.jpg (deflated 0%)\n",
            "  adding: content/data/test/Accident/test24_30.jpg (deflated 0%)\n",
            "  adding: content/data/test/Accident/test21_20.jpg (deflated 0%)\n",
            "  adding: content/data/test/Accident/test2_4.jpg (deflated 0%)\n",
            "  adding: content/data/test/Accident/test30_8.jpg (deflated 0%)\n"
          ]
        }
      ],
      "source": [
        "!zip -r dataset.zip /content/data"
      ]
    },
    {
      "cell_type": "code",
      "execution_count": null,
      "metadata": {
        "id": "M69Y_jgyTPGm"
      },
      "outputs": [],
      "source": [
        "!cp -r /content/dataset.zip /content/drive/MyDrive/seoul-impact"
      ]
    },
    {
      "cell_type": "markdown",
      "metadata": {
        "id": "qBw8ugZjC9U2"
      },
      "source": [
        "# Flooding Training\n"
      ]
    },
    {
      "cell_type": "code",
      "execution_count": null,
      "metadata": {
        "colab": {
          "base_uri": "https://localhost:8080/"
        },
        "id": "NY2JD2zQmS-3",
        "outputId": "f0af2bff-b04b-4949-9791-55f05a72c127"
      },
      "outputs": [
        {
          "name": "stdout",
          "output_type": "stream",
          "text": [
            "Downloading https://github.com/ultralytics/assets/releases/download/v8.2.0/yolov8x-cls.pt to 'yolov8x-cls.pt'...\n"
          ]
        },
        {
          "name": "stderr",
          "output_type": "stream",
          "text": [
            "100%|██████████| 110M/110M [00:04<00:00, 25.9MB/s]\n"
          ]
        }
      ],
      "source": [
        "from ultralytics import YOLO\n",
        "\n",
        "model = YOLO(\"yolov8x-cls.pt\")"
      ]
    },
    {
      "cell_type": "code",
      "execution_count": null,
      "metadata": {
        "colab": {
          "base_uri": "https://localhost:8080/"
        },
        "id": "yKQR6QfQdRzr",
        "outputId": "fe41658a-8eb1-42af-a197-6eb6c2c53bb4"
      },
      "outputs": [
        {
          "name": "stdout",
          "output_type": "stream",
          "text": [
            "Ultralytics YOLOv8.2.87 🚀 Python-3.10.12 torch-2.4.0+cu121 CUDA:0 (Tesla T4, 15102MiB)\n",
            "\u001b[34m\u001b[1mengine/trainer: \u001b[0mtask=classify, mode=train, model=yolov8x-cls.pt, data=/content/data, epochs=50, time=None, patience=100, batch=16, imgsz=256, save=True, save_period=-1, cache=False, device=None, workers=8, project=None, name=train, exist_ok=False, pretrained=True, optimizer=auto, verbose=False, seed=0, deterministic=True, single_cls=False, rect=False, cos_lr=False, close_mosaic=10, resume=False, amp=True, fraction=1.0, profile=False, freeze=None, multi_scale=False, overlap_mask=True, mask_ratio=4, dropout=0.0, val=True, split=val, save_json=True, save_hybrid=False, conf=None, iou=0.7, max_det=300, half=False, dnn=False, plots=True, source=None, vid_stride=1, stream_buffer=False, visualize=False, augment=True, agnostic_nms=False, classes=None, retina_masks=False, embed=None, show=False, save_frames=False, save_txt=True, save_conf=False, save_crop=False, show_labels=True, show_conf=True, show_boxes=True, line_width=None, format=torchscript, keras=False, optimize=False, int8=False, dynamic=False, simplify=False, opset=None, workspace=4, nms=False, lr0=0.01, lrf=0.01, momentum=0.937, weight_decay=0.0005, warmup_epochs=3.0, warmup_momentum=0.8, warmup_bias_lr=0.1, box=7.5, cls=0.5, dfl=1.5, pose=12.0, kobj=1.0, label_smoothing=0.0, nbs=64, hsv_h=0.015, hsv_s=0.7, hsv_v=0.4, degrees=0.0, translate=0.1, scale=0.5, shear=0.0, perspective=0.0, flipud=0.0, fliplr=0.5, bgr=0.0, mosaic=1.0, mixup=0.0, copy_paste=0.0, auto_augment=randaugment, erasing=0.4, crop_fraction=1.0, cfg=None, tracker=botsort.yaml, save_dir=runs/classify/train\n",
            "\u001b[34m\u001b[1mtrain:\u001b[0m /content/data/train... found 791 images in 2 classes ✅ \n",
            "\u001b[34m\u001b[1mval:\u001b[0m /content/data/val... found 98 images in 2 classes ✅ \n",
            "\u001b[34m\u001b[1mtest:\u001b[0m /content/data/test... found 100 images in 2 classes ✅ \n",
            "Overriding model.yaml nc=1000 with nc=2\n",
            "\n",
            "                   from  n    params  module                                       arguments                     \n",
            "  0                  -1  1      2320  ultralytics.nn.modules.conv.Conv             [3, 80, 3, 2]                 \n",
            "  1                  -1  1    115520  ultralytics.nn.modules.conv.Conv             [80, 160, 3, 2]               \n",
            "  2                  -1  3    436800  ultralytics.nn.modules.block.C2f             [160, 160, 3, True]           \n",
            "  3                  -1  1    461440  ultralytics.nn.modules.conv.Conv             [160, 320, 3, 2]              \n",
            "  4                  -1  6   3281920  ultralytics.nn.modules.block.C2f             [320, 320, 6, True]           \n",
            "  5                  -1  1   1844480  ultralytics.nn.modules.conv.Conv             [320, 640, 3, 2]              \n",
            "  6                  -1  6  13117440  ultralytics.nn.modules.block.C2f             [640, 640, 6, True]           \n",
            "  7                  -1  1   7375360  ultralytics.nn.modules.conv.Conv             [640, 1280, 3, 2]             \n",
            "  8                  -1  3  27865600  ultralytics.nn.modules.block.C2f             [1280, 1280, 3, True]         \n",
            "  9                  -1  1   1643522  ultralytics.nn.modules.head.Classify         [1280, 2]                     \n",
            "YOLOv8x-cls summary: 183 layers, 56,144,402 parameters, 56,144,402 gradients, 154.3 GFLOPs\n",
            "Transferred 300/302 items from pretrained weights\n",
            "\u001b[34m\u001b[1mTensorBoard: \u001b[0mStart with 'tensorboard --logdir runs/classify/train', view at http://localhost:6006/\n",
            "\u001b[34m\u001b[1mAMP: \u001b[0mrunning Automatic Mixed Precision (AMP) checks with YOLOv8n...\n",
            "Downloading https://github.com/ultralytics/assets/releases/download/v8.2.0/yolov8n.pt to 'yolov8n.pt'...\n"
          ]
        },
        {
          "name": "stderr",
          "output_type": "stream",
          "text": [
            "100%|██████████| 6.25M/6.25M [00:00<00:00, 336MB/s]\n"
          ]
        },
        {
          "name": "stdout",
          "output_type": "stream",
          "text": [
            "\u001b[34m\u001b[1mAMP: \u001b[0mchecks passed ✅\n"
          ]
        },
        {
          "name": "stderr",
          "output_type": "stream",
          "text": [
            "\u001b[34m\u001b[1mtrain: \u001b[0mScanning /content/data/train... 791 images, 0 corrupt: 100%|██████████| 791/791 [00:00<00:00, 2992.64it/s]"
          ]
        },
        {
          "name": "stdout",
          "output_type": "stream",
          "text": [
            "\u001b[34m\u001b[1mtrain: \u001b[0mNew cache created: /content/data/train.cache\n"
          ]
        },
        {
          "name": "stderr",
          "output_type": "stream",
          "text": [
            "\n",
            "/usr/lib/python3.10/multiprocessing/popen_fork.py:66: RuntimeWarning: os.fork() was called. os.fork() is incompatible with multithreaded code, and JAX is multithreaded, so this will likely lead to a deadlock.\n",
            "  self.pid = os.fork()\n",
            "\u001b[34m\u001b[1mval: \u001b[0mScanning /content/data/val... 98 images, 0 corrupt: 100%|██████████| 98/98 [00:00<00:00, 2128.90it/s]"
          ]
        },
        {
          "name": "stdout",
          "output_type": "stream",
          "text": [
            "\u001b[34m\u001b[1mval: \u001b[0mNew cache created: /content/data/val.cache\n"
          ]
        },
        {
          "name": "stderr",
          "output_type": "stream",
          "text": [
            "\n"
          ]
        },
        {
          "name": "stdout",
          "output_type": "stream",
          "text": [
            "\u001b[34m\u001b[1moptimizer:\u001b[0m 'optimizer=auto' found, ignoring 'lr0=0.01' and 'momentum=0.937' and determining best 'optimizer', 'lr0' and 'momentum' automatically... \n",
            "\u001b[34m\u001b[1moptimizer:\u001b[0m AdamW(lr=0.000714, momentum=0.9) with parameter groups 50 weight(decay=0.0), 51 weight(decay=0.0005), 51 bias(decay=0.0)\n",
            "\u001b[34m\u001b[1mTensorBoard: \u001b[0mmodel graph visualization added ✅\n",
            "Image sizes 256 train, 256 val\n",
            "Using 8 dataloader workers\n",
            "Logging results to \u001b[1mruns/classify/train\u001b[0m\n",
            "Starting training for 50 epochs...\n",
            "\n",
            "      Epoch    GPU_mem       loss  Instances       Size\n"
          ]
        },
        {
          "name": "stderr",
          "output_type": "stream",
          "text": [
            "       1/50       2.6G     0.7035         16        256:   8%|▊         | 4/50 [00:01<00:11,  3.85it/s]"
          ]
        },
        {
          "name": "stdout",
          "output_type": "stream",
          "text": [
            "Downloading https://ultralytics.com/assets/Arial.ttf to '/root/.config/Ultralytics/Arial.ttf'...\n"
          ]
        },
        {
          "name": "stderr",
          "output_type": "stream",
          "text": [
            "       1/50       2.6G     0.6958         16        256:  24%|██▍       | 12/50 [00:02<00:05,  6.40it/s]\n",
            "100%|██████████| 755k/755k [00:00<00:00, 60.2MB/s]\n",
            "       1/50       2.6G     0.6274          7        256: 100%|██████████| 50/50 [00:08<00:00,  6.08it/s]\n",
            "               classes   top1_acc   top5_acc: 100%|██████████| 4/4 [00:00<00:00, 12.42it/s]"
          ]
        },
        {
          "name": "stdout",
          "output_type": "stream",
          "text": [
            "                   all      0.827          1\n"
          ]
        },
        {
          "name": "stderr",
          "output_type": "stream",
          "text": [
            "\n"
          ]
        },
        {
          "name": "stdout",
          "output_type": "stream",
          "text": [
            "\n",
            "      Epoch    GPU_mem       loss  Instances       Size\n"
          ]
        },
        {
          "name": "stderr",
          "output_type": "stream",
          "text": [
            "       2/50      2.74G     0.4163          7        256: 100%|██████████| 50/50 [00:06<00:00,  7.38it/s]\n",
            "               classes   top1_acc   top5_acc: 100%|██████████| 4/4 [00:00<00:00, 15.53it/s]"
          ]
        },
        {
          "name": "stdout",
          "output_type": "stream",
          "text": [
            "                   all      0.888          1\n"
          ]
        },
        {
          "name": "stderr",
          "output_type": "stream",
          "text": [
            "\n"
          ]
        },
        {
          "name": "stdout",
          "output_type": "stream",
          "text": [
            "\n",
            "      Epoch    GPU_mem       loss  Instances       Size\n"
          ]
        },
        {
          "name": "stderr",
          "output_type": "stream",
          "text": [
            "       3/50      2.75G     0.3198          7        256: 100%|██████████| 50/50 [00:06<00:00,  7.53it/s]\n",
            "               classes   top1_acc   top5_acc: 100%|██████████| 4/4 [00:00<00:00, 16.01it/s]"
          ]
        },
        {
          "name": "stdout",
          "output_type": "stream",
          "text": [
            "                   all      0.857          1\n"
          ]
        },
        {
          "name": "stderr",
          "output_type": "stream",
          "text": [
            "\n"
          ]
        },
        {
          "name": "stdout",
          "output_type": "stream",
          "text": [
            "\n",
            "      Epoch    GPU_mem       loss  Instances       Size\n"
          ]
        },
        {
          "name": "stderr",
          "output_type": "stream",
          "text": [
            "       4/50      2.73G     0.2951          7        256: 100%|██████████| 50/50 [00:06<00:00,  7.61it/s]\n",
            "               classes   top1_acc   top5_acc: 100%|██████████| 4/4 [00:00<00:00, 15.74it/s]"
          ]
        },
        {
          "name": "stdout",
          "output_type": "stream",
          "text": [
            "                   all      0.939          1\n"
          ]
        },
        {
          "name": "stderr",
          "output_type": "stream",
          "text": [
            "\n"
          ]
        },
        {
          "name": "stdout",
          "output_type": "stream",
          "text": [
            "\n",
            "      Epoch    GPU_mem       loss  Instances       Size\n"
          ]
        },
        {
          "name": "stderr",
          "output_type": "stream",
          "text": [
            "       5/50      2.76G     0.2553          7        256: 100%|██████████| 50/50 [00:06<00:00,  7.54it/s]\n",
            "               classes   top1_acc   top5_acc: 100%|██████████| 4/4 [00:00<00:00, 15.34it/s]"
          ]
        },
        {
          "name": "stdout",
          "output_type": "stream",
          "text": [
            "                   all      0.908          1\n"
          ]
        },
        {
          "name": "stderr",
          "output_type": "stream",
          "text": [
            "\n"
          ]
        },
        {
          "name": "stdout",
          "output_type": "stream",
          "text": [
            "\n",
            "      Epoch    GPU_mem       loss  Instances       Size\n"
          ]
        },
        {
          "name": "stderr",
          "output_type": "stream",
          "text": [
            "       6/50      2.76G     0.2401          7        256: 100%|██████████| 50/50 [00:06<00:00,  7.52it/s]\n",
            "               classes   top1_acc   top5_acc: 100%|██████████| 4/4 [00:00<00:00, 15.59it/s]"
          ]
        },
        {
          "name": "stdout",
          "output_type": "stream",
          "text": [
            "                   all      0.939          1\n"
          ]
        },
        {
          "name": "stderr",
          "output_type": "stream",
          "text": [
            "\n"
          ]
        },
        {
          "name": "stdout",
          "output_type": "stream",
          "text": [
            "\n",
            "      Epoch    GPU_mem       loss  Instances       Size\n"
          ]
        },
        {
          "name": "stderr",
          "output_type": "stream",
          "text": [
            "       7/50      2.76G     0.2006          7        256: 100%|██████████| 50/50 [00:06<00:00,  7.51it/s]\n",
            "               classes   top1_acc   top5_acc: 100%|██████████| 4/4 [00:00<00:00, 15.19it/s]"
          ]
        },
        {
          "name": "stdout",
          "output_type": "stream",
          "text": [
            "                   all      0.898          1\n"
          ]
        },
        {
          "name": "stderr",
          "output_type": "stream",
          "text": [
            "\n"
          ]
        },
        {
          "name": "stdout",
          "output_type": "stream",
          "text": [
            "\n",
            "      Epoch    GPU_mem       loss  Instances       Size\n"
          ]
        },
        {
          "name": "stderr",
          "output_type": "stream",
          "text": [
            "       8/50      2.73G     0.2317          7        256: 100%|██████████| 50/50 [00:06<00:00,  7.42it/s]\n",
            "               classes   top1_acc   top5_acc: 100%|██████████| 4/4 [00:00<00:00, 14.74it/s]"
          ]
        },
        {
          "name": "stdout",
          "output_type": "stream",
          "text": [
            "                   all      0.908          1\n"
          ]
        },
        {
          "name": "stderr",
          "output_type": "stream",
          "text": [
            "\n"
          ]
        },
        {
          "name": "stdout",
          "output_type": "stream",
          "text": [
            "\n",
            "      Epoch    GPU_mem       loss  Instances       Size\n"
          ]
        },
        {
          "name": "stderr",
          "output_type": "stream",
          "text": [
            "       9/50      2.78G     0.2129          7        256: 100%|██████████| 50/50 [00:06<00:00,  7.38it/s]\n",
            "               classes   top1_acc   top5_acc: 100%|██████████| 4/4 [00:00<00:00, 14.94it/s]"
          ]
        },
        {
          "name": "stdout",
          "output_type": "stream",
          "text": [
            "                   all      0.908          1\n"
          ]
        },
        {
          "name": "stderr",
          "output_type": "stream",
          "text": [
            "\n"
          ]
        },
        {
          "name": "stdout",
          "output_type": "stream",
          "text": [
            "\n",
            "      Epoch    GPU_mem       loss  Instances       Size\n"
          ]
        },
        {
          "name": "stderr",
          "output_type": "stream",
          "text": [
            "      10/50      2.74G      0.177          7        256: 100%|██████████| 50/50 [00:06<00:00,  7.32it/s]\n",
            "               classes   top1_acc   top5_acc: 100%|██████████| 4/4 [00:00<00:00, 14.71it/s]"
          ]
        },
        {
          "name": "stdout",
          "output_type": "stream",
          "text": [
            "                   all      0.888          1\n"
          ]
        },
        {
          "name": "stderr",
          "output_type": "stream",
          "text": [
            "\n"
          ]
        },
        {
          "name": "stdout",
          "output_type": "stream",
          "text": [
            "\n",
            "      Epoch    GPU_mem       loss  Instances       Size\n"
          ]
        },
        {
          "name": "stderr",
          "output_type": "stream",
          "text": [
            "      11/50      2.77G     0.1851          7        256: 100%|██████████| 50/50 [00:06<00:00,  7.28it/s]\n",
            "               classes   top1_acc   top5_acc: 100%|██████████| 4/4 [00:00<00:00, 14.91it/s]"
          ]
        },
        {
          "name": "stdout",
          "output_type": "stream",
          "text": [
            "                   all      0.918          1\n"
          ]
        },
        {
          "name": "stderr",
          "output_type": "stream",
          "text": [
            "\n"
          ]
        },
        {
          "name": "stdout",
          "output_type": "stream",
          "text": [
            "\n",
            "      Epoch    GPU_mem       loss  Instances       Size\n"
          ]
        },
        {
          "name": "stderr",
          "output_type": "stream",
          "text": [
            "      12/50      2.73G     0.1624          7        256: 100%|██████████| 50/50 [00:06<00:00,  7.24it/s]\n",
            "               classes   top1_acc   top5_acc: 100%|██████████| 4/4 [00:00<00:00, 14.54it/s]"
          ]
        },
        {
          "name": "stdout",
          "output_type": "stream",
          "text": [
            "                   all      0.959          1\n"
          ]
        },
        {
          "name": "stderr",
          "output_type": "stream",
          "text": [
            "\n"
          ]
        },
        {
          "name": "stdout",
          "output_type": "stream",
          "text": [
            "\n",
            "      Epoch    GPU_mem       loss  Instances       Size\n"
          ]
        },
        {
          "name": "stderr",
          "output_type": "stream",
          "text": [
            "      13/50      2.78G     0.1721          7        256: 100%|██████████| 50/50 [00:06<00:00,  7.20it/s]\n",
            "               classes   top1_acc   top5_acc: 100%|██████████| 4/4 [00:00<00:00, 14.76it/s]"
          ]
        },
        {
          "name": "stdout",
          "output_type": "stream",
          "text": [
            "                   all       0.98          1\n"
          ]
        },
        {
          "name": "stderr",
          "output_type": "stream",
          "text": [
            "\n"
          ]
        },
        {
          "name": "stdout",
          "output_type": "stream",
          "text": [
            "\n",
            "      Epoch    GPU_mem       loss  Instances       Size\n"
          ]
        },
        {
          "name": "stderr",
          "output_type": "stream",
          "text": [
            "      14/50      2.74G     0.1527          7        256: 100%|██████████| 50/50 [00:07<00:00,  7.12it/s]\n",
            "               classes   top1_acc   top5_acc: 100%|██████████| 4/4 [00:00<00:00, 13.99it/s]"
          ]
        },
        {
          "name": "stdout",
          "output_type": "stream",
          "text": [
            "                   all      0.939          1\n"
          ]
        },
        {
          "name": "stderr",
          "output_type": "stream",
          "text": [
            "\n"
          ]
        },
        {
          "name": "stdout",
          "output_type": "stream",
          "text": [
            "\n",
            "      Epoch    GPU_mem       loss  Instances       Size\n"
          ]
        },
        {
          "name": "stderr",
          "output_type": "stream",
          "text": [
            "      15/50      2.76G     0.1402          7        256: 100%|██████████| 50/50 [00:07<00:00,  7.10it/s]\n",
            "               classes   top1_acc   top5_acc: 100%|██████████| 4/4 [00:00<00:00, 14.31it/s]"
          ]
        },
        {
          "name": "stdout",
          "output_type": "stream",
          "text": [
            "                   all      0.929          1\n"
          ]
        },
        {
          "name": "stderr",
          "output_type": "stream",
          "text": [
            "\n"
          ]
        },
        {
          "name": "stdout",
          "output_type": "stream",
          "text": [
            "\n",
            "      Epoch    GPU_mem       loss  Instances       Size\n"
          ]
        },
        {
          "name": "stderr",
          "output_type": "stream",
          "text": [
            "      16/50      2.73G     0.1217          7        256: 100%|██████████| 50/50 [00:07<00:00,  7.01it/s]\n",
            "               classes   top1_acc   top5_acc: 100%|██████████| 4/4 [00:00<00:00, 13.73it/s]"
          ]
        },
        {
          "name": "stdout",
          "output_type": "stream",
          "text": [
            "                   all      0.929          1\n"
          ]
        },
        {
          "name": "stderr",
          "output_type": "stream",
          "text": [
            "\n"
          ]
        },
        {
          "name": "stdout",
          "output_type": "stream",
          "text": [
            "\n",
            "      Epoch    GPU_mem       loss  Instances       Size\n"
          ]
        },
        {
          "name": "stderr",
          "output_type": "stream",
          "text": [
            "      17/50      2.76G     0.1402          7        256: 100%|██████████| 50/50 [00:07<00:00,  7.01it/s]\n",
            "               classes   top1_acc   top5_acc: 100%|██████████| 4/4 [00:00<00:00, 14.30it/s]"
          ]
        },
        {
          "name": "stdout",
          "output_type": "stream",
          "text": [
            "                   all      0.949          1\n"
          ]
        },
        {
          "name": "stderr",
          "output_type": "stream",
          "text": [
            "\n"
          ]
        },
        {
          "name": "stdout",
          "output_type": "stream",
          "text": [
            "\n",
            "      Epoch    GPU_mem       loss  Instances       Size\n"
          ]
        },
        {
          "name": "stderr",
          "output_type": "stream",
          "text": [
            "      18/50      2.76G     0.1036          7        256: 100%|██████████| 50/50 [00:07<00:00,  6.97it/s]\n",
            "               classes   top1_acc   top5_acc: 100%|██████████| 4/4 [00:00<00:00, 14.16it/s]"
          ]
        },
        {
          "name": "stdout",
          "output_type": "stream",
          "text": [
            "                   all      0.918          1\n"
          ]
        },
        {
          "name": "stderr",
          "output_type": "stream",
          "text": [
            "\n"
          ]
        },
        {
          "name": "stdout",
          "output_type": "stream",
          "text": [
            "\n",
            "      Epoch    GPU_mem       loss  Instances       Size\n"
          ]
        },
        {
          "name": "stderr",
          "output_type": "stream",
          "text": [
            "      19/50      2.76G     0.1251          7        256: 100%|██████████| 50/50 [00:07<00:00,  7.06it/s]\n",
            "               classes   top1_acc   top5_acc: 100%|██████████| 4/4 [00:00<00:00, 14.43it/s]"
          ]
        },
        {
          "name": "stdout",
          "output_type": "stream",
          "text": [
            "                   all      0.918          1\n"
          ]
        },
        {
          "name": "stderr",
          "output_type": "stream",
          "text": [
            "\n"
          ]
        },
        {
          "name": "stdout",
          "output_type": "stream",
          "text": [
            "\n",
            "      Epoch    GPU_mem       loss  Instances       Size\n"
          ]
        },
        {
          "name": "stderr",
          "output_type": "stream",
          "text": [
            "      20/50      2.72G     0.1045          7        256: 100%|██████████| 50/50 [00:07<00:00,  7.04it/s]\n",
            "               classes   top1_acc   top5_acc: 100%|██████████| 4/4 [00:00<00:00, 13.82it/s]"
          ]
        },
        {
          "name": "stdout",
          "output_type": "stream",
          "text": [
            "                   all      0.929          1\n"
          ]
        },
        {
          "name": "stderr",
          "output_type": "stream",
          "text": [
            "\n"
          ]
        },
        {
          "name": "stdout",
          "output_type": "stream",
          "text": [
            "\n",
            "      Epoch    GPU_mem       loss  Instances       Size\n"
          ]
        },
        {
          "name": "stderr",
          "output_type": "stream",
          "text": [
            "      21/50      2.75G     0.1383          7        256: 100%|██████████| 50/50 [00:07<00:00,  7.07it/s]\n",
            "               classes   top1_acc   top5_acc: 100%|██████████| 4/4 [00:00<00:00, 14.22it/s]"
          ]
        },
        {
          "name": "stdout",
          "output_type": "stream",
          "text": [
            "                   all      0.918          1\n"
          ]
        },
        {
          "name": "stderr",
          "output_type": "stream",
          "text": [
            "\n"
          ]
        },
        {
          "name": "stdout",
          "output_type": "stream",
          "text": [
            "\n",
            "      Epoch    GPU_mem       loss  Instances       Size\n"
          ]
        },
        {
          "name": "stderr",
          "output_type": "stream",
          "text": [
            "      22/50      2.73G     0.1284          7        256: 100%|██████████| 50/50 [00:07<00:00,  7.08it/s]\n",
            "               classes   top1_acc   top5_acc: 100%|██████████| 4/4 [00:00<00:00, 14.18it/s]"
          ]
        },
        {
          "name": "stdout",
          "output_type": "stream",
          "text": [
            "                   all      0.929          1\n"
          ]
        },
        {
          "name": "stderr",
          "output_type": "stream",
          "text": [
            "\n"
          ]
        },
        {
          "name": "stdout",
          "output_type": "stream",
          "text": [
            "\n",
            "      Epoch    GPU_mem       loss  Instances       Size\n"
          ]
        },
        {
          "name": "stderr",
          "output_type": "stream",
          "text": [
            "      23/50      2.76G     0.1075          7        256: 100%|██████████| 50/50 [00:07<00:00,  7.10it/s]\n",
            "               classes   top1_acc   top5_acc: 100%|██████████| 4/4 [00:00<00:00, 14.20it/s]"
          ]
        },
        {
          "name": "stdout",
          "output_type": "stream",
          "text": [
            "                   all      0.969          1\n"
          ]
        },
        {
          "name": "stderr",
          "output_type": "stream",
          "text": [
            "\n"
          ]
        },
        {
          "name": "stdout",
          "output_type": "stream",
          "text": [
            "\n",
            "      Epoch    GPU_mem       loss  Instances       Size\n"
          ]
        },
        {
          "name": "stderr",
          "output_type": "stream",
          "text": [
            "      24/50      2.73G     0.1004          7        256: 100%|██████████| 50/50 [00:07<00:00,  7.09it/s]\n",
            "               classes   top1_acc   top5_acc: 100%|██████████| 4/4 [00:00<00:00, 14.35it/s]"
          ]
        },
        {
          "name": "stdout",
          "output_type": "stream",
          "text": [
            "                   all      0.949          1\n"
          ]
        },
        {
          "name": "stderr",
          "output_type": "stream",
          "text": [
            "\n"
          ]
        },
        {
          "name": "stdout",
          "output_type": "stream",
          "text": [
            "\n",
            "      Epoch    GPU_mem       loss  Instances       Size\n"
          ]
        },
        {
          "name": "stderr",
          "output_type": "stream",
          "text": [
            "      25/50      2.79G    0.08687          7        256: 100%|██████████| 50/50 [00:07<00:00,  7.07it/s]\n",
            "               classes   top1_acc   top5_acc: 100%|██████████| 4/4 [00:00<00:00, 14.14it/s]"
          ]
        },
        {
          "name": "stdout",
          "output_type": "stream",
          "text": [
            "                   all      0.949          1\n"
          ]
        },
        {
          "name": "stderr",
          "output_type": "stream",
          "text": [
            "\n"
          ]
        },
        {
          "name": "stdout",
          "output_type": "stream",
          "text": [
            "\n",
            "      Epoch    GPU_mem       loss  Instances       Size\n"
          ]
        },
        {
          "name": "stderr",
          "output_type": "stream",
          "text": [
            "      26/50      2.73G    0.08226          7        256: 100%|██████████| 50/50 [00:07<00:00,  7.07it/s]\n",
            "               classes   top1_acc   top5_acc: 100%|██████████| 4/4 [00:00<00:00, 14.04it/s]"
          ]
        },
        {
          "name": "stdout",
          "output_type": "stream",
          "text": [
            "                   all      0.949          1\n"
          ]
        },
        {
          "name": "stderr",
          "output_type": "stream",
          "text": [
            "\n"
          ]
        },
        {
          "name": "stdout",
          "output_type": "stream",
          "text": [
            "\n",
            "      Epoch    GPU_mem       loss  Instances       Size\n"
          ]
        },
        {
          "name": "stderr",
          "output_type": "stream",
          "text": [
            "      27/50      2.76G    0.09858          7        256: 100%|██████████| 50/50 [00:07<00:00,  7.07it/s]\n",
            "               classes   top1_acc   top5_acc: 100%|██████████| 4/4 [00:00<00:00, 13.97it/s]"
          ]
        },
        {
          "name": "stdout",
          "output_type": "stream",
          "text": [
            "                   all      0.939          1\n"
          ]
        },
        {
          "name": "stderr",
          "output_type": "stream",
          "text": [
            "\n"
          ]
        },
        {
          "name": "stdout",
          "output_type": "stream",
          "text": [
            "\n",
            "      Epoch    GPU_mem       loss  Instances       Size\n"
          ]
        },
        {
          "name": "stderr",
          "output_type": "stream",
          "text": [
            "      28/50      2.76G    0.09384          7        256: 100%|██████████| 50/50 [00:07<00:00,  7.05it/s]\n",
            "               classes   top1_acc   top5_acc: 100%|██████████| 4/4 [00:00<00:00, 14.04it/s]"
          ]
        },
        {
          "name": "stdout",
          "output_type": "stream",
          "text": [
            "                   all      0.929          1\n"
          ]
        },
        {
          "name": "stderr",
          "output_type": "stream",
          "text": [
            "\n"
          ]
        },
        {
          "name": "stdout",
          "output_type": "stream",
          "text": [
            "\n",
            "      Epoch    GPU_mem       loss  Instances       Size\n"
          ]
        },
        {
          "name": "stderr",
          "output_type": "stream",
          "text": [
            "      29/50      2.75G    0.06594          7        256: 100%|██████████| 50/50 [00:07<00:00,  7.08it/s]\n",
            "               classes   top1_acc   top5_acc: 100%|██████████| 4/4 [00:00<00:00, 14.15it/s]"
          ]
        },
        {
          "name": "stdout",
          "output_type": "stream",
          "text": [
            "                   all      0.939          1\n"
          ]
        },
        {
          "name": "stderr",
          "output_type": "stream",
          "text": [
            "\n"
          ]
        },
        {
          "name": "stdout",
          "output_type": "stream",
          "text": [
            "\n",
            "      Epoch    GPU_mem       loss  Instances       Size\n"
          ]
        },
        {
          "name": "stderr",
          "output_type": "stream",
          "text": [
            "      30/50      2.74G    0.08064          7        256: 100%|██████████| 50/50 [00:07<00:00,  7.04it/s]\n",
            "               classes   top1_acc   top5_acc: 100%|██████████| 4/4 [00:00<00:00, 13.79it/s]"
          ]
        },
        {
          "name": "stdout",
          "output_type": "stream",
          "text": [
            "                   all      0.939          1\n"
          ]
        },
        {
          "name": "stderr",
          "output_type": "stream",
          "text": [
            "\n"
          ]
        },
        {
          "name": "stdout",
          "output_type": "stream",
          "text": [
            "\n",
            "      Epoch    GPU_mem       loss  Instances       Size\n"
          ]
        },
        {
          "name": "stderr",
          "output_type": "stream",
          "text": [
            "      31/50      2.75G    0.07067          7        256: 100%|██████████| 50/50 [00:07<00:00,  7.09it/s]\n",
            "               classes   top1_acc   top5_acc: 100%|██████████| 4/4 [00:00<00:00, 14.42it/s]"
          ]
        },
        {
          "name": "stdout",
          "output_type": "stream",
          "text": [
            "                   all      0.949          1\n"
          ]
        },
        {
          "name": "stderr",
          "output_type": "stream",
          "text": [
            "\n"
          ]
        },
        {
          "name": "stdout",
          "output_type": "stream",
          "text": [
            "\n",
            "      Epoch    GPU_mem       loss  Instances       Size\n"
          ]
        },
        {
          "name": "stderr",
          "output_type": "stream",
          "text": [
            "      32/50      2.74G    0.07068          7        256: 100%|██████████| 50/50 [00:07<00:00,  7.02it/s]\n",
            "               classes   top1_acc   top5_acc: 100%|██████████| 4/4 [00:00<00:00, 14.28it/s]"
          ]
        },
        {
          "name": "stdout",
          "output_type": "stream",
          "text": [
            "                   all      0.929          1\n"
          ]
        },
        {
          "name": "stderr",
          "output_type": "stream",
          "text": [
            "\n"
          ]
        },
        {
          "name": "stdout",
          "output_type": "stream",
          "text": [
            "\n",
            "      Epoch    GPU_mem       loss  Instances       Size\n"
          ]
        },
        {
          "name": "stderr",
          "output_type": "stream",
          "text": [
            "      33/50      2.76G    0.07522          7        256: 100%|██████████| 50/50 [00:07<00:00,  7.08it/s]\n",
            "               classes   top1_acc   top5_acc: 100%|██████████| 4/4 [00:00<00:00, 14.20it/s]"
          ]
        },
        {
          "name": "stdout",
          "output_type": "stream",
          "text": [
            "                   all      0.959          1\n"
          ]
        },
        {
          "name": "stderr",
          "output_type": "stream",
          "text": [
            "\n"
          ]
        },
        {
          "name": "stdout",
          "output_type": "stream",
          "text": [
            "\n",
            "      Epoch    GPU_mem       loss  Instances       Size\n"
          ]
        },
        {
          "name": "stderr",
          "output_type": "stream",
          "text": [
            "      34/50      2.73G    0.05445          7        256: 100%|██████████| 50/50 [00:07<00:00,  7.04it/s]\n",
            "               classes   top1_acc   top5_acc: 100%|██████████| 4/4 [00:00<00:00, 14.11it/s]"
          ]
        },
        {
          "name": "stdout",
          "output_type": "stream",
          "text": [
            "                   all      0.969          1\n"
          ]
        },
        {
          "name": "stderr",
          "output_type": "stream",
          "text": [
            "\n"
          ]
        },
        {
          "name": "stdout",
          "output_type": "stream",
          "text": [
            "\n",
            "      Epoch    GPU_mem       loss  Instances       Size\n"
          ]
        },
        {
          "name": "stderr",
          "output_type": "stream",
          "text": [
            "      35/50      2.76G    0.05885          7        256: 100%|██████████| 50/50 [00:07<00:00,  7.08it/s]\n",
            "               classes   top1_acc   top5_acc: 100%|██████████| 4/4 [00:00<00:00, 14.19it/s]"
          ]
        },
        {
          "name": "stdout",
          "output_type": "stream",
          "text": [
            "                   all      0.949          1\n"
          ]
        },
        {
          "name": "stderr",
          "output_type": "stream",
          "text": [
            "\n"
          ]
        },
        {
          "name": "stdout",
          "output_type": "stream",
          "text": [
            "\n",
            "      Epoch    GPU_mem       loss  Instances       Size\n"
          ]
        },
        {
          "name": "stderr",
          "output_type": "stream",
          "text": [
            "      36/50      2.75G    0.06737          7        256: 100%|██████████| 50/50 [00:07<00:00,  7.05it/s]\n",
            "               classes   top1_acc   top5_acc: 100%|██████████| 4/4 [00:00<00:00, 14.32it/s]"
          ]
        },
        {
          "name": "stdout",
          "output_type": "stream",
          "text": [
            "                   all      0.949          1\n"
          ]
        },
        {
          "name": "stderr",
          "output_type": "stream",
          "text": [
            "\n"
          ]
        },
        {
          "name": "stdout",
          "output_type": "stream",
          "text": [
            "\n",
            "      Epoch    GPU_mem       loss  Instances       Size\n"
          ]
        },
        {
          "name": "stderr",
          "output_type": "stream",
          "text": [
            "      37/50      2.79G    0.05475          7        256: 100%|██████████| 50/50 [00:07<00:00,  7.09it/s]\n",
            "               classes   top1_acc   top5_acc: 100%|██████████| 4/4 [00:00<00:00, 14.16it/s]"
          ]
        },
        {
          "name": "stdout",
          "output_type": "stream",
          "text": [
            "                   all      0.939          1\n"
          ]
        },
        {
          "name": "stderr",
          "output_type": "stream",
          "text": [
            "\n"
          ]
        },
        {
          "name": "stdout",
          "output_type": "stream",
          "text": [
            "\n",
            "      Epoch    GPU_mem       loss  Instances       Size\n"
          ]
        },
        {
          "name": "stderr",
          "output_type": "stream",
          "text": [
            "      38/50      2.76G    0.07244          7        256: 100%|██████████| 50/50 [00:07<00:00,  7.05it/s]\n",
            "               classes   top1_acc   top5_acc: 100%|██████████| 4/4 [00:00<00:00, 14.29it/s]"
          ]
        },
        {
          "name": "stdout",
          "output_type": "stream",
          "text": [
            "                   all      0.949          1\n"
          ]
        },
        {
          "name": "stderr",
          "output_type": "stream",
          "text": [
            "\n"
          ]
        },
        {
          "name": "stdout",
          "output_type": "stream",
          "text": [
            "\n",
            "      Epoch    GPU_mem       loss  Instances       Size\n"
          ]
        },
        {
          "name": "stderr",
          "output_type": "stream",
          "text": [
            "      39/50      2.75G    0.06995          7        256: 100%|██████████| 50/50 [00:07<00:00,  7.07it/s]\n",
            "               classes   top1_acc   top5_acc: 100%|██████████| 4/4 [00:00<00:00, 14.46it/s]"
          ]
        },
        {
          "name": "stdout",
          "output_type": "stream",
          "text": [
            "                   all      0.949          1\n"
          ]
        },
        {
          "name": "stderr",
          "output_type": "stream",
          "text": [
            "\n"
          ]
        },
        {
          "name": "stdout",
          "output_type": "stream",
          "text": [
            "\n",
            "      Epoch    GPU_mem       loss  Instances       Size\n"
          ]
        },
        {
          "name": "stderr",
          "output_type": "stream",
          "text": [
            "      40/50      2.74G    0.06595          7        256: 100%|██████████| 50/50 [00:07<00:00,  7.05it/s]\n",
            "               classes   top1_acc   top5_acc: 100%|██████████| 4/4 [00:00<00:00, 14.03it/s]"
          ]
        },
        {
          "name": "stdout",
          "output_type": "stream",
          "text": [
            "                   all      0.949          1\n"
          ]
        },
        {
          "name": "stderr",
          "output_type": "stream",
          "text": [
            "\n",
            "/usr/lib/python3.10/multiprocessing/popen_fork.py:66: RuntimeWarning: os.fork() was called. os.fork() is incompatible with multithreaded code, and JAX is multithreaded, so this will likely lead to a deadlock.\n",
            "  self.pid = os.fork()\n"
          ]
        },
        {
          "name": "stdout",
          "output_type": "stream",
          "text": [
            "\n",
            "      Epoch    GPU_mem       loss  Instances       Size\n"
          ]
        },
        {
          "name": "stderr",
          "output_type": "stream",
          "text": [
            "      41/50      2.78G    0.05089          7        256: 100%|██████████| 50/50 [00:07<00:00,  6.34it/s]\n",
            "               classes   top1_acc   top5_acc: 100%|██████████| 4/4 [00:00<00:00, 14.44it/s]"
          ]
        },
        {
          "name": "stdout",
          "output_type": "stream",
          "text": [
            "                   all      0.949          1\n"
          ]
        },
        {
          "name": "stderr",
          "output_type": "stream",
          "text": [
            "\n"
          ]
        },
        {
          "name": "stdout",
          "output_type": "stream",
          "text": [
            "\n",
            "      Epoch    GPU_mem       loss  Instances       Size\n"
          ]
        },
        {
          "name": "stderr",
          "output_type": "stream",
          "text": [
            "      42/50      2.74G    0.06223          7        256: 100%|██████████| 50/50 [00:07<00:00,  7.05it/s]\n",
            "               classes   top1_acc   top5_acc: 100%|██████████| 4/4 [00:00<00:00, 13.84it/s]"
          ]
        },
        {
          "name": "stdout",
          "output_type": "stream",
          "text": [
            "                   all      0.949          1\n"
          ]
        },
        {
          "name": "stderr",
          "output_type": "stream",
          "text": [
            "\n"
          ]
        },
        {
          "name": "stdout",
          "output_type": "stream",
          "text": [
            "\n",
            "      Epoch    GPU_mem       loss  Instances       Size\n"
          ]
        },
        {
          "name": "stderr",
          "output_type": "stream",
          "text": [
            "      43/50      2.76G    0.05508          7        256: 100%|██████████| 50/50 [00:07<00:00,  7.08it/s]\n",
            "               classes   top1_acc   top5_acc: 100%|██████████| 4/4 [00:00<00:00, 13.88it/s]"
          ]
        },
        {
          "name": "stdout",
          "output_type": "stream",
          "text": [
            "                   all      0.949          1\n"
          ]
        },
        {
          "name": "stderr",
          "output_type": "stream",
          "text": [
            "\n"
          ]
        },
        {
          "name": "stdout",
          "output_type": "stream",
          "text": [
            "\n",
            "      Epoch    GPU_mem       loss  Instances       Size\n"
          ]
        },
        {
          "name": "stderr",
          "output_type": "stream",
          "text": [
            "      44/50      2.77G    0.04266          7        256: 100%|██████████| 50/50 [00:07<00:00,  7.04it/s]\n",
            "               classes   top1_acc   top5_acc: 100%|██████████| 4/4 [00:00<00:00, 13.82it/s]"
          ]
        },
        {
          "name": "stdout",
          "output_type": "stream",
          "text": [
            "                   all      0.949          1\n"
          ]
        },
        {
          "name": "stderr",
          "output_type": "stream",
          "text": [
            "\n"
          ]
        },
        {
          "name": "stdout",
          "output_type": "stream",
          "text": [
            "\n",
            "      Epoch    GPU_mem       loss  Instances       Size\n"
          ]
        },
        {
          "name": "stderr",
          "output_type": "stream",
          "text": [
            "      45/50      2.76G    0.04435          7        256: 100%|██████████| 50/50 [00:07<00:00,  7.09it/s]\n",
            "               classes   top1_acc   top5_acc: 100%|██████████| 4/4 [00:00<00:00, 14.30it/s]"
          ]
        },
        {
          "name": "stdout",
          "output_type": "stream",
          "text": [
            "                   all      0.949          1\n"
          ]
        },
        {
          "name": "stderr",
          "output_type": "stream",
          "text": [
            "\n"
          ]
        },
        {
          "name": "stdout",
          "output_type": "stream",
          "text": [
            "\n",
            "      Epoch    GPU_mem       loss  Instances       Size\n"
          ]
        },
        {
          "name": "stderr",
          "output_type": "stream",
          "text": [
            "      46/50      2.73G    0.05448          7        256: 100%|██████████| 50/50 [00:07<00:00,  7.04it/s]\n",
            "               classes   top1_acc   top5_acc: 100%|██████████| 4/4 [00:00<00:00, 14.30it/s]"
          ]
        },
        {
          "name": "stdout",
          "output_type": "stream",
          "text": [
            "                   all      0.949          1\n"
          ]
        },
        {
          "name": "stderr",
          "output_type": "stream",
          "text": [
            "\n"
          ]
        },
        {
          "name": "stdout",
          "output_type": "stream",
          "text": [
            "\n",
            "      Epoch    GPU_mem       loss  Instances       Size\n"
          ]
        },
        {
          "name": "stderr",
          "output_type": "stream",
          "text": [
            "      47/50      2.78G    0.04411          7        256: 100%|██████████| 50/50 [00:07<00:00,  7.07it/s]\n",
            "               classes   top1_acc   top5_acc: 100%|██████████| 4/4 [00:00<00:00, 14.13it/s]"
          ]
        },
        {
          "name": "stdout",
          "output_type": "stream",
          "text": [
            "                   all      0.949          1\n"
          ]
        },
        {
          "name": "stderr",
          "output_type": "stream",
          "text": [
            "\n"
          ]
        },
        {
          "name": "stdout",
          "output_type": "stream",
          "text": [
            "\n",
            "      Epoch    GPU_mem       loss  Instances       Size\n"
          ]
        },
        {
          "name": "stderr",
          "output_type": "stream",
          "text": [
            "      48/50      2.74G    0.05586          7        256: 100%|██████████| 50/50 [00:07<00:00,  7.05it/s]\n",
            "               classes   top1_acc   top5_acc: 100%|██████████| 4/4 [00:00<00:00, 14.39it/s]"
          ]
        },
        {
          "name": "stdout",
          "output_type": "stream",
          "text": [
            "                   all      0.949          1\n"
          ]
        },
        {
          "name": "stderr",
          "output_type": "stream",
          "text": [
            "\n"
          ]
        },
        {
          "name": "stdout",
          "output_type": "stream",
          "text": [
            "\n",
            "      Epoch    GPU_mem       loss  Instances       Size\n"
          ]
        },
        {
          "name": "stderr",
          "output_type": "stream",
          "text": [
            "      49/50      2.76G    0.04424          7        256: 100%|██████████| 50/50 [00:07<00:00,  7.08it/s]\n",
            "               classes   top1_acc   top5_acc: 100%|██████████| 4/4 [00:00<00:00, 13.99it/s]"
          ]
        },
        {
          "name": "stdout",
          "output_type": "stream",
          "text": [
            "                   all      0.949          1\n"
          ]
        },
        {
          "name": "stderr",
          "output_type": "stream",
          "text": [
            "\n"
          ]
        },
        {
          "name": "stdout",
          "output_type": "stream",
          "text": [
            "\n",
            "      Epoch    GPU_mem       loss  Instances       Size\n"
          ]
        },
        {
          "name": "stderr",
          "output_type": "stream",
          "text": [
            "      50/50      2.73G     0.0373          7        256: 100%|██████████| 50/50 [00:07<00:00,  7.06it/s]\n",
            "               classes   top1_acc   top5_acc: 100%|██████████| 4/4 [00:00<00:00, 14.14it/s]"
          ]
        },
        {
          "name": "stdout",
          "output_type": "stream",
          "text": [
            "                   all      0.949          1\n"
          ]
        },
        {
          "name": "stderr",
          "output_type": "stream",
          "text": [
            "\n"
          ]
        },
        {
          "name": "stdout",
          "output_type": "stream",
          "text": [
            "\n",
            "50 epochs completed in 0.123 hours.\n",
            "Optimizer stripped from runs/classify/train/weights/last.pt, 112.5MB\n",
            "Optimizer stripped from runs/classify/train/weights/best.pt, 112.5MB\n",
            "\n",
            "Validating runs/classify/train/weights/best.pt...\n",
            "Ultralytics YOLOv8.2.87 🚀 Python-3.10.12 torch-2.4.0+cu121 CUDA:0 (Tesla T4, 15102MiB)\n",
            "YOLOv8x-cls summary (fused): 133 layers, 56,125,762 parameters, 0 gradients, 153.8 GFLOPs\n",
            "\u001b[34m\u001b[1mtrain:\u001b[0m /content/data/train... found 791 images in 2 classes ✅ \n",
            "\u001b[34m\u001b[1mval:\u001b[0m /content/data/val... found 98 images in 2 classes ✅ \n",
            "\u001b[34m\u001b[1mtest:\u001b[0m /content/data/test... found 100 images in 2 classes ✅ \n"
          ]
        },
        {
          "name": "stderr",
          "output_type": "stream",
          "text": [
            "               classes   top1_acc   top5_acc: 100%|██████████| 4/4 [00:00<00:00,  5.49it/s]\n"
          ]
        },
        {
          "name": "stdout",
          "output_type": "stream",
          "text": [
            "                   all       0.98          1\n",
            "Speed: 0.2ms preprocess, 4.0ms inference, 0.3ms loss, 0.2ms postprocess per image\n",
            "Results saved to \u001b[1mruns/classify/train\u001b[0m\n",
            "Results saved to \u001b[1mruns/classify/train\u001b[0m\n"
          ]
        }
      ],
      "source": [
        "results = model.train(data='/content/data', epochs=50, imgsz=256, save_json=True, single_cls=False, augment=True, verbose=False, save_txt=True)"
      ]
    },
    {
      "cell_type": "markdown",
      "metadata": {
        "id": "k9nvgNnkDMNx"
      },
      "source": [
        "# Validation Custom model"
      ]
    },
    {
      "cell_type": "code",
      "execution_count": null,
      "metadata": {
        "colab": {
          "base_uri": "https://localhost:8080/"
        },
        "id": "tYOiWm4JDQgm",
        "outputId": "50dd84a0-1c3b-42d0-c5da-3a8743c9f2d6"
      },
      "outputs": [
        {
          "name": "stdout",
          "output_type": "stream",
          "text": [
            "/content\n",
            "Ultralytics YOLOv8.2.87 🚀 Python-3.10.12 torch-2.4.0+cu121 CUDA:0 (Tesla T4, 15102MiB)\n",
            "YOLOv8x-cls summary (fused): 133 layers, 56,125,762 parameters, 0 gradients, 153.8 GFLOPs\n",
            "\u001b[34m\u001b[1mtrain:\u001b[0m /content/data/train... found 791 images in 2 classes ✅ \n",
            "\u001b[34m\u001b[1mval:\u001b[0m /content/data/val... found 98 images in 2 classes ✅ \n",
            "\u001b[34m\u001b[1mtest:\u001b[0m /content/data/test... found 100 images in 2 classes ✅ \n",
            "\u001b[34m\u001b[1mval: \u001b[0mScanning /content/data/val... 98 images, 0 corrupt: 100% 98/98 [00:00<?, ?it/s]\n",
            "               classes   top1_acc   top5_acc: 100% 7/7 [00:01<00:00,  3.96it/s]\n",
            "                   all       0.98          1\n",
            "Speed: 0.9ms preprocess, 8.7ms inference, 0.2ms loss, 0.1ms postprocess per image\n",
            "Results saved to \u001b[1mruns/classify/val2\u001b[0m\n",
            "💡 Learn more at https://docs.ultralytics.com/modes/val\n"
          ]
        }
      ],
      "source": [
        "%cd {HOME}\n",
        "\n",
        "!yolo task=classify mode=val model={HOME}/runs/classify/train/weights/best.pt data=/content/data save_json=True save_txt=True plots=True iou=0.8"
      ]
    },
    {
      "cell_type": "markdown",
      "metadata": {
        "id": "O61nWk3TWPXT"
      },
      "source": [
        "# Predict"
      ]
    },
    {
      "cell_type": "code",
      "execution_count": null,
      "metadata": {
        "colab": {
          "base_uri": "https://localhost:8080/"
        },
        "id": "vMsCHGxOWPE2",
        "outputId": "1b880f55-813b-4cda-d8ee-7c7da7d4749f"
      },
      "outputs": [
        {
          "name": "stdout",
          "output_type": "stream",
          "text": [
            "\n",
            "image 1/1 /content/WhatsApp Image 2567-09-05 at 22.19.48.jpeg: 256x256 Non Accident 0.53, Accident 0.47, 14.6ms\n",
            "Speed: 9.2ms preprocess, 14.6ms inference, 0.1ms postprocess per image at shape (1, 3, 256, 256)\n"
          ]
        }
      ],
      "source": [
        "model = YOLO(\"/content/runs/classify/train/weights/best.pt\")\n",
        "results = model(\"/content/WhatsApp Image 2567-09-05 at 22.19.48.jpeg\")"
      ]
    },
    {
      "cell_type": "markdown",
      "metadata": {
        "id": "vZzl_U7GXV99"
      },
      "source": [
        "# Video Inference"
      ]
    },
    {
      "cell_type": "code",
      "execution_count": null,
      "metadata": {
        "colab": {
          "base_uri": "https://localhost:8080/"
        },
        "id": "tg78lKGFXY4W",
        "outputId": "a71ad1cf-464d-4ba2-a8b8-13cd78736f37"
      },
      "outputs": [
        {
          "name": "stdout",
          "output_type": "stream",
          "text": [
            "\n",
            "0: 256x256 Accident 0.52, Non Accident 0.48, 14.5ms\n",
            "Speed: 20.7ms preprocess, 14.5ms inference, 0.1ms postprocess per image at shape (1, 3, 256, 256)\n",
            "\n",
            "0: 256x256 Non Accident 0.90, Accident 0.10, 14.5ms\n",
            "Speed: 21.4ms preprocess, 14.5ms inference, 0.0ms postprocess per image at shape (1, 3, 256, 256)\n",
            "\n",
            "0: 256x256 Non Accident 0.81, Accident 0.19, 14.6ms\n",
            "Speed: 18.1ms preprocess, 14.6ms inference, 0.1ms postprocess per image at shape (1, 3, 256, 256)\n",
            "\n",
            "0: 256x256 Non Accident 0.85, Accident 0.15, 14.5ms\n",
            "Speed: 17.6ms preprocess, 14.5ms inference, 0.1ms postprocess per image at shape (1, 3, 256, 256)\n",
            "\n",
            "0: 256x256 Non Accident 0.94, Accident 0.06, 14.6ms\n",
            "Speed: 19.9ms preprocess, 14.6ms inference, 0.1ms postprocess per image at shape (1, 3, 256, 256)\n",
            "\n",
            "0: 256x256 Non Accident 0.95, Accident 0.05, 14.5ms\n",
            "Speed: 17.4ms preprocess, 14.5ms inference, 0.1ms postprocess per image at shape (1, 3, 256, 256)\n",
            "\n",
            "0: 256x256 Non Accident 0.96, Accident 0.04, 14.6ms\n",
            "Speed: 16.7ms preprocess, 14.6ms inference, 0.1ms postprocess per image at shape (1, 3, 256, 256)\n",
            "\n",
            "0: 256x256 Non Accident 0.89, Accident 0.11, 14.6ms\n",
            "Speed: 17.6ms preprocess, 14.6ms inference, 0.0ms postprocess per image at shape (1, 3, 256, 256)\n",
            "\n",
            "0: 256x256 Non Accident 0.85, Accident 0.15, 14.6ms\n",
            "Speed: 17.3ms preprocess, 14.6ms inference, 0.1ms postprocess per image at shape (1, 3, 256, 256)\n",
            "\n",
            "0: 256x256 Non Accident 0.87, Accident 0.13, 14.6ms\n",
            "Speed: 17.5ms preprocess, 14.6ms inference, 0.1ms postprocess per image at shape (1, 3, 256, 256)\n",
            "\n",
            "0: 256x256 Non Accident 0.95, Accident 0.05, 14.5ms\n",
            "Speed: 17.0ms preprocess, 14.5ms inference, 0.1ms postprocess per image at shape (1, 3, 256, 256)\n",
            "\n",
            "0: 256x256 Non Accident 0.96, Accident 0.04, 14.5ms\n",
            "Speed: 18.9ms preprocess, 14.5ms inference, 0.0ms postprocess per image at shape (1, 3, 256, 256)\n",
            "\n",
            "0: 256x256 Non Accident 0.92, Accident 0.08, 14.6ms\n",
            "Speed: 18.6ms preprocess, 14.6ms inference, 0.1ms postprocess per image at shape (1, 3, 256, 256)\n",
            "\n",
            "0: 256x256 Non Accident 0.93, Accident 0.07, 14.5ms\n",
            "Speed: 17.0ms preprocess, 14.5ms inference, 0.1ms postprocess per image at shape (1, 3, 256, 256)\n",
            "\n",
            "0: 256x256 Non Accident 0.93, Accident 0.07, 14.6ms\n",
            "Speed: 16.9ms preprocess, 14.6ms inference, 0.0ms postprocess per image at shape (1, 3, 256, 256)\n",
            "\n",
            "0: 256x256 Non Accident 0.95, Accident 0.05, 14.5ms\n",
            "Speed: 19.5ms preprocess, 14.5ms inference, 0.0ms postprocess per image at shape (1, 3, 256, 256)\n",
            "\n",
            "0: 256x256 Non Accident 0.79, Accident 0.21, 14.5ms\n",
            "Speed: 17.5ms preprocess, 14.5ms inference, 0.1ms postprocess per image at shape (1, 3, 256, 256)\n",
            "\n",
            "0: 256x256 Non Accident 0.90, Accident 0.10, 14.6ms\n",
            "Speed: 17.5ms preprocess, 14.6ms inference, 0.1ms postprocess per image at shape (1, 3, 256, 256)\n",
            "\n",
            "0: 256x256 Non Accident 0.91, Accident 0.09, 14.5ms\n",
            "Speed: 16.7ms preprocess, 14.5ms inference, 0.1ms postprocess per image at shape (1, 3, 256, 256)\n",
            "\n",
            "0: 256x256 Non Accident 0.94, Accident 0.06, 14.5ms\n",
            "Speed: 18.8ms preprocess, 14.5ms inference, 0.1ms postprocess per image at shape (1, 3, 256, 256)\n",
            "\n",
            "0: 256x256 Non Accident 0.93, Accident 0.07, 14.5ms\n",
            "Speed: 20.9ms preprocess, 14.5ms inference, 0.1ms postprocess per image at shape (1, 3, 256, 256)\n",
            "\n",
            "0: 256x256 Non Accident 0.61, Accident 0.39, 14.5ms\n",
            "Speed: 17.6ms preprocess, 14.5ms inference, 0.0ms postprocess per image at shape (1, 3, 256, 256)\n",
            "\n",
            "0: 256x256 Non Accident 0.77, Accident 0.23, 14.5ms\n",
            "Speed: 16.7ms preprocess, 14.5ms inference, 0.1ms postprocess per image at shape (1, 3, 256, 256)\n",
            "\n",
            "0: 256x256 Non Accident 0.79, Accident 0.21, 14.5ms\n",
            "Speed: 17.0ms preprocess, 14.5ms inference, 0.1ms postprocess per image at shape (1, 3, 256, 256)\n",
            "\n",
            "0: 256x256 Non Accident 0.81, Accident 0.19, 14.6ms\n",
            "Speed: 18.3ms preprocess, 14.6ms inference, 0.1ms postprocess per image at shape (1, 3, 256, 256)\n",
            "\n",
            "0: 256x256 Non Accident 0.80, Accident 0.20, 14.5ms\n",
            "Speed: 17.9ms preprocess, 14.5ms inference, 0.1ms postprocess per image at shape (1, 3, 256, 256)\n",
            "\n",
            "0: 256x256 Non Accident 0.62, Accident 0.38, 14.6ms\n",
            "Speed: 17.3ms preprocess, 14.6ms inference, 0.0ms postprocess per image at shape (1, 3, 256, 256)\n",
            "\n",
            "0: 256x256 Non Accident 0.74, Accident 0.26, 14.6ms\n",
            "Speed: 19.5ms preprocess, 14.6ms inference, 0.1ms postprocess per image at shape (1, 3, 256, 256)\n",
            "\n",
            "0: 256x256 Non Accident 0.76, Accident 0.24, 14.5ms\n",
            "Speed: 16.4ms preprocess, 14.5ms inference, 0.1ms postprocess per image at shape (1, 3, 256, 256)\n",
            "\n",
            "0: 256x256 Non Accident 0.64, Accident 0.36, 14.5ms\n",
            "Speed: 17.0ms preprocess, 14.5ms inference, 0.0ms postprocess per image at shape (1, 3, 256, 256)\n",
            "\n",
            "0: 256x256 Non Accident 0.75, Accident 0.25, 14.5ms\n",
            "Speed: 17.5ms preprocess, 14.5ms inference, 0.1ms postprocess per image at shape (1, 3, 256, 256)\n",
            "\n",
            "0: 256x256 Non Accident 0.85, Accident 0.15, 14.5ms\n",
            "Speed: 16.7ms preprocess, 14.5ms inference, 0.1ms postprocess per image at shape (1, 3, 256, 256)\n",
            "\n",
            "0: 256x256 Non Accident 0.71, Accident 0.29, 14.6ms\n",
            "Speed: 16.8ms preprocess, 14.6ms inference, 0.1ms postprocess per image at shape (1, 3, 256, 256)\n",
            "\n",
            "0: 256x256 Non Accident 0.64, Accident 0.36, 14.6ms\n",
            "Speed: 17.2ms preprocess, 14.6ms inference, 0.1ms postprocess per image at shape (1, 3, 256, 256)\n",
            "\n",
            "0: 256x256 Non Accident 0.69, Accident 0.31, 14.5ms\n",
            "Speed: 17.2ms preprocess, 14.5ms inference, 0.1ms postprocess per image at shape (1, 3, 256, 256)\n",
            "\n",
            "0: 256x256 Non Accident 0.79, Accident 0.21, 14.5ms\n",
            "Speed: 17.1ms preprocess, 14.5ms inference, 0.1ms postprocess per image at shape (1, 3, 256, 256)\n",
            "\n",
            "0: 256x256 Non Accident 0.73, Accident 0.27, 14.6ms\n",
            "Speed: 19.7ms preprocess, 14.6ms inference, 0.1ms postprocess per image at shape (1, 3, 256, 256)\n",
            "\n",
            "0: 256x256 Non Accident 0.66, Accident 0.34, 14.6ms\n",
            "Speed: 17.6ms preprocess, 14.6ms inference, 0.0ms postprocess per image at shape (1, 3, 256, 256)\n",
            "\n",
            "0: 256x256 Non Accident 0.75, Accident 0.25, 14.6ms\n",
            "Speed: 16.4ms preprocess, 14.6ms inference, 0.1ms postprocess per image at shape (1, 3, 256, 256)\n",
            "\n",
            "0: 256x256 Non Accident 0.73, Accident 0.27, 14.5ms\n",
            "Speed: 17.6ms preprocess, 14.5ms inference, 0.1ms postprocess per image at shape (1, 3, 256, 256)\n",
            "\n",
            "0: 256x256 Non Accident 0.76, Accident 0.24, 14.6ms\n",
            "Speed: 17.9ms preprocess, 14.6ms inference, 0.1ms postprocess per image at shape (1, 3, 256, 256)\n",
            "\n",
            "0: 256x256 Non Accident 0.59, Accident 0.41, 14.5ms\n",
            "Speed: 17.7ms preprocess, 14.5ms inference, 0.1ms postprocess per image at shape (1, 3, 256, 256)\n",
            "\n",
            "0: 256x256 Non Accident 0.60, Accident 0.40, 14.6ms\n",
            "Speed: 19.2ms preprocess, 14.6ms inference, 0.1ms postprocess per image at shape (1, 3, 256, 256)\n",
            "\n",
            "0: 256x256 Non Accident 0.63, Accident 0.37, 14.6ms\n",
            "Speed: 17.3ms preprocess, 14.6ms inference, 0.0ms postprocess per image at shape (1, 3, 256, 256)\n",
            "\n",
            "0: 256x256 Non Accident 0.68, Accident 0.32, 14.5ms\n",
            "Speed: 16.9ms preprocess, 14.5ms inference, 0.1ms postprocess per image at shape (1, 3, 256, 256)\n",
            "\n",
            "0: 256x256 Non Accident 0.64, Accident 0.36, 14.5ms\n",
            "Speed: 16.9ms preprocess, 14.5ms inference, 0.0ms postprocess per image at shape (1, 3, 256, 256)\n",
            "\n",
            "0: 256x256 Non Accident 0.68, Accident 0.32, 14.5ms\n",
            "Speed: 16.7ms preprocess, 14.5ms inference, 0.0ms postprocess per image at shape (1, 3, 256, 256)\n",
            "\n",
            "0: 256x256 Non Accident 0.75, Accident 0.25, 14.5ms\n",
            "Speed: 19.8ms preprocess, 14.5ms inference, 0.1ms postprocess per image at shape (1, 3, 256, 256)\n",
            "\n",
            "0: 256x256 Non Accident 0.69, Accident 0.31, 14.5ms\n",
            "Speed: 21.5ms preprocess, 14.5ms inference, 0.1ms postprocess per image at shape (1, 3, 256, 256)\n",
            "\n",
            "0: 256x256 Non Accident 0.75, Accident 0.25, 14.6ms\n",
            "Speed: 17.5ms preprocess, 14.6ms inference, 0.1ms postprocess per image at shape (1, 3, 256, 256)\n",
            "\n",
            "0: 256x256 Non Accident 0.87, Accident 0.13, 14.5ms\n",
            "Speed: 20.5ms preprocess, 14.5ms inference, 0.1ms postprocess per image at shape (1, 3, 256, 256)\n",
            "\n",
            "0: 256x256 Non Accident 0.85, Accident 0.15, 14.5ms\n",
            "Speed: 16.8ms preprocess, 14.5ms inference, 0.0ms postprocess per image at shape (1, 3, 256, 256)\n",
            "\n",
            "0: 256x256 Non Accident 0.82, Accident 0.18, 14.5ms\n",
            "Speed: 17.2ms preprocess, 14.5ms inference, 0.1ms postprocess per image at shape (1, 3, 256, 256)\n",
            "\n",
            "0: 256x256 Non Accident 0.77, Accident 0.23, 14.5ms\n",
            "Speed: 17.2ms preprocess, 14.5ms inference, 0.1ms postprocess per image at shape (1, 3, 256, 256)\n",
            "\n",
            "0: 256x256 Non Accident 0.77, Accident 0.23, 14.6ms\n",
            "Speed: 16.8ms preprocess, 14.6ms inference, 0.1ms postprocess per image at shape (1, 3, 256, 256)\n",
            "\n",
            "0: 256x256 Non Accident 0.72, Accident 0.28, 14.6ms\n",
            "Speed: 17.3ms preprocess, 14.6ms inference, 0.1ms postprocess per image at shape (1, 3, 256, 256)\n",
            "\n",
            "0: 256x256 Non Accident 0.73, Accident 0.27, 14.5ms\n",
            "Speed: 17.1ms preprocess, 14.5ms inference, 0.1ms postprocess per image at shape (1, 3, 256, 256)\n",
            "\n",
            "0: 256x256 Non Accident 0.81, Accident 0.19, 14.6ms\n",
            "Speed: 18.7ms preprocess, 14.6ms inference, 0.1ms postprocess per image at shape (1, 3, 256, 256)\n",
            "\n",
            "0: 256x256 Non Accident 0.68, Accident 0.32, 14.5ms\n",
            "Speed: 18.1ms preprocess, 14.5ms inference, 0.1ms postprocess per image at shape (1, 3, 256, 256)\n",
            "\n",
            "0: 256x256 Non Accident 0.69, Accident 0.31, 14.6ms\n",
            "Speed: 17.1ms preprocess, 14.6ms inference, 0.1ms postprocess per image at shape (1, 3, 256, 256)\n",
            "\n",
            "0: 256x256 Non Accident 0.64, Accident 0.36, 14.5ms\n",
            "Speed: 16.7ms preprocess, 14.5ms inference, 0.1ms postprocess per image at shape (1, 3, 256, 256)\n",
            "\n",
            "0: 256x256 Non Accident 0.68, Accident 0.32, 14.5ms\n",
            "Speed: 16.9ms preprocess, 14.5ms inference, 0.0ms postprocess per image at shape (1, 3, 256, 256)\n",
            "\n",
            "0: 256x256 Non Accident 0.73, Accident 0.27, 14.6ms\n",
            "Speed: 17.6ms preprocess, 14.6ms inference, 0.1ms postprocess per image at shape (1, 3, 256, 256)\n",
            "\n",
            "0: 256x256 Non Accident 0.85, Accident 0.15, 14.6ms\n",
            "Speed: 17.2ms preprocess, 14.6ms inference, 0.1ms postprocess per image at shape (1, 3, 256, 256)\n",
            "\n",
            "0: 256x256 Non Accident 0.66, Accident 0.34, 14.5ms\n",
            "Speed: 17.0ms preprocess, 14.5ms inference, 0.1ms postprocess per image at shape (1, 3, 256, 256)\n",
            "\n",
            "0: 256x256 Non Accident 0.74, Accident 0.26, 14.5ms\n",
            "Speed: 16.7ms preprocess, 14.5ms inference, 0.1ms postprocess per image at shape (1, 3, 256, 256)\n",
            "\n",
            "0: 256x256 Non Accident 0.71, Accident 0.29, 14.5ms\n",
            "Speed: 18.2ms preprocess, 14.5ms inference, 0.1ms postprocess per image at shape (1, 3, 256, 256)\n",
            "\n",
            "0: 256x256 Non Accident 0.75, Accident 0.25, 14.6ms\n",
            "Speed: 16.9ms preprocess, 14.6ms inference, 0.1ms postprocess per image at shape (1, 3, 256, 256)\n",
            "\n",
            "0: 256x256 Non Accident 0.64, Accident 0.36, 14.6ms\n",
            "Speed: 17.7ms preprocess, 14.6ms inference, 0.1ms postprocess per image at shape (1, 3, 256, 256)\n",
            "\n",
            "0: 256x256 Non Accident 0.64, Accident 0.36, 14.5ms\n",
            "Speed: 16.6ms preprocess, 14.5ms inference, 0.0ms postprocess per image at shape (1, 3, 256, 256)\n",
            "\n",
            "0: 256x256 Non Accident 0.67, Accident 0.33, 14.5ms\n",
            "Speed: 21.5ms preprocess, 14.5ms inference, 0.1ms postprocess per image at shape (1, 3, 256, 256)\n",
            "\n",
            "0: 256x256 Non Accident 0.81, Accident 0.19, 14.5ms\n",
            "Speed: 17.5ms preprocess, 14.5ms inference, 0.1ms postprocess per image at shape (1, 3, 256, 256)\n",
            "\n",
            "0: 256x256 Non Accident 0.63, Accident 0.37, 14.5ms\n",
            "Speed: 17.8ms preprocess, 14.5ms inference, 0.1ms postprocess per image at shape (1, 3, 256, 256)\n",
            "\n",
            "0: 256x256 Non Accident 0.72, Accident 0.28, 14.5ms\n",
            "Speed: 16.7ms preprocess, 14.5ms inference, 0.1ms postprocess per image at shape (1, 3, 256, 256)\n",
            "\n",
            "0: 256x256 Non Accident 0.75, Accident 0.25, 14.6ms\n",
            "Speed: 17.7ms preprocess, 14.6ms inference, 0.1ms postprocess per image at shape (1, 3, 256, 256)\n",
            "\n",
            "0: 256x256 Non Accident 0.79, Accident 0.21, 14.6ms\n",
            "Speed: 18.7ms preprocess, 14.6ms inference, 0.1ms postprocess per image at shape (1, 3, 256, 256)\n",
            "\n",
            "0: 256x256 Non Accident 0.89, Accident 0.11, 14.7ms\n",
            "Speed: 19.0ms preprocess, 14.7ms inference, 0.1ms postprocess per image at shape (1, 3, 256, 256)\n",
            "\n",
            "0: 256x256 Non Accident 0.73, Accident 0.27, 14.6ms\n",
            "Speed: 21.1ms preprocess, 14.6ms inference, 0.1ms postprocess per image at shape (1, 3, 256, 256)\n",
            "\n",
            "0: 256x256 Non Accident 0.73, Accident 0.27, 14.5ms\n",
            "Speed: 20.1ms preprocess, 14.5ms inference, 0.1ms postprocess per image at shape (1, 3, 256, 256)\n",
            "\n",
            "0: 256x256 Non Accident 0.72, Accident 0.28, 14.6ms\n",
            "Speed: 20.1ms preprocess, 14.6ms inference, 0.1ms postprocess per image at shape (1, 3, 256, 256)\n",
            "\n",
            "0: 256x256 Non Accident 0.76, Accident 0.24, 14.5ms\n",
            "Speed: 17.2ms preprocess, 14.5ms inference, 0.1ms postprocess per image at shape (1, 3, 256, 256)\n",
            "\n",
            "0: 256x256 Non Accident 0.82, Accident 0.18, 14.5ms\n",
            "Speed: 17.1ms preprocess, 14.5ms inference, 0.1ms postprocess per image at shape (1, 3, 256, 256)\n",
            "\n",
            "0: 256x256 Non Accident 0.79, Accident 0.21, 14.5ms\n",
            "Speed: 16.6ms preprocess, 14.5ms inference, 0.1ms postprocess per image at shape (1, 3, 256, 256)\n",
            "\n",
            "0: 256x256 Non Accident 0.79, Accident 0.21, 14.5ms\n",
            "Speed: 17.1ms preprocess, 14.5ms inference, 0.1ms postprocess per image at shape (1, 3, 256, 256)\n",
            "\n",
            "0: 256x256 Non Accident 0.76, Accident 0.24, 14.5ms\n",
            "Speed: 18.5ms preprocess, 14.5ms inference, 0.1ms postprocess per image at shape (1, 3, 256, 256)\n",
            "\n",
            "0: 256x256 Non Accident 0.83, Accident 0.17, 14.6ms\n",
            "Speed: 19.8ms preprocess, 14.6ms inference, 0.1ms postprocess per image at shape (1, 3, 256, 256)\n",
            "\n",
            "0: 256x256 Non Accident 0.86, Accident 0.14, 14.5ms\n",
            "Speed: 16.6ms preprocess, 14.5ms inference, 0.0ms postprocess per image at shape (1, 3, 256, 256)\n",
            "\n",
            "0: 256x256 Non Accident 0.87, Accident 0.13, 14.5ms\n",
            "Speed: 19.6ms preprocess, 14.5ms inference, 0.0ms postprocess per image at shape (1, 3, 256, 256)\n",
            "\n",
            "0: 256x256 Non Accident 0.76, Accident 0.24, 14.5ms\n",
            "Speed: 17.1ms preprocess, 14.5ms inference, 0.1ms postprocess per image at shape (1, 3, 256, 256)\n",
            "\n",
            "0: 256x256 Non Accident 0.76, Accident 0.24, 14.5ms\n",
            "Speed: 16.4ms preprocess, 14.5ms inference, 0.0ms postprocess per image at shape (1, 3, 256, 256)\n",
            "\n",
            "0: 256x256 Non Accident 0.58, Accident 0.42, 14.6ms\n",
            "Speed: 17.2ms preprocess, 14.6ms inference, 0.0ms postprocess per image at shape (1, 3, 256, 256)\n",
            "\n",
            "0: 256x256 Non Accident 0.58, Accident 0.42, 14.6ms\n",
            "Speed: 17.8ms preprocess, 14.6ms inference, 0.1ms postprocess per image at shape (1, 3, 256, 256)\n",
            "\n",
            "0: 256x256 Non Accident 0.67, Accident 0.33, 14.6ms\n",
            "Speed: 20.1ms preprocess, 14.6ms inference, 0.1ms postprocess per image at shape (1, 3, 256, 256)\n",
            "\n",
            "0: 256x256 Non Accident 0.62, Accident 0.38, 14.6ms\n",
            "Speed: 18.3ms preprocess, 14.6ms inference, 0.1ms postprocess per image at shape (1, 3, 256, 256)\n",
            "\n",
            "0: 256x256 Non Accident 0.80, Accident 0.20, 14.6ms\n",
            "Speed: 18.9ms preprocess, 14.6ms inference, 0.1ms postprocess per image at shape (1, 3, 256, 256)\n",
            "\n",
            "0: 256x256 Accident 0.55, Non Accident 0.45, 14.6ms\n",
            "Speed: 19.0ms preprocess, 14.6ms inference, 0.1ms postprocess per image at shape (1, 3, 256, 256)\n",
            "\n",
            "0: 256x256 Non Accident 0.63, Accident 0.37, 14.6ms\n",
            "Speed: 17.4ms preprocess, 14.6ms inference, 0.1ms postprocess per image at shape (1, 3, 256, 256)\n",
            "\n",
            "0: 256x256 Non Accident 0.58, Accident 0.42, 14.5ms\n",
            "Speed: 17.4ms preprocess, 14.5ms inference, 0.1ms postprocess per image at shape (1, 3, 256, 256)\n",
            "\n",
            "0: 256x256 Non Accident 0.68, Accident 0.32, 14.6ms\n",
            "Speed: 17.6ms preprocess, 14.6ms inference, 0.1ms postprocess per image at shape (1, 3, 256, 256)\n",
            "\n",
            "0: 256x256 Non Accident 0.76, Accident 0.24, 14.5ms\n",
            "Speed: 16.4ms preprocess, 14.5ms inference, 0.1ms postprocess per image at shape (1, 3, 256, 256)\n",
            "\n",
            "0: 256x256 Non Accident 0.78, Accident 0.22, 14.5ms\n",
            "Speed: 16.7ms preprocess, 14.5ms inference, 0.1ms postprocess per image at shape (1, 3, 256, 256)\n",
            "\n",
            "0: 256x256 Non Accident 0.74, Accident 0.26, 14.6ms\n",
            "Speed: 17.5ms preprocess, 14.6ms inference, 0.1ms postprocess per image at shape (1, 3, 256, 256)\n",
            "\n",
            "0: 256x256 Non Accident 0.74, Accident 0.26, 14.6ms\n",
            "Speed: 20.4ms preprocess, 14.6ms inference, 0.1ms postprocess per image at shape (1, 3, 256, 256)\n",
            "\n",
            "0: 256x256 Non Accident 0.71, Accident 0.29, 14.6ms\n",
            "Speed: 18.5ms preprocess, 14.6ms inference, 0.1ms postprocess per image at shape (1, 3, 256, 256)\n",
            "\n",
            "0: 256x256 Non Accident 0.77, Accident 0.23, 14.5ms\n",
            "Speed: 18.7ms preprocess, 14.5ms inference, 0.0ms postprocess per image at shape (1, 3, 256, 256)\n",
            "\n",
            "0: 256x256 Non Accident 0.76, Accident 0.24, 14.5ms\n",
            "Speed: 17.1ms preprocess, 14.5ms inference, 0.1ms postprocess per image at shape (1, 3, 256, 256)\n",
            "\n",
            "0: 256x256 Non Accident 0.74, Accident 0.26, 14.5ms\n",
            "Speed: 17.4ms preprocess, 14.5ms inference, 0.1ms postprocess per image at shape (1, 3, 256, 256)\n",
            "\n",
            "0: 256x256 Non Accident 0.70, Accident 0.30, 14.6ms\n",
            "Speed: 17.1ms preprocess, 14.6ms inference, 0.1ms postprocess per image at shape (1, 3, 256, 256)\n",
            "\n",
            "0: 256x256 Non Accident 0.74, Accident 0.26, 14.6ms\n",
            "Speed: 18.4ms preprocess, 14.6ms inference, 0.1ms postprocess per image at shape (1, 3, 256, 256)\n",
            "\n",
            "0: 256x256 Non Accident 0.73, Accident 0.27, 14.6ms\n",
            "Speed: 18.7ms preprocess, 14.6ms inference, 0.1ms postprocess per image at shape (1, 3, 256, 256)\n",
            "\n",
            "0: 256x256 Non Accident 0.75, Accident 0.25, 14.6ms\n",
            "Speed: 17.3ms preprocess, 14.6ms inference, 0.1ms postprocess per image at shape (1, 3, 256, 256)\n",
            "\n",
            "0: 256x256 Non Accident 0.73, Accident 0.27, 14.6ms\n",
            "Speed: 19.9ms preprocess, 14.6ms inference, 0.1ms postprocess per image at shape (1, 3, 256, 256)\n",
            "\n",
            "0: 256x256 Non Accident 0.71, Accident 0.29, 14.6ms\n",
            "Speed: 18.1ms preprocess, 14.6ms inference, 0.1ms postprocess per image at shape (1, 3, 256, 256)\n",
            "\n",
            "0: 256x256 Non Accident 0.67, Accident 0.33, 14.5ms\n",
            "Speed: 18.1ms preprocess, 14.5ms inference, 0.1ms postprocess per image at shape (1, 3, 256, 256)\n",
            "\n",
            "0: 256x256 Non Accident 0.62, Accident 0.38, 14.6ms\n",
            "Speed: 17.1ms preprocess, 14.6ms inference, 0.1ms postprocess per image at shape (1, 3, 256, 256)\n",
            "\n",
            "0: 256x256 Non Accident 0.62, Accident 0.38, 14.6ms\n",
            "Speed: 18.2ms preprocess, 14.6ms inference, 0.1ms postprocess per image at shape (1, 3, 256, 256)\n",
            "\n",
            "0: 256x256 Non Accident 0.55, Accident 0.45, 14.5ms\n",
            "Speed: 16.9ms preprocess, 14.5ms inference, 0.1ms postprocess per image at shape (1, 3, 256, 256)\n",
            "\n",
            "0: 256x256 Non Accident 0.66, Accident 0.34, 14.6ms\n",
            "Speed: 18.2ms preprocess, 14.6ms inference, 0.1ms postprocess per image at shape (1, 3, 256, 256)\n",
            "\n",
            "0: 256x256 Non Accident 0.78, Accident 0.22, 14.6ms\n",
            "Speed: 18.1ms preprocess, 14.6ms inference, 0.1ms postprocess per image at shape (1, 3, 256, 256)\n",
            "\n",
            "0: 256x256 Non Accident 0.82, Accident 0.18, 14.5ms\n",
            "Speed: 17.7ms preprocess, 14.5ms inference, 0.1ms postprocess per image at shape (1, 3, 256, 256)\n",
            "\n",
            "0: 256x256 Non Accident 0.93, Accident 0.07, 14.5ms\n",
            "Speed: 16.8ms preprocess, 14.5ms inference, 0.2ms postprocess per image at shape (1, 3, 256, 256)\n",
            "\n",
            "0: 256x256 Non Accident 0.93, Accident 0.07, 14.5ms\n",
            "Speed: 18.2ms preprocess, 14.5ms inference, 0.1ms postprocess per image at shape (1, 3, 256, 256)\n",
            "\n",
            "0: 256x256 Non Accident 0.93, Accident 0.07, 14.6ms\n",
            "Speed: 18.9ms preprocess, 14.6ms inference, 0.1ms postprocess per image at shape (1, 3, 256, 256)\n",
            "\n",
            "0: 256x256 Non Accident 0.88, Accident 0.12, 14.5ms\n",
            "Speed: 16.9ms preprocess, 14.5ms inference, 0.1ms postprocess per image at shape (1, 3, 256, 256)\n",
            "\n",
            "0: 256x256 Non Accident 0.87, Accident 0.13, 14.5ms\n",
            "Speed: 16.9ms preprocess, 14.5ms inference, 0.1ms postprocess per image at shape (1, 3, 256, 256)\n",
            "\n",
            "0: 256x256 Non Accident 0.84, Accident 0.16, 14.6ms\n",
            "Speed: 16.8ms preprocess, 14.6ms inference, 0.1ms postprocess per image at shape (1, 3, 256, 256)\n",
            "\n",
            "0: 256x256 Non Accident 0.83, Accident 0.17, 14.6ms\n",
            "Speed: 17.6ms preprocess, 14.6ms inference, 0.1ms postprocess per image at shape (1, 3, 256, 256)\n",
            "\n",
            "0: 256x256 Non Accident 0.89, Accident 0.11, 14.6ms\n",
            "Speed: 17.1ms preprocess, 14.6ms inference, 0.1ms postprocess per image at shape (1, 3, 256, 256)\n",
            "\n",
            "0: 256x256 Non Accident 0.93, Accident 0.07, 14.6ms\n",
            "Speed: 18.0ms preprocess, 14.6ms inference, 0.1ms postprocess per image at shape (1, 3, 256, 256)\n",
            "\n",
            "0: 256x256 Non Accident 0.88, Accident 0.12, 14.6ms\n",
            "Speed: 17.4ms preprocess, 14.6ms inference, 0.1ms postprocess per image at shape (1, 3, 256, 256)\n",
            "\n",
            "0: 256x256 Non Accident 0.93, Accident 0.07, 14.5ms\n",
            "Speed: 16.9ms preprocess, 14.5ms inference, 0.1ms postprocess per image at shape (1, 3, 256, 256)\n",
            "\n",
            "0: 256x256 Non Accident 0.95, Accident 0.05, 14.5ms\n",
            "Speed: 18.9ms preprocess, 14.5ms inference, 0.1ms postprocess per image at shape (1, 3, 256, 256)\n",
            "\n",
            "0: 256x256 Non Accident 0.96, Accident 0.04, 14.5ms\n",
            "Speed: 20.2ms preprocess, 14.5ms inference, 0.0ms postprocess per image at shape (1, 3, 256, 256)\n",
            "\n",
            "0: 256x256 Non Accident 0.96, Accident 0.04, 14.5ms\n",
            "Speed: 17.9ms preprocess, 14.5ms inference, 0.1ms postprocess per image at shape (1, 3, 256, 256)\n",
            "\n",
            "0: 256x256 Non Accident 0.98, Accident 0.02, 14.6ms\n",
            "Speed: 17.1ms preprocess, 14.6ms inference, 0.0ms postprocess per image at shape (1, 3, 256, 256)\n",
            "\n",
            "0: 256x256 Non Accident 0.93, Accident 0.07, 14.5ms\n",
            "Speed: 16.6ms preprocess, 14.5ms inference, 0.1ms postprocess per image at shape (1, 3, 256, 256)\n",
            "\n",
            "0: 256x256 Non Accident 0.93, Accident 0.07, 14.5ms\n",
            "Speed: 17.8ms preprocess, 14.5ms inference, 0.1ms postprocess per image at shape (1, 3, 256, 256)\n",
            "\n",
            "0: 256x256 Non Accident 0.98, Accident 0.02, 14.5ms\n",
            "Speed: 16.5ms preprocess, 14.5ms inference, 0.0ms postprocess per image at shape (1, 3, 256, 256)\n",
            "\n",
            "0: 256x256 Non Accident 0.94, Accident 0.06, 14.5ms\n",
            "Speed: 16.5ms preprocess, 14.5ms inference, 0.1ms postprocess per image at shape (1, 3, 256, 256)\n",
            "\n",
            "0: 256x256 Non Accident 0.92, Accident 0.08, 14.6ms\n",
            "Speed: 17.4ms preprocess, 14.6ms inference, 0.1ms postprocess per image at shape (1, 3, 256, 256)\n",
            "\n",
            "0: 256x256 Non Accident 0.81, Accident 0.19, 14.6ms\n",
            "Speed: 16.6ms preprocess, 14.6ms inference, 0.1ms postprocess per image at shape (1, 3, 256, 256)\n",
            "\n",
            "0: 256x256 Non Accident 0.93, Accident 0.07, 14.5ms\n",
            "Speed: 17.1ms preprocess, 14.5ms inference, 0.1ms postprocess per image at shape (1, 3, 256, 256)\n",
            "\n",
            "0: 256x256 Non Accident 0.89, Accident 0.11, 14.5ms\n",
            "Speed: 16.2ms preprocess, 14.5ms inference, 0.1ms postprocess per image at shape (1, 3, 256, 256)\n",
            "\n",
            "0: 256x256 Non Accident 0.89, Accident 0.11, 14.6ms\n",
            "Speed: 18.1ms preprocess, 14.6ms inference, 0.1ms postprocess per image at shape (1, 3, 256, 256)\n",
            "\n",
            "0: 256x256 Non Accident 0.80, Accident 0.20, 14.5ms\n",
            "Speed: 16.8ms preprocess, 14.5ms inference, 0.1ms postprocess per image at shape (1, 3, 256, 256)\n",
            "\n",
            "0: 256x256 Non Accident 0.88, Accident 0.12, 14.5ms\n",
            "Speed: 17.0ms preprocess, 14.5ms inference, 0.1ms postprocess per image at shape (1, 3, 256, 256)\n",
            "\n",
            "0: 256x256 Non Accident 0.92, Accident 0.08, 14.6ms\n",
            "Speed: 18.8ms preprocess, 14.6ms inference, 0.1ms postprocess per image at shape (1, 3, 256, 256)\n",
            "\n",
            "0: 256x256 Non Accident 0.86, Accident 0.14, 14.6ms\n",
            "Speed: 19.4ms preprocess, 14.6ms inference, 0.1ms postprocess per image at shape (1, 3, 256, 256)\n",
            "\n",
            "0: 256x256 Non Accident 0.76, Accident 0.24, 14.5ms\n",
            "Speed: 19.5ms preprocess, 14.5ms inference, 0.1ms postprocess per image at shape (1, 3, 256, 256)\n",
            "\n",
            "0: 256x256 Non Accident 0.60, Accident 0.40, 14.5ms\n",
            "Speed: 16.9ms preprocess, 14.5ms inference, 0.0ms postprocess per image at shape (1, 3, 256, 256)\n",
            "\n",
            "0: 256x256 Non Accident 0.55, Accident 0.45, 14.5ms\n",
            "Speed: 16.7ms preprocess, 14.5ms inference, 0.1ms postprocess per image at shape (1, 3, 256, 256)\n",
            "\n",
            "0: 256x256 Non Accident 0.61, Accident 0.39, 14.6ms\n",
            "Speed: 17.2ms preprocess, 14.6ms inference, 0.1ms postprocess per image at shape (1, 3, 256, 256)\n",
            "\n",
            "0: 256x256 Non Accident 0.52, Accident 0.48, 14.5ms\n",
            "Speed: 17.0ms preprocess, 14.5ms inference, 0.1ms postprocess per image at shape (1, 3, 256, 256)\n",
            "\n",
            "0: 256x256 Accident 0.58, Non Accident 0.42, 14.6ms\n",
            "Speed: 17.5ms preprocess, 14.6ms inference, 0.1ms postprocess per image at shape (1, 3, 256, 256)\n",
            "\n",
            "0: 256x256 Accident 0.58, Non Accident 0.42, 14.5ms\n",
            "Speed: 17.2ms preprocess, 14.5ms inference, 0.1ms postprocess per image at shape (1, 3, 256, 256)\n",
            "\n",
            "0: 256x256 Accident 0.75, Non Accident 0.25, 14.5ms\n",
            "Speed: 17.3ms preprocess, 14.5ms inference, 0.1ms postprocess per image at shape (1, 3, 256, 256)\n",
            "\n",
            "0: 256x256 Accident 0.88, Non Accident 0.12, 14.5ms\n",
            "Speed: 16.8ms preprocess, 14.5ms inference, 0.1ms postprocess per image at shape (1, 3, 256, 256)\n",
            "\n",
            "0: 256x256 Accident 0.91, Non Accident 0.09, 14.6ms\n",
            "Speed: 18.3ms preprocess, 14.6ms inference, 0.1ms postprocess per image at shape (1, 3, 256, 256)\n",
            "\n",
            "0: 256x256 Accident 0.79, Non Accident 0.21, 14.5ms\n",
            "Speed: 17.9ms preprocess, 14.5ms inference, 0.1ms postprocess per image at shape (1, 3, 256, 256)\n",
            "\n",
            "0: 256x256 Accident 0.93, Non Accident 0.07, 14.5ms\n",
            "Speed: 17.0ms preprocess, 14.5ms inference, 0.1ms postprocess per image at shape (1, 3, 256, 256)\n",
            "\n",
            "0: 256x256 Accident 0.55, Non Accident 0.45, 14.5ms\n",
            "Speed: 16.6ms preprocess, 14.5ms inference, 0.1ms postprocess per image at shape (1, 3, 256, 256)\n",
            "\n",
            "0: 256x256 Accident 0.55, Non Accident 0.45, 14.8ms\n",
            "Speed: 17.0ms preprocess, 14.8ms inference, 0.1ms postprocess per image at shape (1, 3, 256, 256)\n",
            "\n",
            "0: 256x256 Accident 0.59, Non Accident 0.41, 14.5ms\n",
            "Speed: 18.0ms preprocess, 14.5ms inference, 0.1ms postprocess per image at shape (1, 3, 256, 256)\n",
            "\n",
            "0: 256x256 Accident 0.56, Non Accident 0.44, 14.6ms\n",
            "Speed: 16.9ms preprocess, 14.6ms inference, 0.1ms postprocess per image at shape (1, 3, 256, 256)\n",
            "\n",
            "0: 256x256 Accident 0.50, Non Accident 0.50, 14.6ms\n",
            "Speed: 18.1ms preprocess, 14.6ms inference, 0.1ms postprocess per image at shape (1, 3, 256, 256)\n",
            "\n",
            "0: 256x256 Accident 0.75, Non Accident 0.25, 14.6ms\n",
            "Speed: 18.6ms preprocess, 14.6ms inference, 0.1ms postprocess per image at shape (1, 3, 256, 256)\n",
            "\n",
            "0: 256x256 Accident 0.70, Non Accident 0.30, 14.6ms\n",
            "Speed: 21.1ms preprocess, 14.6ms inference, 0.1ms postprocess per image at shape (1, 3, 256, 256)\n",
            "\n",
            "0: 256x256 Accident 0.69, Non Accident 0.31, 14.5ms\n",
            "Speed: 18.4ms preprocess, 14.5ms inference, 0.1ms postprocess per image at shape (1, 3, 256, 256)\n",
            "\n",
            "0: 256x256 Accident 0.58, Non Accident 0.42, 14.6ms\n",
            "Speed: 18.0ms preprocess, 14.6ms inference, 0.1ms postprocess per image at shape (1, 3, 256, 256)\n",
            "\n",
            "0: 256x256 Accident 0.59, Non Accident 0.41, 14.6ms\n",
            "Speed: 18.5ms preprocess, 14.6ms inference, 0.1ms postprocess per image at shape (1, 3, 256, 256)\n",
            "\n",
            "0: 256x256 Accident 0.57, Non Accident 0.43, 14.6ms\n",
            "Speed: 17.5ms preprocess, 14.6ms inference, 0.1ms postprocess per image at shape (1, 3, 256, 256)\n",
            "\n",
            "0: 256x256 Accident 0.69, Non Accident 0.31, 14.6ms\n",
            "Speed: 19.0ms preprocess, 14.6ms inference, 0.1ms postprocess per image at shape (1, 3, 256, 256)\n",
            "\n",
            "0: 256x256 Accident 0.60, Non Accident 0.40, 14.6ms\n",
            "Speed: 17.5ms preprocess, 14.6ms inference, 0.1ms postprocess per image at shape (1, 3, 256, 256)\n",
            "\n",
            "0: 256x256 Accident 0.69, Non Accident 0.31, 14.6ms\n",
            "Speed: 18.8ms preprocess, 14.6ms inference, 0.1ms postprocess per image at shape (1, 3, 256, 256)\n",
            "\n",
            "0: 256x256 Accident 0.65, Non Accident 0.35, 14.6ms\n",
            "Speed: 17.9ms preprocess, 14.6ms inference, 0.1ms postprocess per image at shape (1, 3, 256, 256)\n",
            "\n",
            "0: 256x256 Accident 0.65, Non Accident 0.35, 14.6ms\n",
            "Speed: 19.0ms preprocess, 14.6ms inference, 0.1ms postprocess per image at shape (1, 3, 256, 256)\n",
            "\n",
            "0: 256x256 Accident 0.56, Non Accident 0.44, 14.5ms\n",
            "Speed: 28.4ms preprocess, 14.5ms inference, 0.1ms postprocess per image at shape (1, 3, 256, 256)\n",
            "\n",
            "0: 256x256 Accident 0.71, Non Accident 0.29, 14.6ms\n",
            "Speed: 19.3ms preprocess, 14.6ms inference, 0.1ms postprocess per image at shape (1, 3, 256, 256)\n",
            "\n",
            "0: 256x256 Accident 0.91, Non Accident 0.09, 14.6ms\n",
            "Speed: 17.4ms preprocess, 14.6ms inference, 0.1ms postprocess per image at shape (1, 3, 256, 256)\n",
            "\n",
            "0: 256x256 Accident 0.90, Non Accident 0.10, 14.6ms\n",
            "Speed: 17.7ms preprocess, 14.6ms inference, 0.1ms postprocess per image at shape (1, 3, 256, 256)\n",
            "\n",
            "0: 256x256 Accident 0.76, Non Accident 0.24, 14.6ms\n",
            "Speed: 19.5ms preprocess, 14.6ms inference, 0.1ms postprocess per image at shape (1, 3, 256, 256)\n",
            "\n",
            "0: 256x256 Accident 0.67, Non Accident 0.33, 14.6ms\n",
            "Speed: 28.2ms preprocess, 14.6ms inference, 0.1ms postprocess per image at shape (1, 3, 256, 256)\n",
            "\n",
            "0: 256x256 Accident 0.52, Non Accident 0.48, 14.6ms\n",
            "Speed: 19.7ms preprocess, 14.6ms inference, 0.1ms postprocess per image at shape (1, 3, 256, 256)\n",
            "\n",
            "0: 256x256 Non Accident 0.51, Accident 0.49, 14.5ms\n",
            "Speed: 19.0ms preprocess, 14.5ms inference, 0.1ms postprocess per image at shape (1, 3, 256, 256)\n",
            "\n",
            "0: 256x256 Non Accident 0.60, Accident 0.40, 14.5ms\n",
            "Speed: 17.6ms preprocess, 14.5ms inference, 0.1ms postprocess per image at shape (1, 3, 256, 256)\n",
            "\n",
            "0: 256x256 Accident 0.66, Non Accident 0.34, 14.5ms\n",
            "Speed: 26.9ms preprocess, 14.5ms inference, 0.1ms postprocess per image at shape (1, 3, 256, 256)\n",
            "\n",
            "0: 256x256 Accident 0.71, Non Accident 0.29, 14.6ms\n",
            "Speed: 17.4ms preprocess, 14.6ms inference, 0.1ms postprocess per image at shape (1, 3, 256, 256)\n",
            "\n",
            "0: 256x256 Accident 0.64, Non Accident 0.36, 14.6ms\n",
            "Speed: 16.5ms preprocess, 14.6ms inference, 0.1ms postprocess per image at shape (1, 3, 256, 256)\n",
            "\n",
            "0: 256x256 Accident 0.78, Non Accident 0.22, 14.6ms\n",
            "Speed: 16.8ms preprocess, 14.6ms inference, 0.1ms postprocess per image at shape (1, 3, 256, 256)\n",
            "\n",
            "0: 256x256 Accident 0.77, Non Accident 0.23, 14.6ms\n",
            "Speed: 17.7ms preprocess, 14.6ms inference, 0.1ms postprocess per image at shape (1, 3, 256, 256)\n",
            "\n",
            "0: 256x256 Accident 0.65, Non Accident 0.35, 14.6ms\n",
            "Speed: 18.0ms preprocess, 14.6ms inference, 0.1ms postprocess per image at shape (1, 3, 256, 256)\n",
            "\n",
            "0: 256x256 Accident 0.70, Non Accident 0.30, 14.6ms\n",
            "Speed: 19.0ms preprocess, 14.6ms inference, 0.1ms postprocess per image at shape (1, 3, 256, 256)\n",
            "\n",
            "0: 256x256 Accident 0.85, Non Accident 0.15, 14.6ms\n",
            "Speed: 19.4ms preprocess, 14.6ms inference, 0.1ms postprocess per image at shape (1, 3, 256, 256)\n",
            "\n",
            "0: 256x256 Accident 0.94, Non Accident 0.06, 14.6ms\n",
            "Speed: 18.7ms preprocess, 14.6ms inference, 0.1ms postprocess per image at shape (1, 3, 256, 256)\n",
            "\n",
            "0: 256x256 Accident 0.94, Non Accident 0.06, 14.6ms\n",
            "Speed: 18.1ms preprocess, 14.6ms inference, 0.1ms postprocess per image at shape (1, 3, 256, 256)\n",
            "\n",
            "0: 256x256 Accident 0.82, Non Accident 0.18, 14.6ms\n",
            "Speed: 17.7ms preprocess, 14.6ms inference, 0.1ms postprocess per image at shape (1, 3, 256, 256)\n",
            "\n",
            "0: 256x256 Accident 0.82, Non Accident 0.18, 14.6ms\n",
            "Speed: 17.2ms preprocess, 14.6ms inference, 0.1ms postprocess per image at shape (1, 3, 256, 256)\n",
            "\n",
            "0: 256x256 Accident 0.88, Non Accident 0.12, 14.5ms\n",
            "Speed: 18.1ms preprocess, 14.5ms inference, 0.1ms postprocess per image at shape (1, 3, 256, 256)\n",
            "\n",
            "0: 256x256 Accident 0.78, Non Accident 0.22, 14.6ms\n",
            "Speed: 20.9ms preprocess, 14.6ms inference, 0.1ms postprocess per image at shape (1, 3, 256, 256)\n",
            "\n",
            "0: 256x256 Accident 0.77, Non Accident 0.23, 14.6ms\n",
            "Speed: 17.6ms preprocess, 14.6ms inference, 0.1ms postprocess per image at shape (1, 3, 256, 256)\n",
            "\n",
            "0: 256x256 Accident 0.76, Non Accident 0.24, 14.6ms\n",
            "Speed: 18.8ms preprocess, 14.6ms inference, 0.1ms postprocess per image at shape (1, 3, 256, 256)\n",
            "\n",
            "0: 256x256 Accident 0.88, Non Accident 0.12, 14.7ms\n",
            "Speed: 26.0ms preprocess, 14.7ms inference, 0.1ms postprocess per image at shape (1, 3, 256, 256)\n",
            "\n",
            "0: 256x256 Accident 0.84, Non Accident 0.16, 14.5ms\n",
            "Speed: 17.8ms preprocess, 14.5ms inference, 0.1ms postprocess per image at shape (1, 3, 256, 256)\n",
            "\n",
            "0: 256x256 Accident 0.86, Non Accident 0.14, 14.5ms\n",
            "Speed: 17.6ms preprocess, 14.5ms inference, 0.1ms postprocess per image at shape (1, 3, 256, 256)\n",
            "\n",
            "0: 256x256 Accident 0.89, Non Accident 0.11, 14.6ms\n",
            "Speed: 18.3ms preprocess, 14.6ms inference, 0.1ms postprocess per image at shape (1, 3, 256, 256)\n",
            "\n",
            "0: 256x256 Accident 0.78, Non Accident 0.22, 14.5ms\n",
            "Speed: 16.9ms preprocess, 14.5ms inference, 0.1ms postprocess per image at shape (1, 3, 256, 256)\n",
            "\n",
            "0: 256x256 Accident 0.81, Non Accident 0.19, 14.5ms\n",
            "Speed: 17.1ms preprocess, 14.5ms inference, 0.1ms postprocess per image at shape (1, 3, 256, 256)\n",
            "\n",
            "0: 256x256 Accident 0.81, Non Accident 0.19, 14.5ms\n",
            "Speed: 17.4ms preprocess, 14.5ms inference, 0.1ms postprocess per image at shape (1, 3, 256, 256)\n",
            "\n",
            "0: 256x256 Accident 0.76, Non Accident 0.24, 14.5ms\n",
            "Speed: 16.6ms preprocess, 14.5ms inference, 0.1ms postprocess per image at shape (1, 3, 256, 256)\n",
            "\n",
            "0: 256x256 Accident 0.82, Non Accident 0.18, 14.5ms\n",
            "Speed: 16.9ms preprocess, 14.5ms inference, 0.1ms postprocess per image at shape (1, 3, 256, 256)\n",
            "\n",
            "0: 256x256 Accident 0.85, Non Accident 0.15, 14.7ms\n",
            "Speed: 25.5ms preprocess, 14.7ms inference, 0.1ms postprocess per image at shape (1, 3, 256, 256)\n",
            "\n",
            "0: 256x256 Accident 0.84, Non Accident 0.16, 14.6ms\n",
            "Speed: 18.5ms preprocess, 14.6ms inference, 0.1ms postprocess per image at shape (1, 3, 256, 256)\n",
            "\n",
            "0: 256x256 Accident 0.88, Non Accident 0.12, 14.6ms\n",
            "Speed: 18.8ms preprocess, 14.6ms inference, 0.1ms postprocess per image at shape (1, 3, 256, 256)\n",
            "\n",
            "0: 256x256 Accident 0.83, Non Accident 0.17, 14.6ms\n",
            "Speed: 19.2ms preprocess, 14.6ms inference, 0.1ms postprocess per image at shape (1, 3, 256, 256)\n",
            "\n",
            "0: 256x256 Accident 0.73, Non Accident 0.27, 14.7ms\n",
            "Speed: 25.2ms preprocess, 14.7ms inference, 0.1ms postprocess per image at shape (1, 3, 256, 256)\n",
            "\n",
            "0: 256x256 Accident 0.71, Non Accident 0.29, 14.6ms\n",
            "Speed: 18.2ms preprocess, 14.6ms inference, 0.1ms postprocess per image at shape (1, 3, 256, 256)\n",
            "\n",
            "0: 256x256 Accident 0.81, Non Accident 0.19, 14.6ms\n",
            "Speed: 18.9ms preprocess, 14.6ms inference, 0.1ms postprocess per image at shape (1, 3, 256, 256)\n",
            "\n",
            "0: 256x256 Accident 0.66, Non Accident 0.34, 14.6ms\n",
            "Speed: 22.7ms preprocess, 14.6ms inference, 0.1ms postprocess per image at shape (1, 3, 256, 256)\n",
            "\n",
            "0: 256x256 Accident 0.56, Non Accident 0.44, 14.6ms\n",
            "Speed: 20.0ms preprocess, 14.6ms inference, 0.1ms postprocess per image at shape (1, 3, 256, 256)\n",
            "\n",
            "0: 256x256 Non Accident 0.59, Accident 0.41, 14.6ms\n",
            "Speed: 17.6ms preprocess, 14.6ms inference, 0.1ms postprocess per image at shape (1, 3, 256, 256)\n",
            "\n",
            "0: 256x256 Non Accident 0.67, Accident 0.33, 14.6ms\n",
            "Speed: 19.0ms preprocess, 14.6ms inference, 0.1ms postprocess per image at shape (1, 3, 256, 256)\n",
            "\n",
            "0: 256x256 Non Accident 0.56, Accident 0.44, 14.6ms\n",
            "Speed: 18.1ms preprocess, 14.6ms inference, 0.1ms postprocess per image at shape (1, 3, 256, 256)\n",
            "\n",
            "0: 256x256 Accident 0.52, Non Accident 0.48, 14.6ms\n",
            "Speed: 18.3ms preprocess, 14.6ms inference, 0.1ms postprocess per image at shape (1, 3, 256, 256)\n",
            "\n",
            "0: 256x256 Accident 0.55, Non Accident 0.45, 14.5ms\n",
            "Speed: 18.3ms preprocess, 14.5ms inference, 0.1ms postprocess per image at shape (1, 3, 256, 256)\n",
            "\n",
            "0: 256x256 Accident 0.50, Non Accident 0.50, 14.6ms\n",
            "Speed: 25.2ms preprocess, 14.6ms inference, 0.1ms postprocess per image at shape (1, 3, 256, 256)\n",
            "\n",
            "0: 256x256 Accident 0.54, Non Accident 0.46, 14.6ms\n",
            "Speed: 17.2ms preprocess, 14.6ms inference, 0.1ms postprocess per image at shape (1, 3, 256, 256)\n",
            "\n",
            "0: 256x256 Accident 0.55, Non Accident 0.45, 14.6ms\n",
            "Speed: 18.4ms preprocess, 14.6ms inference, 0.1ms postprocess per image at shape (1, 3, 256, 256)\n",
            "\n",
            "0: 256x256 Accident 0.55, Non Accident 0.45, 14.7ms\n",
            "Speed: 18.8ms preprocess, 14.7ms inference, 0.1ms postprocess per image at shape (1, 3, 256, 256)\n",
            "\n",
            "0: 256x256 Accident 0.55, Non Accident 0.45, 14.7ms\n",
            "Speed: 24.7ms preprocess, 14.7ms inference, 0.1ms postprocess per image at shape (1, 3, 256, 256)\n",
            "\n",
            "0: 256x256 Accident 0.57, Non Accident 0.43, 14.6ms\n",
            "Speed: 18.3ms preprocess, 14.6ms inference, 0.1ms postprocess per image at shape (1, 3, 256, 256)\n",
            "\n",
            "0: 256x256 Non Accident 0.58, Accident 0.42, 14.6ms\n",
            "Speed: 18.0ms preprocess, 14.6ms inference, 0.1ms postprocess per image at shape (1, 3, 256, 256)\n",
            "\n",
            "0: 256x256 Non Accident 0.66, Accident 0.34, 14.6ms\n",
            "Speed: 18.0ms preprocess, 14.6ms inference, 0.1ms postprocess per image at shape (1, 3, 256, 256)\n",
            "\n",
            "0: 256x256 Non Accident 0.59, Accident 0.41, 14.6ms\n",
            "Speed: 18.9ms preprocess, 14.6ms inference, 0.1ms postprocess per image at shape (1, 3, 256, 256)\n",
            "\n",
            "0: 256x256 Non Accident 0.61, Accident 0.39, 14.6ms\n",
            "Speed: 25.5ms preprocess, 14.6ms inference, 0.1ms postprocess per image at shape (1, 3, 256, 256)\n",
            "\n",
            "0: 256x256 Accident 0.50, Non Accident 0.50, 14.5ms\n",
            "Speed: 17.8ms preprocess, 14.5ms inference, 0.0ms postprocess per image at shape (1, 3, 256, 256)\n",
            "\n",
            "0: 256x256 Accident 0.53, Non Accident 0.47, 14.6ms\n",
            "Speed: 19.0ms preprocess, 14.6ms inference, 0.1ms postprocess per image at shape (1, 3, 256, 256)\n",
            "\n",
            "0: 256x256 Accident 0.54, Non Accident 0.46, 14.6ms\n",
            "Speed: 18.7ms preprocess, 14.6ms inference, 0.1ms postprocess per image at shape (1, 3, 256, 256)\n",
            "\n",
            "0: 256x256 Accident 0.56, Non Accident 0.44, 14.5ms\n",
            "Speed: 23.5ms preprocess, 14.5ms inference, 0.1ms postprocess per image at shape (1, 3, 256, 256)\n",
            "\n",
            "0: 256x256 Accident 0.60, Non Accident 0.40, 14.6ms\n",
            "Speed: 17.2ms preprocess, 14.6ms inference, 0.1ms postprocess per image at shape (1, 3, 256, 256)\n",
            "\n",
            "0: 256x256 Accident 0.55, Non Accident 0.45, 14.6ms\n",
            "Speed: 17.5ms preprocess, 14.6ms inference, 0.1ms postprocess per image at shape (1, 3, 256, 256)\n",
            "\n",
            "0: 256x256 Accident 0.50, Non Accident 0.50, 14.6ms\n",
            "Speed: 17.9ms preprocess, 14.6ms inference, 0.1ms postprocess per image at shape (1, 3, 256, 256)\n",
            "\n",
            "0: 256x256 Non Accident 0.50, Accident 0.50, 14.6ms\n",
            "Speed: 17.8ms preprocess, 14.6ms inference, 0.1ms postprocess per image at shape (1, 3, 256, 256)\n",
            "\n",
            "0: 256x256 Non Accident 0.58, Accident 0.42, 14.7ms\n",
            "Speed: 26.2ms preprocess, 14.7ms inference, 0.1ms postprocess per image at shape (1, 3, 256, 256)\n",
            "\n",
            "0: 256x256 Non Accident 0.58, Accident 0.42, 14.6ms\n",
            "Speed: 26.6ms preprocess, 14.6ms inference, 0.1ms postprocess per image at shape (1, 3, 256, 256)\n",
            "\n",
            "0: 256x256 Non Accident 0.53, Accident 0.47, 14.6ms\n",
            "Speed: 20.1ms preprocess, 14.6ms inference, 0.1ms postprocess per image at shape (1, 3, 256, 256)\n",
            "\n",
            "0: 256x256 Non Accident 0.60, Accident 0.40, 14.6ms\n",
            "Speed: 18.2ms preprocess, 14.6ms inference, 0.1ms postprocess per image at shape (1, 3, 256, 256)\n",
            "\n",
            "0: 256x256 Non Accident 0.57, Accident 0.43, 14.5ms\n",
            "Speed: 17.4ms preprocess, 14.5ms inference, 0.1ms postprocess per image at shape (1, 3, 256, 256)\n",
            "\n",
            "0: 256x256 Non Accident 0.67, Accident 0.33, 14.6ms\n",
            "Speed: 17.8ms preprocess, 14.6ms inference, 0.1ms postprocess per image at shape (1, 3, 256, 256)\n",
            "\n",
            "0: 256x256 Non Accident 0.59, Accident 0.41, 14.6ms\n",
            "Speed: 26.6ms preprocess, 14.6ms inference, 0.1ms postprocess per image at shape (1, 3, 256, 256)\n",
            "\n",
            "0: 256x256 Non Accident 0.65, Accident 0.35, 14.6ms\n",
            "Speed: 21.6ms preprocess, 14.6ms inference, 0.1ms postprocess per image at shape (1, 3, 256, 256)\n",
            "\n",
            "0: 256x256 Accident 0.51, Non Accident 0.49, 14.6ms\n",
            "Speed: 21.8ms preprocess, 14.6ms inference, 0.1ms postprocess per image at shape (1, 3, 256, 256)\n",
            "\n",
            "0: 256x256 Accident 0.62, Non Accident 0.38, 14.6ms\n",
            "Speed: 18.7ms preprocess, 14.6ms inference, 0.1ms postprocess per image at shape (1, 3, 256, 256)\n",
            "\n",
            "0: 256x256 Non Accident 0.57, Accident 0.43, 14.6ms\n",
            "Speed: 19.1ms preprocess, 14.6ms inference, 0.1ms postprocess per image at shape (1, 3, 256, 256)\n",
            "\n",
            "0: 256x256 Non Accident 0.58, Accident 0.42, 14.6ms\n",
            "Speed: 17.9ms preprocess, 14.6ms inference, 0.1ms postprocess per image at shape (1, 3, 256, 256)\n",
            "\n",
            "0: 256x256 Non Accident 0.62, Accident 0.38, 14.6ms\n",
            "Speed: 18.5ms preprocess, 14.6ms inference, 0.1ms postprocess per image at shape (1, 3, 256, 256)\n",
            "\n",
            "0: 256x256 Non Accident 0.58, Accident 0.42, 14.5ms\n",
            "Speed: 16.7ms preprocess, 14.5ms inference, 0.1ms postprocess per image at shape (1, 3, 256, 256)\n",
            "\n",
            "0: 256x256 Non Accident 0.56, Accident 0.44, 14.5ms\n",
            "Speed: 18.8ms preprocess, 14.5ms inference, 0.1ms postprocess per image at shape (1, 3, 256, 256)\n",
            "\n",
            "0: 256x256 Non Accident 0.57, Accident 0.43, 14.6ms\n",
            "Speed: 16.8ms preprocess, 14.6ms inference, 0.1ms postprocess per image at shape (1, 3, 256, 256)\n",
            "\n",
            "0: 256x256 Non Accident 0.60, Accident 0.40, 14.5ms\n",
            "Speed: 17.3ms preprocess, 14.5ms inference, 0.0ms postprocess per image at shape (1, 3, 256, 256)\n",
            "\n",
            "0: 256x256 Non Accident 0.58, Accident 0.42, 14.5ms\n",
            "Speed: 17.6ms preprocess, 14.5ms inference, 0.1ms postprocess per image at shape (1, 3, 256, 256)\n",
            "\n",
            "0: 256x256 Non Accident 0.55, Accident 0.45, 14.5ms\n",
            "Speed: 16.3ms preprocess, 14.5ms inference, 0.0ms postprocess per image at shape (1, 3, 256, 256)\n",
            "\n",
            "0: 256x256 Non Accident 0.64, Accident 0.36, 14.6ms\n",
            "Speed: 17.9ms preprocess, 14.6ms inference, 0.1ms postprocess per image at shape (1, 3, 256, 256)\n",
            "\n",
            "0: 256x256 Non Accident 0.70, Accident 0.30, 14.5ms\n",
            "Speed: 19.3ms preprocess, 14.5ms inference, 0.1ms postprocess per image at shape (1, 3, 256, 256)\n",
            "\n",
            "0: 256x256 Non Accident 0.69, Accident 0.31, 14.5ms\n",
            "Speed: 16.6ms preprocess, 14.5ms inference, 0.1ms postprocess per image at shape (1, 3, 256, 256)\n",
            "\n",
            "0: 256x256 Non Accident 0.63, Accident 0.37, 14.6ms\n",
            "Speed: 17.1ms preprocess, 14.6ms inference, 0.1ms postprocess per image at shape (1, 3, 256, 256)\n",
            "\n",
            "0: 256x256 Non Accident 0.59, Accident 0.41, 14.6ms\n",
            "Speed: 16.9ms preprocess, 14.6ms inference, 0.1ms postprocess per image at shape (1, 3, 256, 256)\n",
            "\n",
            "0: 256x256 Non Accident 0.62, Accident 0.38, 14.6ms\n",
            "Speed: 17.4ms preprocess, 14.6ms inference, 0.1ms postprocess per image at shape (1, 3, 256, 256)\n",
            "\n",
            "0: 256x256 Non Accident 0.64, Accident 0.36, 14.6ms\n",
            "Speed: 19.0ms preprocess, 14.6ms inference, 0.1ms postprocess per image at shape (1, 3, 256, 256)\n",
            "\n",
            "0: 256x256 Non Accident 0.67, Accident 0.33, 14.6ms\n",
            "Speed: 17.6ms preprocess, 14.6ms inference, 0.1ms postprocess per image at shape (1, 3, 256, 256)\n",
            "\n",
            "0: 256x256 Non Accident 0.71, Accident 0.29, 14.6ms\n",
            "Speed: 17.4ms preprocess, 14.6ms inference, 0.1ms postprocess per image at shape (1, 3, 256, 256)\n",
            "\n",
            "0: 256x256 Non Accident 0.67, Accident 0.33, 14.5ms\n",
            "Speed: 17.5ms preprocess, 14.5ms inference, 0.1ms postprocess per image at shape (1, 3, 256, 256)\n",
            "\n",
            "0: 256x256 Non Accident 0.64, Accident 0.36, 14.6ms\n",
            "Speed: 17.0ms preprocess, 14.6ms inference, 0.0ms postprocess per image at shape (1, 3, 256, 256)\n",
            "\n",
            "0: 256x256 Non Accident 0.65, Accident 0.35, 14.6ms\n",
            "Speed: 17.6ms preprocess, 14.6ms inference, 0.1ms postprocess per image at shape (1, 3, 256, 256)\n",
            "\n",
            "0: 256x256 Non Accident 0.61, Accident 0.39, 14.5ms\n",
            "Speed: 19.2ms preprocess, 14.5ms inference, 0.1ms postprocess per image at shape (1, 3, 256, 256)\n",
            "\n",
            "0: 256x256 Non Accident 0.61, Accident 0.39, 14.6ms\n",
            "Speed: 17.5ms preprocess, 14.6ms inference, 0.1ms postprocess per image at shape (1, 3, 256, 256)\n",
            "\n",
            "0: 256x256 Non Accident 0.61, Accident 0.39, 14.5ms\n",
            "Speed: 16.7ms preprocess, 14.5ms inference, 0.1ms postprocess per image at shape (1, 3, 256, 256)\n",
            "\n",
            "0: 256x256 Non Accident 0.61, Accident 0.39, 14.6ms\n",
            "Speed: 16.7ms preprocess, 14.6ms inference, 0.1ms postprocess per image at shape (1, 3, 256, 256)\n",
            "\n",
            "0: 256x256 Non Accident 0.62, Accident 0.38, 14.5ms\n",
            "Speed: 18.2ms preprocess, 14.5ms inference, 0.1ms postprocess per image at shape (1, 3, 256, 256)\n",
            "\n",
            "0: 256x256 Non Accident 0.57, Accident 0.43, 14.5ms\n",
            "Speed: 16.6ms preprocess, 14.5ms inference, 0.1ms postprocess per image at shape (1, 3, 256, 256)\n",
            "\n",
            "0: 256x256 Non Accident 0.58, Accident 0.42, 14.6ms\n",
            "Speed: 17.1ms preprocess, 14.6ms inference, 0.1ms postprocess per image at shape (1, 3, 256, 256)\n",
            "\n",
            "0: 256x256 Non Accident 0.59, Accident 0.41, 14.6ms\n",
            "Speed: 17.3ms preprocess, 14.6ms inference, 0.1ms postprocess per image at shape (1, 3, 256, 256)\n",
            "\n",
            "0: 256x256 Non Accident 0.60, Accident 0.40, 14.6ms\n",
            "Speed: 16.8ms preprocess, 14.6ms inference, 0.1ms postprocess per image at shape (1, 3, 256, 256)\n",
            "\n",
            "0: 256x256 Non Accident 0.57, Accident 0.43, 14.6ms\n",
            "Speed: 17.8ms preprocess, 14.6ms inference, 0.1ms postprocess per image at shape (1, 3, 256, 256)\n",
            "\n",
            "0: 256x256 Non Accident 0.61, Accident 0.39, 14.6ms\n",
            "Speed: 17.9ms preprocess, 14.6ms inference, 0.1ms postprocess per image at shape (1, 3, 256, 256)\n",
            "\n",
            "0: 256x256 Non Accident 0.63, Accident 0.37, 14.5ms\n",
            "Speed: 17.0ms preprocess, 14.5ms inference, 0.1ms postprocess per image at shape (1, 3, 256, 256)\n",
            "\n",
            "0: 256x256 Non Accident 0.63, Accident 0.37, 14.6ms\n",
            "Speed: 18.9ms preprocess, 14.6ms inference, 0.1ms postprocess per image at shape (1, 3, 256, 256)\n",
            "\n",
            "0: 256x256 Non Accident 0.63, Accident 0.37, 14.8ms\n",
            "Speed: 19.7ms preprocess, 14.8ms inference, 0.1ms postprocess per image at shape (1, 3, 256, 256)\n",
            "\n",
            "0: 256x256 Non Accident 0.63, Accident 0.37, 14.5ms\n",
            "Speed: 17.4ms preprocess, 14.5ms inference, 0.0ms postprocess per image at shape (1, 3, 256, 256)\n",
            "\n",
            "0: 256x256 Non Accident 0.64, Accident 0.36, 14.6ms\n",
            "Speed: 17.3ms preprocess, 14.6ms inference, 0.1ms postprocess per image at shape (1, 3, 256, 256)\n",
            "\n",
            "0: 256x256 Non Accident 0.60, Accident 0.40, 14.6ms\n",
            "Speed: 17.4ms preprocess, 14.6ms inference, 0.1ms postprocess per image at shape (1, 3, 256, 256)\n",
            "\n",
            "0: 256x256 Non Accident 0.63, Accident 0.37, 14.5ms\n",
            "Speed: 17.6ms preprocess, 14.5ms inference, 0.1ms postprocess per image at shape (1, 3, 256, 256)\n",
            "\n",
            "0: 256x256 Non Accident 0.61, Accident 0.39, 14.5ms\n",
            "Speed: 17.0ms preprocess, 14.5ms inference, 0.1ms postprocess per image at shape (1, 3, 256, 256)\n",
            "\n",
            "0: 256x256 Non Accident 0.52, Accident 0.48, 14.5ms\n",
            "Speed: 16.8ms preprocess, 14.5ms inference, 0.1ms postprocess per image at shape (1, 3, 256, 256)\n",
            "\n",
            "0: 256x256 Accident 0.51, Non Accident 0.49, 14.5ms\n",
            "Speed: 17.7ms preprocess, 14.5ms inference, 0.1ms postprocess per image at shape (1, 3, 256, 256)\n",
            "\n",
            "0: 256x256 Accident 0.51, Non Accident 0.49, 14.6ms\n",
            "Speed: 19.2ms preprocess, 14.6ms inference, 0.1ms postprocess per image at shape (1, 3, 256, 256)\n",
            "\n",
            "0: 256x256 Non Accident 0.55, Accident 0.45, 14.5ms\n",
            "Speed: 16.6ms preprocess, 14.5ms inference, 0.1ms postprocess per image at shape (1, 3, 256, 256)\n",
            "\n",
            "0: 256x256 Non Accident 0.56, Accident 0.44, 14.5ms\n",
            "Speed: 17.0ms preprocess, 14.5ms inference, 0.1ms postprocess per image at shape (1, 3, 256, 256)\n",
            "\n",
            "0: 256x256 Non Accident 0.59, Accident 0.41, 14.6ms\n",
            "Speed: 16.8ms preprocess, 14.6ms inference, 0.1ms postprocess per image at shape (1, 3, 256, 256)\n",
            "\n",
            "0: 256x256 Non Accident 0.60, Accident 0.40, 14.5ms\n",
            "Speed: 16.5ms preprocess, 14.5ms inference, 0.1ms postprocess per image at shape (1, 3, 256, 256)\n",
            "\n",
            "0: 256x256 Non Accident 0.62, Accident 0.38, 14.5ms\n",
            "Speed: 18.2ms preprocess, 14.5ms inference, 0.1ms postprocess per image at shape (1, 3, 256, 256)\n",
            "\n",
            "0: 256x256 Non Accident 0.65, Accident 0.35, 14.5ms\n",
            "Speed: 17.7ms preprocess, 14.5ms inference, 0.1ms postprocess per image at shape (1, 3, 256, 256)\n",
            "\n",
            "0: 256x256 Non Accident 0.66, Accident 0.34, 14.5ms\n",
            "Speed: 16.6ms preprocess, 14.5ms inference, 0.1ms postprocess per image at shape (1, 3, 256, 256)\n",
            "\n",
            "0: 256x256 Non Accident 0.66, Accident 0.34, 14.5ms\n",
            "Speed: 17.3ms preprocess, 14.5ms inference, 0.1ms postprocess per image at shape (1, 3, 256, 256)\n",
            "\n",
            "0: 256x256 Non Accident 0.65, Accident 0.35, 14.6ms\n",
            "Speed: 17.8ms preprocess, 14.6ms inference, 0.1ms postprocess per image at shape (1, 3, 256, 256)\n",
            "\n",
            "0: 256x256 Non Accident 0.65, Accident 0.35, 14.5ms\n",
            "Speed: 17.3ms preprocess, 14.5ms inference, 0.1ms postprocess per image at shape (1, 3, 256, 256)\n",
            "\n",
            "0: 256x256 Non Accident 0.64, Accident 0.36, 14.6ms\n",
            "Speed: 18.6ms preprocess, 14.6ms inference, 0.1ms postprocess per image at shape (1, 3, 256, 256)\n",
            "\n",
            "0: 256x256 Non Accident 0.67, Accident 0.33, 14.5ms\n",
            "Speed: 17.4ms preprocess, 14.5ms inference, 0.1ms postprocess per image at shape (1, 3, 256, 256)\n",
            "\n",
            "0: 256x256 Non Accident 0.66, Accident 0.34, 14.6ms\n",
            "Speed: 17.7ms preprocess, 14.6ms inference, 0.0ms postprocess per image at shape (1, 3, 256, 256)\n",
            "\n",
            "0: 256x256 Non Accident 0.71, Accident 0.29, 14.5ms\n",
            "Speed: 17.7ms preprocess, 14.5ms inference, 0.0ms postprocess per image at shape (1, 3, 256, 256)\n",
            "\n",
            "0: 256x256 Non Accident 0.71, Accident 0.29, 14.5ms\n",
            "Speed: 17.8ms preprocess, 14.5ms inference, 0.1ms postprocess per image at shape (1, 3, 256, 256)\n",
            "\n",
            "0: 256x256 Non Accident 0.78, Accident 0.22, 14.5ms\n",
            "Speed: 16.5ms preprocess, 14.5ms inference, 0.0ms postprocess per image at shape (1, 3, 256, 256)\n",
            "\n",
            "0: 256x256 Non Accident 0.78, Accident 0.22, 14.5ms\n",
            "Speed: 16.8ms preprocess, 14.5ms inference, 0.1ms postprocess per image at shape (1, 3, 256, 256)\n",
            "\n",
            "0: 256x256 Non Accident 0.80, Accident 0.20, 14.6ms\n",
            "Speed: 17.3ms preprocess, 14.6ms inference, 0.1ms postprocess per image at shape (1, 3, 256, 256)\n",
            "\n",
            "0: 256x256 Non Accident 0.78, Accident 0.22, 14.6ms\n",
            "Speed: 16.8ms preprocess, 14.6ms inference, 0.1ms postprocess per image at shape (1, 3, 256, 256)\n",
            "\n",
            "0: 256x256 Non Accident 0.80, Accident 0.20, 14.5ms\n",
            "Speed: 16.1ms preprocess, 14.5ms inference, 0.1ms postprocess per image at shape (1, 3, 256, 256)\n",
            "\n",
            "0: 256x256 Non Accident 0.89, Accident 0.11, 14.5ms\n",
            "Speed: 18.4ms preprocess, 14.5ms inference, 0.1ms postprocess per image at shape (1, 3, 256, 256)\n",
            "\n",
            "0: 256x256 Non Accident 0.89, Accident 0.11, 14.8ms\n",
            "Speed: 17.7ms preprocess, 14.8ms inference, 0.1ms postprocess per image at shape (1, 3, 256, 256)\n",
            "\n",
            "0: 256x256 Non Accident 0.82, Accident 0.18, 14.5ms\n",
            "Speed: 16.6ms preprocess, 14.5ms inference, 0.1ms postprocess per image at shape (1, 3, 256, 256)\n",
            "\n",
            "0: 256x256 Non Accident 0.87, Accident 0.13, 14.6ms\n",
            "Speed: 16.9ms preprocess, 14.6ms inference, 0.1ms postprocess per image at shape (1, 3, 256, 256)\n",
            "\n",
            "0: 256x256 Non Accident 0.86, Accident 0.14, 14.6ms\n",
            "Speed: 19.5ms preprocess, 14.6ms inference, 0.1ms postprocess per image at shape (1, 3, 256, 256)\n",
            "\n",
            "0: 256x256 Non Accident 0.83, Accident 0.17, 14.6ms\n",
            "Speed: 17.5ms preprocess, 14.6ms inference, 0.1ms postprocess per image at shape (1, 3, 256, 256)\n",
            "\n",
            "0: 256x256 Non Accident 0.83, Accident 0.17, 14.5ms\n",
            "Speed: 17.2ms preprocess, 14.5ms inference, 0.1ms postprocess per image at shape (1, 3, 256, 256)\n",
            "\n",
            "0: 256x256 Non Accident 0.84, Accident 0.16, 14.6ms\n",
            "Speed: 18.3ms preprocess, 14.6ms inference, 0.1ms postprocess per image at shape (1, 3, 256, 256)\n",
            "\n",
            "0: 256x256 Non Accident 0.78, Accident 0.22, 14.5ms\n",
            "Speed: 16.8ms preprocess, 14.5ms inference, 0.1ms postprocess per image at shape (1, 3, 256, 256)\n",
            "\n",
            "0: 256x256 Non Accident 0.81, Accident 0.19, 14.6ms\n",
            "Speed: 19.2ms preprocess, 14.6ms inference, 0.1ms postprocess per image at shape (1, 3, 256, 256)\n",
            "\n",
            "0: 256x256 Non Accident 0.82, Accident 0.18, 14.5ms\n",
            "Speed: 17.0ms preprocess, 14.5ms inference, 0.1ms postprocess per image at shape (1, 3, 256, 256)\n",
            "\n",
            "0: 256x256 Non Accident 0.83, Accident 0.17, 14.6ms\n",
            "Speed: 17.2ms preprocess, 14.6ms inference, 0.1ms postprocess per image at shape (1, 3, 256, 256)\n",
            "\n",
            "0: 256x256 Non Accident 0.77, Accident 0.23, 14.5ms\n",
            "Speed: 17.0ms preprocess, 14.5ms inference, 0.1ms postprocess per image at shape (1, 3, 256, 256)\n",
            "\n",
            "0: 256x256 Non Accident 0.78, Accident 0.22, 14.5ms\n",
            "Speed: 17.1ms preprocess, 14.5ms inference, 0.1ms postprocess per image at shape (1, 3, 256, 256)\n",
            "\n",
            "0: 256x256 Non Accident 0.75, Accident 0.25, 14.6ms\n",
            "Speed: 17.2ms preprocess, 14.6ms inference, 0.1ms postprocess per image at shape (1, 3, 256, 256)\n",
            "\n",
            "0: 256x256 Non Accident 0.70, Accident 0.30, 14.6ms\n",
            "Speed: 16.9ms preprocess, 14.6ms inference, 0.1ms postprocess per image at shape (1, 3, 256, 256)\n",
            "\n",
            "0: 256x256 Non Accident 0.74, Accident 0.26, 14.5ms\n",
            "Speed: 16.9ms preprocess, 14.5ms inference, 0.1ms postprocess per image at shape (1, 3, 256, 256)\n",
            "\n",
            "0: 256x256 Non Accident 0.75, Accident 0.25, 14.6ms\n",
            "Speed: 19.3ms preprocess, 14.6ms inference, 0.1ms postprocess per image at shape (1, 3, 256, 256)\n",
            "\n",
            "0: 256x256 Non Accident 0.66, Accident 0.34, 14.5ms\n",
            "Speed: 17.3ms preprocess, 14.5ms inference, 0.1ms postprocess per image at shape (1, 3, 256, 256)\n",
            "\n",
            "0: 256x256 Non Accident 0.60, Accident 0.40, 14.6ms\n",
            "Speed: 17.3ms preprocess, 14.6ms inference, 0.1ms postprocess per image at shape (1, 3, 256, 256)\n",
            "\n",
            "0: 256x256 Non Accident 0.84, Accident 0.16, 14.5ms\n",
            "Speed: 17.1ms preprocess, 14.5ms inference, 0.1ms postprocess per image at shape (1, 3, 256, 256)\n",
            "\n",
            "0: 256x256 Non Accident 0.85, Accident 0.15, 14.5ms\n",
            "Speed: 17.4ms preprocess, 14.5ms inference, 0.1ms postprocess per image at shape (1, 3, 256, 256)\n",
            "\n",
            "0: 256x256 Non Accident 0.88, Accident 0.12, 14.5ms\n",
            "Speed: 17.1ms preprocess, 14.5ms inference, 0.1ms postprocess per image at shape (1, 3, 256, 256)\n",
            "\n",
            "0: 256x256 Non Accident 0.90, Accident 0.10, 14.5ms\n",
            "Speed: 16.8ms preprocess, 14.5ms inference, 0.1ms postprocess per image at shape (1, 3, 256, 256)\n",
            "\n",
            "0: 256x256 Non Accident 0.92, Accident 0.08, 14.6ms\n",
            "Speed: 18.9ms preprocess, 14.6ms inference, 0.1ms postprocess per image at shape (1, 3, 256, 256)\n",
            "\n",
            "0: 256x256 Non Accident 0.84, Accident 0.16, 14.6ms\n",
            "Speed: 18.4ms preprocess, 14.6ms inference, 0.1ms postprocess per image at shape (1, 3, 256, 256)\n",
            "\n",
            "0: 256x256 Non Accident 0.82, Accident 0.18, 14.6ms\n",
            "Speed: 16.7ms preprocess, 14.6ms inference, 0.1ms postprocess per image at shape (1, 3, 256, 256)\n",
            "\n",
            "0: 256x256 Non Accident 0.85, Accident 0.15, 14.5ms\n",
            "Speed: 19.2ms preprocess, 14.5ms inference, 0.1ms postprocess per image at shape (1, 3, 256, 256)\n",
            "\n",
            "0: 256x256 Non Accident 0.81, Accident 0.19, 14.6ms\n",
            "Speed: 17.2ms preprocess, 14.6ms inference, 0.1ms postprocess per image at shape (1, 3, 256, 256)\n",
            "\n",
            "0: 256x256 Non Accident 0.78, Accident 0.22, 14.5ms\n",
            "Speed: 19.3ms preprocess, 14.5ms inference, 0.0ms postprocess per image at shape (1, 3, 256, 256)\n",
            "\n",
            "0: 256x256 Non Accident 0.71, Accident 0.29, 14.6ms\n",
            "Speed: 17.9ms preprocess, 14.6ms inference, 0.1ms postprocess per image at shape (1, 3, 256, 256)\n",
            "\n",
            "0: 256x256 Non Accident 0.70, Accident 0.30, 14.5ms\n",
            "Speed: 17.4ms preprocess, 14.5ms inference, 0.1ms postprocess per image at shape (1, 3, 256, 256)\n",
            "\n",
            "0: 256x256 Non Accident 0.64, Accident 0.36, 14.5ms\n",
            "Speed: 16.2ms preprocess, 14.5ms inference, 0.1ms postprocess per image at shape (1, 3, 256, 256)\n",
            "\n",
            "0: 256x256 Non Accident 0.79, Accident 0.21, 14.5ms\n",
            "Speed: 17.1ms preprocess, 14.5ms inference, 0.1ms postprocess per image at shape (1, 3, 256, 256)\n",
            "\n",
            "0: 256x256 Non Accident 0.67, Accident 0.33, 14.5ms\n",
            "Speed: 17.8ms preprocess, 14.5ms inference, 0.1ms postprocess per image at shape (1, 3, 256, 256)\n",
            "\n",
            "0: 256x256 Non Accident 0.55, Accident 0.45, 14.5ms\n",
            "Speed: 16.9ms preprocess, 14.5ms inference, 0.1ms postprocess per image at shape (1, 3, 256, 256)\n",
            "\n",
            "0: 256x256 Accident 0.58, Non Accident 0.42, 14.5ms\n",
            "Speed: 17.6ms preprocess, 14.5ms inference, 0.1ms postprocess per image at shape (1, 3, 256, 256)\n",
            "\n",
            "0: 256x256 Accident 0.60, Non Accident 0.40, 14.5ms\n",
            "Speed: 17.1ms preprocess, 14.5ms inference, 0.1ms postprocess per image at shape (1, 3, 256, 256)\n",
            "\n",
            "0: 256x256 Non Accident 0.50, Accident 0.50, 14.6ms\n",
            "Speed: 18.0ms preprocess, 14.6ms inference, 0.1ms postprocess per image at shape (1, 3, 256, 256)\n",
            "\n",
            "0: 256x256 Accident 0.51, Non Accident 0.49, 14.6ms\n",
            "Speed: 17.9ms preprocess, 14.6ms inference, 0.1ms postprocess per image at shape (1, 3, 256, 256)\n",
            "\n",
            "0: 256x256 Accident 0.58, Non Accident 0.42, 14.6ms\n",
            "Speed: 18.1ms preprocess, 14.6ms inference, 0.1ms postprocess per image at shape (1, 3, 256, 256)\n",
            "\n",
            "0: 256x256 Non Accident 0.68, Accident 0.32, 14.5ms\n",
            "Speed: 16.6ms preprocess, 14.5ms inference, 0.1ms postprocess per image at shape (1, 3, 256, 256)\n",
            "\n",
            "0: 256x256 Non Accident 0.80, Accident 0.20, 14.6ms\n",
            "Speed: 18.3ms preprocess, 14.6ms inference, 0.1ms postprocess per image at shape (1, 3, 256, 256)\n",
            "\n",
            "0: 256x256 Non Accident 0.92, Accident 0.08, 14.6ms\n",
            "Speed: 18.4ms preprocess, 14.6ms inference, 0.1ms postprocess per image at shape (1, 3, 256, 256)\n",
            "\n",
            "0: 256x256 Non Accident 0.91, Accident 0.09, 14.5ms\n",
            "Speed: 17.3ms preprocess, 14.5ms inference, 0.1ms postprocess per image at shape (1, 3, 256, 256)\n",
            "\n",
            "0: 256x256 Non Accident 0.91, Accident 0.09, 14.5ms\n",
            "Speed: 16.8ms preprocess, 14.5ms inference, 0.1ms postprocess per image at shape (1, 3, 256, 256)\n",
            "\n",
            "0: 256x256 Non Accident 0.88, Accident 0.12, 14.6ms\n",
            "Speed: 17.3ms preprocess, 14.6ms inference, 0.1ms postprocess per image at shape (1, 3, 256, 256)\n",
            "\n",
            "0: 256x256 Non Accident 0.92, Accident 0.08, 14.6ms\n",
            "Speed: 17.2ms preprocess, 14.6ms inference, 0.1ms postprocess per image at shape (1, 3, 256, 256)\n",
            "\n",
            "0: 256x256 Non Accident 0.93, Accident 0.07, 14.5ms\n",
            "Speed: 16.7ms preprocess, 14.5ms inference, 0.1ms postprocess per image at shape (1, 3, 256, 256)\n",
            "\n",
            "0: 256x256 Non Accident 0.95, Accident 0.05, 14.5ms\n",
            "Speed: 16.8ms preprocess, 14.5ms inference, 0.1ms postprocess per image at shape (1, 3, 256, 256)\n",
            "\n",
            "0: 256x256 Non Accident 0.95, Accident 0.05, 14.6ms\n",
            "Speed: 17.8ms preprocess, 14.6ms inference, 0.1ms postprocess per image at shape (1, 3, 256, 256)\n",
            "\n",
            "0: 256x256 Non Accident 0.88, Accident 0.12, 14.6ms\n",
            "Speed: 17.7ms preprocess, 14.6ms inference, 0.1ms postprocess per image at shape (1, 3, 256, 256)\n",
            "\n",
            "0: 256x256 Non Accident 0.85, Accident 0.15, 14.6ms\n",
            "Speed: 17.5ms preprocess, 14.6ms inference, 0.1ms postprocess per image at shape (1, 3, 256, 256)\n",
            "\n",
            "0: 256x256 Non Accident 0.90, Accident 0.10, 14.5ms\n",
            "Speed: 16.8ms preprocess, 14.5ms inference, 0.1ms postprocess per image at shape (1, 3, 256, 256)\n",
            "\n",
            "0: 256x256 Non Accident 0.90, Accident 0.10, 14.5ms\n",
            "Speed: 16.8ms preprocess, 14.5ms inference, 0.0ms postprocess per image at shape (1, 3, 256, 256)\n",
            "\n",
            "0: 256x256 Non Accident 0.82, Accident 0.18, 14.5ms\n",
            "Speed: 17.7ms preprocess, 14.5ms inference, 0.1ms postprocess per image at shape (1, 3, 256, 256)\n",
            "\n",
            "0: 256x256 Non Accident 0.77, Accident 0.23, 14.6ms\n",
            "Speed: 16.7ms preprocess, 14.6ms inference, 0.1ms postprocess per image at shape (1, 3, 256, 256)\n",
            "\n",
            "0: 256x256 Non Accident 0.72, Accident 0.28, 14.5ms\n",
            "Speed: 18.6ms preprocess, 14.5ms inference, 0.1ms postprocess per image at shape (1, 3, 256, 256)\n",
            "\n",
            "0: 256x256 Non Accident 0.68, Accident 0.32, 14.5ms\n",
            "Speed: 17.6ms preprocess, 14.5ms inference, 0.1ms postprocess per image at shape (1, 3, 256, 256)\n",
            "\n",
            "0: 256x256 Non Accident 0.76, Accident 0.24, 14.5ms\n",
            "Speed: 17.2ms preprocess, 14.5ms inference, 0.1ms postprocess per image at shape (1, 3, 256, 256)\n",
            "\n",
            "0: 256x256 Non Accident 0.58, Accident 0.42, 14.5ms\n",
            "Speed: 17.5ms preprocess, 14.5ms inference, 0.1ms postprocess per image at shape (1, 3, 256, 256)\n",
            "\n",
            "0: 256x256 Non Accident 0.65, Accident 0.35, 14.6ms\n",
            "Speed: 18.9ms preprocess, 14.6ms inference, 0.1ms postprocess per image at shape (1, 3, 256, 256)\n",
            "\n",
            "0: 256x256 Non Accident 0.72, Accident 0.28, 14.5ms\n",
            "Speed: 17.5ms preprocess, 14.5ms inference, 0.1ms postprocess per image at shape (1, 3, 256, 256)\n",
            "\n",
            "0: 256x256 Non Accident 0.68, Accident 0.32, 14.6ms\n",
            "Speed: 17.5ms preprocess, 14.6ms inference, 0.1ms postprocess per image at shape (1, 3, 256, 256)\n",
            "\n",
            "0: 256x256 Non Accident 0.68, Accident 0.32, 14.5ms\n",
            "Speed: 18.0ms preprocess, 14.5ms inference, 0.1ms postprocess per image at shape (1, 3, 256, 256)\n",
            "\n",
            "0: 256x256 Non Accident 0.75, Accident 0.25, 14.5ms\n",
            "Speed: 16.7ms preprocess, 14.5ms inference, 0.1ms postprocess per image at shape (1, 3, 256, 256)\n",
            "\n",
            "0: 256x256 Non Accident 0.76, Accident 0.24, 14.5ms\n",
            "Speed: 16.8ms preprocess, 14.5ms inference, 0.1ms postprocess per image at shape (1, 3, 256, 256)\n",
            "\n",
            "0: 256x256 Non Accident 0.72, Accident 0.28, 14.5ms\n",
            "Speed: 16.9ms preprocess, 14.5ms inference, 0.0ms postprocess per image at shape (1, 3, 256, 256)\n",
            "\n",
            "0: 256x256 Non Accident 0.77, Accident 0.23, 14.6ms\n",
            "Speed: 17.1ms preprocess, 14.6ms inference, 0.1ms postprocess per image at shape (1, 3, 256, 256)\n",
            "\n",
            "0: 256x256 Non Accident 0.77, Accident 0.23, 14.5ms\n",
            "Speed: 17.4ms preprocess, 14.5ms inference, 0.1ms postprocess per image at shape (1, 3, 256, 256)\n",
            "\n",
            "0: 256x256 Non Accident 0.76, Accident 0.24, 14.5ms\n",
            "Speed: 17.0ms preprocess, 14.5ms inference, 0.1ms postprocess per image at shape (1, 3, 256, 256)\n",
            "\n",
            "0: 256x256 Non Accident 0.77, Accident 0.23, 14.5ms\n",
            "Speed: 16.8ms preprocess, 14.5ms inference, 0.1ms postprocess per image at shape (1, 3, 256, 256)\n",
            "\n",
            "0: 256x256 Non Accident 0.75, Accident 0.25, 14.5ms\n",
            "Speed: 17.1ms preprocess, 14.5ms inference, 0.1ms postprocess per image at shape (1, 3, 256, 256)\n",
            "\n",
            "0: 256x256 Non Accident 0.72, Accident 0.28, 14.6ms\n",
            "Speed: 16.5ms preprocess, 14.6ms inference, 0.1ms postprocess per image at shape (1, 3, 256, 256)\n",
            "\n",
            "0: 256x256 Non Accident 0.74, Accident 0.26, 14.5ms\n",
            "Speed: 17.1ms preprocess, 14.5ms inference, 0.1ms postprocess per image at shape (1, 3, 256, 256)\n",
            "\n",
            "0: 256x256 Non Accident 0.71, Accident 0.29, 14.6ms\n",
            "Speed: 17.8ms preprocess, 14.6ms inference, 0.1ms postprocess per image at shape (1, 3, 256, 256)\n",
            "\n",
            "0: 256x256 Non Accident 0.68, Accident 0.32, 14.6ms\n",
            "Speed: 18.7ms preprocess, 14.6ms inference, 0.1ms postprocess per image at shape (1, 3, 256, 256)\n",
            "\n",
            "0: 256x256 Non Accident 0.72, Accident 0.28, 14.6ms\n",
            "Speed: 21.1ms preprocess, 14.6ms inference, 0.1ms postprocess per image at shape (1, 3, 256, 256)\n",
            "\n",
            "0: 256x256 Non Accident 0.74, Accident 0.26, 14.5ms\n",
            "Speed: 18.0ms preprocess, 14.5ms inference, 0.1ms postprocess per image at shape (1, 3, 256, 256)\n",
            "\n",
            "0: 256x256 Non Accident 0.70, Accident 0.30, 14.6ms\n",
            "Speed: 19.5ms preprocess, 14.6ms inference, 0.1ms postprocess per image at shape (1, 3, 256, 256)\n",
            "\n",
            "0: 256x256 Non Accident 0.73, Accident 0.27, 14.6ms\n",
            "Speed: 16.8ms preprocess, 14.6ms inference, 0.1ms postprocess per image at shape (1, 3, 256, 256)\n",
            "\n",
            "0: 256x256 Non Accident 0.70, Accident 0.30, 14.6ms\n",
            "Speed: 17.9ms preprocess, 14.6ms inference, 0.1ms postprocess per image at shape (1, 3, 256, 256)\n",
            "\n",
            "0: 256x256 Non Accident 0.71, Accident 0.29, 14.6ms\n",
            "Speed: 17.3ms preprocess, 14.6ms inference, 0.1ms postprocess per image at shape (1, 3, 256, 256)\n",
            "\n",
            "0: 256x256 Non Accident 0.70, Accident 0.30, 14.5ms\n",
            "Speed: 17.0ms preprocess, 14.5ms inference, 0.1ms postprocess per image at shape (1, 3, 256, 256)\n",
            "\n",
            "0: 256x256 Non Accident 0.73, Accident 0.27, 14.5ms\n",
            "Speed: 17.0ms preprocess, 14.5ms inference, 0.1ms postprocess per image at shape (1, 3, 256, 256)\n",
            "\n",
            "0: 256x256 Non Accident 0.70, Accident 0.30, 14.6ms\n",
            "Speed: 17.1ms preprocess, 14.6ms inference, 0.1ms postprocess per image at shape (1, 3, 256, 256)\n",
            "\n",
            "0: 256x256 Non Accident 0.68, Accident 0.32, 14.6ms\n",
            "Speed: 17.9ms preprocess, 14.6ms inference, 0.1ms postprocess per image at shape (1, 3, 256, 256)\n"
          ]
        }
      ],
      "source": [
        "from ultralytics import YOLO\n",
        "import cv2\n",
        "\n",
        "model = YOLO(\"/content/runs/classify/train/weights/best.pt\")\n",
        "\n",
        "input_vid_path = \"/content/CCTV_ Truck slams into residential building in NW China, 5 dead.mp4\"\n",
        "output_vid_path = \"/content/output_video-1.mp4\"\n",
        "\n",
        "video_path = cv2.VideoCapture(input_vid_path)\n",
        "\n",
        "fps = int(video_path.get(cv2.CAP_PROP_FPS))\n",
        "width = int(video_path.get(cv2.CAP_PROP_FRAME_WIDTH))\n",
        "height = int(video_path.get(cv2.CAP_PROP_FRAME_HEIGHT))\n",
        "\n",
        "\n",
        "fourcc = cv2.VideoWriter_fourcc(*'XVID')\n",
        "out = cv2.VideoWriter(output_vid_path, fourcc, fps, (width, height))\n",
        "\n",
        "\n",
        "class_colors = {\n",
        "    \"Accident\": (255, 255, 255),\n",
        "    \"Non Accident\": (0, 0, 255)\n",
        "}\n",
        "\n",
        "while True:\n",
        "    ret, frame = video_path.read()\n",
        "\n",
        "    if not ret:\n",
        "        break\n",
        "\n",
        "\n",
        "    results = model.predict(source=frame, show=False, save=False, save_txt=False)\n",
        "\n",
        "    id = results[0].probs.top1\n",
        "    clsName = results[0].names[id]\n",
        "\n",
        "    color = class_colors.get(clsName, (255, 255, 255))\n",
        "\n",
        "    font_scale = width / 600\n",
        "    font_thickness = max(1, int(font_scale))\n",
        "    font = cv2.FONT_HERSHEY_COMPLEX\n",
        "    textSize = cv2.getTextSize(clsName, font, font_scale, font_thickness)[0]\n",
        "    textX = width - textSize[0] - 20\n",
        "    textY = textSize[1] + 20\n",
        "\n",
        "\n",
        "    cv2.putText(frame, clsName, (textX, textY), font, font_scale, color, font_thickness, cv2.LINE_AA)\n",
        "\n",
        "    out.write(frame)\n",
        "\n",
        "out.release()"
      ]
    },
    {
      "cell_type": "code",
      "execution_count": null,
      "metadata": {
        "id": "C-m_KQ73asux"
      },
      "outputs": [],
      "source": [
        "!cp -r /content/runs /content/drive/MyDrive/seoul-impact/yolov8x-1"
      ]
    },
    {
      "cell_type": "markdown",
      "metadata": {
        "id": "JpvWyrCbPejC"
      },
      "source": []
    }
  ],
  "metadata": {
    "accelerator": "GPU",
    "colab": {
      "collapsed_sections": [
        "Pc-FIoSdRae-"
      ],
      "gpuType": "T4",
      "machine_shape": "hm",
      "provenance": []
    },
    "kernelspec": {
      "display_name": "Python 3",
      "name": "python3"
    },
    "language_info": {
      "name": "python"
    }
  },
  "nbformat": 4,
  "nbformat_minor": 0
}
